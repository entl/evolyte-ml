{
 "cells": [
  {
   "cell_type": "code",
   "execution_count": 76,
   "id": "initial_id",
   "metadata": {
    "collapsed": true,
    "jupyter": {
     "outputs_hidden": true
    },
    "ExecuteTime": {
     "end_time": "2024-11-10T16:17:20.749291Z",
     "start_time": "2024-11-10T16:17:20.746236Z"
    }
   },
   "outputs": [],
   "source": [
    "import pandas as pd\n",
    "import plotly.graph_objects as go"
   ]
  },
  {
   "cell_type": "code",
   "execution_count": 77,
   "id": "19f4ef2fb0d11aab",
   "metadata": {
    "collapsed": false,
    "ExecuteTime": {
     "end_time": "2024-11-10T16:17:21.618184Z",
     "start_time": "2024-11-10T16:17:21.606135Z"
    }
   },
   "outputs": [
    {
     "data": {
      "text/plain": "                         name   latitude  longitude  capacity(kw)\n0             ALVERSTON CLOSE  50.812063   0.301925            24\n1              BANCROFT CLOSE  52.191134   0.143331            49\n2               BANKFIELD WAY  51.110636   0.456658            86\n3                CARTERS MEAD  51.759948   0.129666            83\n4        CHAPEL LN GT GLEMHAM  52.212920   1.423789            15\n5   EAST HILLS ROAD COSTESSEY  52.647664   1.209022           116\n6         ELM CRES COLCHESTER  51.891382   0.933065            92\n7               FAIRVIEW ROAD  51.910623  -0.213771            56\n8                 FOREST ROAD  51.887576   0.932686            85\n9            MAPLE DRIVE EAST  51.152506   0.088442            63\n10          OLD MILL NORDELPH  52.569841   0.304487            14\n11            PRIESTHAWES PMT  50.828290   0.278560            23\n12      SOUTHCROFT HETHERSETT  52.595825   1.170558           115\n13     VILLAGE BIRCHAM NEWTON  52.873732   0.626938            18\n14            WARNINGLID LANE  51.026314  -0.231296            23\n15               SUFFOLK ROAD  50.823093  -0.931087            24",
      "text/html": "<div>\n<style scoped>\n    .dataframe tbody tr th:only-of-type {\n        vertical-align: middle;\n    }\n\n    .dataframe tbody tr th {\n        vertical-align: top;\n    }\n\n    .dataframe thead th {\n        text-align: right;\n    }\n</style>\n<table border=\"1\" class=\"dataframe\">\n  <thead>\n    <tr style=\"text-align: right;\">\n      <th></th>\n      <th>name</th>\n      <th>latitude</th>\n      <th>longitude</th>\n      <th>capacity(kw)</th>\n    </tr>\n  </thead>\n  <tbody>\n    <tr>\n      <th>0</th>\n      <td>ALVERSTON CLOSE</td>\n      <td>50.812063</td>\n      <td>0.301925</td>\n      <td>24</td>\n    </tr>\n    <tr>\n      <th>1</th>\n      <td>BANCROFT CLOSE</td>\n      <td>52.191134</td>\n      <td>0.143331</td>\n      <td>49</td>\n    </tr>\n    <tr>\n      <th>2</th>\n      <td>BANKFIELD WAY</td>\n      <td>51.110636</td>\n      <td>0.456658</td>\n      <td>86</td>\n    </tr>\n    <tr>\n      <th>3</th>\n      <td>CARTERS MEAD</td>\n      <td>51.759948</td>\n      <td>0.129666</td>\n      <td>83</td>\n    </tr>\n    <tr>\n      <th>4</th>\n      <td>CHAPEL LN GT GLEMHAM</td>\n      <td>52.212920</td>\n      <td>1.423789</td>\n      <td>15</td>\n    </tr>\n    <tr>\n      <th>5</th>\n      <td>EAST HILLS ROAD COSTESSEY</td>\n      <td>52.647664</td>\n      <td>1.209022</td>\n      <td>116</td>\n    </tr>\n    <tr>\n      <th>6</th>\n      <td>ELM CRES COLCHESTER</td>\n      <td>51.891382</td>\n      <td>0.933065</td>\n      <td>92</td>\n    </tr>\n    <tr>\n      <th>7</th>\n      <td>FAIRVIEW ROAD</td>\n      <td>51.910623</td>\n      <td>-0.213771</td>\n      <td>56</td>\n    </tr>\n    <tr>\n      <th>8</th>\n      <td>FOREST ROAD</td>\n      <td>51.887576</td>\n      <td>0.932686</td>\n      <td>85</td>\n    </tr>\n    <tr>\n      <th>9</th>\n      <td>MAPLE DRIVE EAST</td>\n      <td>51.152506</td>\n      <td>0.088442</td>\n      <td>63</td>\n    </tr>\n    <tr>\n      <th>10</th>\n      <td>OLD MILL NORDELPH</td>\n      <td>52.569841</td>\n      <td>0.304487</td>\n      <td>14</td>\n    </tr>\n    <tr>\n      <th>11</th>\n      <td>PRIESTHAWES PMT</td>\n      <td>50.828290</td>\n      <td>0.278560</td>\n      <td>23</td>\n    </tr>\n    <tr>\n      <th>12</th>\n      <td>SOUTHCROFT HETHERSETT</td>\n      <td>52.595825</td>\n      <td>1.170558</td>\n      <td>115</td>\n    </tr>\n    <tr>\n      <th>13</th>\n      <td>VILLAGE BIRCHAM NEWTON</td>\n      <td>52.873732</td>\n      <td>0.626938</td>\n      <td>18</td>\n    </tr>\n    <tr>\n      <th>14</th>\n      <td>WARNINGLID LANE</td>\n      <td>51.026314</td>\n      <td>-0.231296</td>\n      <td>23</td>\n    </tr>\n    <tr>\n      <th>15</th>\n      <td>SUFFOLK ROAD</td>\n      <td>50.823093</td>\n      <td>-0.931087</td>\n      <td>24</td>\n    </tr>\n  </tbody>\n</table>\n</div>"
     },
     "execution_count": 77,
     "metadata": {},
     "output_type": "execute_result"
    }
   ],
   "source": [
    "# load uk plants metadata, it also contains endpoints and substations\n",
    "uk_power_networks_metadata = pd.read_csv(\"data/UKPowerNetworks2013-2014/UK_Solar_Stations_Location_Capacity.csv\")\n",
    "uk_power_networks_metadata.head(n=100)\n"
   ]
  },
  {
   "cell_type": "code",
   "outputs": [
    {
     "data": {
      "text/plain": "{'ALVERSTON CLOSE',\n 'BANCROFT CLOSE',\n 'FOREST ROAD',\n 'MAPLE DRIVE EAST',\n 'SUFFOLK ROAD',\n 'YMCA'}"
     },
     "execution_count": 79,
     "metadata": {},
     "output_type": "execute_result"
    }
   ],
   "source": [
    "# load uk solar power networks hourly data\n",
    "uk_power_networks_data = pd.read_csv(\"data/UKPowerNetworks2013-2014/HourlyDataCustomerEndpoints.csv\")\n",
    "# Get unique substation names from `uk_power_networks_data`\n",
    "unique_solar_plants = {solar_plant.upper() for solar_plant in uk_power_networks_data[\"Substation\"]}"
   ],
   "metadata": {
    "collapsed": false,
    "ExecuteTime": {
     "end_time": "2024-11-10T16:17:29.731451Z",
     "start_time": "2024-11-10T16:17:29.558420Z"
    }
   },
   "id": "31974b09d8b24f85",
   "execution_count": 79
  },
  {
   "cell_type": "code",
   "outputs": [
    {
     "data": {
      "text/plain": "{'Alverston Close',\n 'Bancroft Close',\n 'Forest Road',\n 'Maple Drive East',\n 'Suffolk Road'}"
     },
     "execution_count": 80,
     "metadata": {},
     "output_type": "execute_result"
    }
   ],
   "source": [
    "# remove from dataset with unclear locations or capacities\n",
    "sites_to_remove = [\"ROOKERY FARM BESTHORPE\", \"RAMPLING COURT\", \"UPPER STAPLEFIELD COMMON\", \"YMCA\"]\n",
    "filtered_df = uk_power_networks_data.loc[~uk_power_networks_data[\"Substation\"].isin(sites_to_remove)]\n",
    "\n",
    "filtered_df.head()\n",
    "set(filtered_df[\"Substation\"])"
   ],
   "metadata": {
    "collapsed": false,
    "ExecuteTime": {
     "end_time": "2024-11-10T16:17:30.456950Z",
     "start_time": "2024-11-10T16:17:30.435865Z"
    }
   },
   "id": "ca1dcfc546e95cf0",
   "execution_count": 80
  },
  {
   "cell_type": "code",
   "outputs": [
    {
     "data": {
      "text/plain": "                name   latitude  longitude  capacity(kw)\n0    ALVERSTON CLOSE  50.812063   0.301925            24\n1     BANCROFT CLOSE  52.191134   0.143331            49\n8        FOREST ROAD  51.887576   0.932686            85\n9   MAPLE DRIVE EAST  51.152506   0.088442            63\n15      SUFFOLK ROAD  50.823093  -0.931087            24",
      "text/html": "<div>\n<style scoped>\n    .dataframe tbody tr th:only-of-type {\n        vertical-align: middle;\n    }\n\n    .dataframe tbody tr th {\n        vertical-align: top;\n    }\n\n    .dataframe thead th {\n        text-align: right;\n    }\n</style>\n<table border=\"1\" class=\"dataframe\">\n  <thead>\n    <tr style=\"text-align: right;\">\n      <th></th>\n      <th>name</th>\n      <th>latitude</th>\n      <th>longitude</th>\n      <th>capacity(kw)</th>\n    </tr>\n  </thead>\n  <tbody>\n    <tr>\n      <th>0</th>\n      <td>ALVERSTON CLOSE</td>\n      <td>50.812063</td>\n      <td>0.301925</td>\n      <td>24</td>\n    </tr>\n    <tr>\n      <th>1</th>\n      <td>BANCROFT CLOSE</td>\n      <td>52.191134</td>\n      <td>0.143331</td>\n      <td>49</td>\n    </tr>\n    <tr>\n      <th>8</th>\n      <td>FOREST ROAD</td>\n      <td>51.887576</td>\n      <td>0.932686</td>\n      <td>85</td>\n    </tr>\n    <tr>\n      <th>9</th>\n      <td>MAPLE DRIVE EAST</td>\n      <td>51.152506</td>\n      <td>0.088442</td>\n      <td>63</td>\n    </tr>\n    <tr>\n      <th>15</th>\n      <td>SUFFOLK ROAD</td>\n      <td>50.823093</td>\n      <td>-0.931087</td>\n      <td>24</td>\n    </tr>\n  </tbody>\n</table>\n</div>"
     },
     "execution_count": 84,
     "metadata": {},
     "output_type": "execute_result"
    }
   ],
   "source": [
    "# remove all power stations that are not solar\n",
    "filtered_uk_power_networks_metadata = uk_power_networks_metadata[\n",
    "    uk_power_networks_metadata[\"name\"].isin(unique_solar_plants)\n",
    "]\n",
    "\n",
    "filtered_uk_power_networks_metadata.head()"
   ],
   "metadata": {
    "collapsed": false,
    "ExecuteTime": {
     "end_time": "2024-11-10T16:18:08.176920Z",
     "start_time": "2024-11-10T16:18:08.170085Z"
    }
   },
   "id": "c5733318525358c8",
   "execution_count": 84
  },
  {
   "cell_type": "code",
   "outputs": [
    {
     "data": {
      "text/plain": "   PV Serial Number Location  Latitude  Longitude  From date    To date  \\\n0          84071567   Lisbon    38.728     -9.138 2019-01-01 2022-12-31   \n1          84071569   Lisbon    38.833     -9.191 2019-01-01 2022-12-31   \n2          84071568  Setubal    38.577     -8.872 2019-01-01 2022-12-31   \n3          84071570   Lisbon    38.725     -9.120 2019-01-01 2022-12-31   \n4          84071566     Faro    37.031     -7.893 2019-01-01 2022-12-31   \n\n   Installed Power (kWp)  Connection Power (kWn)  \n0                  46.00                    40.0  \n1                  16.32                    15.0  \n2                  23.52                    20.0  \n3                  30.00                    27.0  \n4                   7.00                     6.6  ",
      "text/html": "<div>\n<style scoped>\n    .dataframe tbody tr th:only-of-type {\n        vertical-align: middle;\n    }\n\n    .dataframe tbody tr th {\n        vertical-align: top;\n    }\n\n    .dataframe thead th {\n        text-align: right;\n    }\n</style>\n<table border=\"1\" class=\"dataframe\">\n  <thead>\n    <tr style=\"text-align: right;\">\n      <th></th>\n      <th>PV Serial Number</th>\n      <th>Location</th>\n      <th>Latitude</th>\n      <th>Longitude</th>\n      <th>From date</th>\n      <th>To date</th>\n      <th>Installed Power (kWp)</th>\n      <th>Connection Power (kWn)</th>\n    </tr>\n  </thead>\n  <tbody>\n    <tr>\n      <th>0</th>\n      <td>84071567</td>\n      <td>Lisbon</td>\n      <td>38.728</td>\n      <td>-9.138</td>\n      <td>2019-01-01</td>\n      <td>2022-12-31</td>\n      <td>46.00</td>\n      <td>40.0</td>\n    </tr>\n    <tr>\n      <th>1</th>\n      <td>84071569</td>\n      <td>Lisbon</td>\n      <td>38.833</td>\n      <td>-9.191</td>\n      <td>2019-01-01</td>\n      <td>2022-12-31</td>\n      <td>16.32</td>\n      <td>15.0</td>\n    </tr>\n    <tr>\n      <th>2</th>\n      <td>84071568</td>\n      <td>Setubal</td>\n      <td>38.577</td>\n      <td>-8.872</td>\n      <td>2019-01-01</td>\n      <td>2022-12-31</td>\n      <td>23.52</td>\n      <td>20.0</td>\n    </tr>\n    <tr>\n      <th>3</th>\n      <td>84071570</td>\n      <td>Lisbon</td>\n      <td>38.725</td>\n      <td>-9.120</td>\n      <td>2019-01-01</td>\n      <td>2022-12-31</td>\n      <td>30.00</td>\n      <td>27.0</td>\n    </tr>\n    <tr>\n      <th>4</th>\n      <td>84071566</td>\n      <td>Faro</td>\n      <td>37.031</td>\n      <td>-7.893</td>\n      <td>2019-01-01</td>\n      <td>2022-12-31</td>\n      <td>7.00</td>\n      <td>6.6</td>\n    </tr>\n  </tbody>\n</table>\n</div>"
     },
     "execution_count": 81,
     "metadata": {},
     "output_type": "execute_result"
    }
   ],
   "source": [
    "# load portugal metadata\n",
    "file_path = 'data/PortugalPohotovolaicDataset/PV Plants Metadata.xlsx'\n",
    "\n",
    "# Read the Excel file into a pandas DataFrame\n",
    "portugal_metadata = pd.read_excel(file_path)\n",
    "\n",
    "# Display the first few rows of the DataFrame\n",
    "portugal_metadata.head()"
   ],
   "metadata": {
    "collapsed": false,
    "ExecuteTime": {
     "end_time": "2024-11-10T16:17:41.377350Z",
     "start_time": "2024-11-10T16:17:41.360192Z"
    }
   },
   "id": "f121e23bf643d88f",
   "execution_count": 81
  },
  {
   "cell_type": "code",
   "outputs": [
    {
     "data": {
      "text/plain": "                 Date  Produced Energy (kWh)  Specific Energy (kWh/kWp)  \\\n0 2019-01-01 00:00:00                    0.0                        0.0   \n1 2019-01-01 01:00:00                    0.0                        0.0   \n2 2019-01-01 02:00:00                    0.0                        0.0   \n3 2019-01-01 03:00:00                    0.0                        0.0   \n4 2019-01-01 04:00:00                    0.0                        0.0   \n\n  CO2 Avoided (tons)    serial  \n0                     84071567  \n1                     84071567  \n2                     84071567  \n3                     84071567  \n4                     84071567  ",
      "text/html": "<div>\n<style scoped>\n    .dataframe tbody tr th:only-of-type {\n        vertical-align: middle;\n    }\n\n    .dataframe tbody tr th {\n        vertical-align: top;\n    }\n\n    .dataframe thead th {\n        text-align: right;\n    }\n</style>\n<table border=\"1\" class=\"dataframe\">\n  <thead>\n    <tr style=\"text-align: right;\">\n      <th></th>\n      <th>Date</th>\n      <th>Produced Energy (kWh)</th>\n      <th>Specific Energy (kWh/kWp)</th>\n      <th>CO2 Avoided (tons)</th>\n      <th>serial</th>\n    </tr>\n  </thead>\n  <tbody>\n    <tr>\n      <th>0</th>\n      <td>2019-01-01 00:00:00</td>\n      <td>0.0</td>\n      <td>0.0</td>\n      <td></td>\n      <td>84071567</td>\n    </tr>\n    <tr>\n      <th>1</th>\n      <td>2019-01-01 01:00:00</td>\n      <td>0.0</td>\n      <td>0.0</td>\n      <td></td>\n      <td>84071567</td>\n    </tr>\n    <tr>\n      <th>2</th>\n      <td>2019-01-01 02:00:00</td>\n      <td>0.0</td>\n      <td>0.0</td>\n      <td></td>\n      <td>84071567</td>\n    </tr>\n    <tr>\n      <th>3</th>\n      <td>2019-01-01 03:00:00</td>\n      <td>0.0</td>\n      <td>0.0</td>\n      <td></td>\n      <td>84071567</td>\n    </tr>\n    <tr>\n      <th>4</th>\n      <td>2019-01-01 04:00:00</td>\n      <td>0.0</td>\n      <td>0.0</td>\n      <td></td>\n      <td>84071567</td>\n    </tr>\n  </tbody>\n</table>\n</div>"
     },
     "execution_count": 82,
     "metadata": {},
     "output_type": "execute_result"
    }
   ],
   "source": [
    "# load portugal dataset\n",
    "file_path = 'data/PortugalPohotovolaicDataset/PV Plants Datasets.xlsx'\n",
    "\n",
    "# Define the correspondence table between sheet names and real names\n",
    "correspondence = {\n",
    "    'Lisbon_1': ['84071567'],\n",
    "    'Lisbon_2': ['84071569'],\n",
    "    'Lisbon_3': ['84071570'],\n",
    "    'Lisbon_4': ['62032213'], \n",
    "    'Setubal': ['84071568'],\n",
    "    'Faro': ['84071566'],\n",
    "    'Braga': ['62030198'],\n",
    "    'Tavira': ['73060645'],\n",
    "    'Loule': ['73061935']\n",
    "}\n",
    "\n",
    "data_frames = []\n",
    "for real_name, sheet_names in correspondence.items():\n",
    "    for sheet_name in sheet_names:\n",
    "        df = pd.read_excel(file_path, sheet_name=sheet_name)\n",
    "        df['serial'] = sheet_name\n",
    "        df['name'] = real_name\n",
    "        data_frames.append(df)\n",
    "\n",
    "# Read each sheet into a pandas DataFrame and rename them accordingly\n",
    "portugal_df = pd.concat(data_frames, ignore_index=True)\n",
    "portugal_df.head()"
   ],
   "metadata": {
    "collapsed": false,
    "ExecuteTime": {
     "end_time": "2024-11-10T16:17:52.541914Z",
     "start_time": "2024-11-10T16:17:45.255294Z"
    }
   },
   "id": "6cb0f078be388b0b",
   "execution_count": 82
  },
  {
   "cell_type": "code",
   "outputs": [
    {
     "data": {
      "application/vnd.plotly.v1+json": {
       "data": [
        {
         "customdata": [
          24,
          49,
          85,
          63,
          24
         ],
         "hoverinfo": "text",
         "hovertemplate": "<b>%{text}</b><br>Capacity: %{customdata} kW",
         "lat": [
          50.81206272616222,
          52.19113445977153,
          51.88757572254536,
          51.15250633748892,
          50.82309338535655
         ],
         "lon": [
          0.3019245969193442,
          0.1433311400599893,
          0.9326858688865975,
          0.088441665,
          -0.9310865602481226
         ],
         "marker": {
          "color": "blue",
          "size": [
           4.800000000000001,
           9.8,
           17.0,
           12.600000000000001,
           4.800000000000001
          ]
         },
         "mode": "markers",
         "text": [
          "ALVERSTON CLOSE",
          "BANCROFT CLOSE",
          "FOREST ROAD",
          "MAPLE DRIVE EAST",
          "SUFFOLK ROAD"
         ],
         "type": "scattermapbox"
        },
        {
         "customdata": [
          [
           46.0,
           "Lisbon"
          ],
          [
           16.32,
           "Lisbon"
          ],
          [
           23.52,
           "Setubal"
          ],
          [
           30.0,
           "Lisbon"
          ],
          [
           7.0,
           "Faro"
          ],
          [
           64.93,
           "Braga"
          ],
          [
           22.54,
           "Lisbon"
          ],
          [
           46.0,
           "Tavira"
          ],
          [
           46.25,
           "Loule"
          ]
         ],
         "hoverinfo": "text",
         "hovertemplate": "<b>%{text}</b><br>Installed Power: %{customdata[0]} kWp<br>Location: %{customdata[1]}",
         "lat": [
          38.728,
          38.833,
          38.577,
          38.725,
          37.031,
          41.493,
          38.701,
          37.131,
          37.131
         ],
         "lon": [
          -9.138,
          -9.191,
          -8.872,
          -9.12,
          -7.893,
          -8.496,
          -9.236,
          -7.645,
          -8.038
         ],
         "marker": {
          "color": "fuchsia",
          "size": [
           9.200000000000001,
           3.2640000000000002,
           4.704,
           6.0,
           1.4000000000000001,
           12.986000000000002,
           4.508,
           9.200000000000001,
           9.25
          ]
         },
         "mode": "markers",
         "text": [
          8.4071567E7,
          8.4071569E7,
          8.4071568E7,
          8.407157E7,
          8.4071566E7,
          6.2030198E7,
          6.2032213E7,
          7.3060645E7,
          7.3061935E7
         ],
         "type": "scattermapbox"
        }
       ],
       "layout": {
        "template": {
         "data": {
          "histogram2dcontour": [
           {
            "type": "histogram2dcontour",
            "colorbar": {
             "outlinewidth": 0,
             "ticks": ""
            },
            "colorscale": [
             [
              0.0,
              "#0d0887"
             ],
             [
              0.1111111111111111,
              "#46039f"
             ],
             [
              0.2222222222222222,
              "#7201a8"
             ],
             [
              0.3333333333333333,
              "#9c179e"
             ],
             [
              0.4444444444444444,
              "#bd3786"
             ],
             [
              0.5555555555555556,
              "#d8576b"
             ],
             [
              0.6666666666666666,
              "#ed7953"
             ],
             [
              0.7777777777777778,
              "#fb9f3a"
             ],
             [
              0.8888888888888888,
              "#fdca26"
             ],
             [
              1.0,
              "#f0f921"
             ]
            ]
           }
          ],
          "choropleth": [
           {
            "type": "choropleth",
            "colorbar": {
             "outlinewidth": 0,
             "ticks": ""
            }
           }
          ],
          "histogram2d": [
           {
            "type": "histogram2d",
            "colorbar": {
             "outlinewidth": 0,
             "ticks": ""
            },
            "colorscale": [
             [
              0.0,
              "#0d0887"
             ],
             [
              0.1111111111111111,
              "#46039f"
             ],
             [
              0.2222222222222222,
              "#7201a8"
             ],
             [
              0.3333333333333333,
              "#9c179e"
             ],
             [
              0.4444444444444444,
              "#bd3786"
             ],
             [
              0.5555555555555556,
              "#d8576b"
             ],
             [
              0.6666666666666666,
              "#ed7953"
             ],
             [
              0.7777777777777778,
              "#fb9f3a"
             ],
             [
              0.8888888888888888,
              "#fdca26"
             ],
             [
              1.0,
              "#f0f921"
             ]
            ]
           }
          ],
          "heatmap": [
           {
            "type": "heatmap",
            "colorbar": {
             "outlinewidth": 0,
             "ticks": ""
            },
            "colorscale": [
             [
              0.0,
              "#0d0887"
             ],
             [
              0.1111111111111111,
              "#46039f"
             ],
             [
              0.2222222222222222,
              "#7201a8"
             ],
             [
              0.3333333333333333,
              "#9c179e"
             ],
             [
              0.4444444444444444,
              "#bd3786"
             ],
             [
              0.5555555555555556,
              "#d8576b"
             ],
             [
              0.6666666666666666,
              "#ed7953"
             ],
             [
              0.7777777777777778,
              "#fb9f3a"
             ],
             [
              0.8888888888888888,
              "#fdca26"
             ],
             [
              1.0,
              "#f0f921"
             ]
            ]
           }
          ],
          "heatmapgl": [
           {
            "type": "heatmapgl",
            "colorbar": {
             "outlinewidth": 0,
             "ticks": ""
            },
            "colorscale": [
             [
              0.0,
              "#0d0887"
             ],
             [
              0.1111111111111111,
              "#46039f"
             ],
             [
              0.2222222222222222,
              "#7201a8"
             ],
             [
              0.3333333333333333,
              "#9c179e"
             ],
             [
              0.4444444444444444,
              "#bd3786"
             ],
             [
              0.5555555555555556,
              "#d8576b"
             ],
             [
              0.6666666666666666,
              "#ed7953"
             ],
             [
              0.7777777777777778,
              "#fb9f3a"
             ],
             [
              0.8888888888888888,
              "#fdca26"
             ],
             [
              1.0,
              "#f0f921"
             ]
            ]
           }
          ],
          "contourcarpet": [
           {
            "type": "contourcarpet",
            "colorbar": {
             "outlinewidth": 0,
             "ticks": ""
            }
           }
          ],
          "contour": [
           {
            "type": "contour",
            "colorbar": {
             "outlinewidth": 0,
             "ticks": ""
            },
            "colorscale": [
             [
              0.0,
              "#0d0887"
             ],
             [
              0.1111111111111111,
              "#46039f"
             ],
             [
              0.2222222222222222,
              "#7201a8"
             ],
             [
              0.3333333333333333,
              "#9c179e"
             ],
             [
              0.4444444444444444,
              "#bd3786"
             ],
             [
              0.5555555555555556,
              "#d8576b"
             ],
             [
              0.6666666666666666,
              "#ed7953"
             ],
             [
              0.7777777777777778,
              "#fb9f3a"
             ],
             [
              0.8888888888888888,
              "#fdca26"
             ],
             [
              1.0,
              "#f0f921"
             ]
            ]
           }
          ],
          "surface": [
           {
            "type": "surface",
            "colorbar": {
             "outlinewidth": 0,
             "ticks": ""
            },
            "colorscale": [
             [
              0.0,
              "#0d0887"
             ],
             [
              0.1111111111111111,
              "#46039f"
             ],
             [
              0.2222222222222222,
              "#7201a8"
             ],
             [
              0.3333333333333333,
              "#9c179e"
             ],
             [
              0.4444444444444444,
              "#bd3786"
             ],
             [
              0.5555555555555556,
              "#d8576b"
             ],
             [
              0.6666666666666666,
              "#ed7953"
             ],
             [
              0.7777777777777778,
              "#fb9f3a"
             ],
             [
              0.8888888888888888,
              "#fdca26"
             ],
             [
              1.0,
              "#f0f921"
             ]
            ]
           }
          ],
          "mesh3d": [
           {
            "type": "mesh3d",
            "colorbar": {
             "outlinewidth": 0,
             "ticks": ""
            }
           }
          ],
          "scatter": [
           {
            "marker": {
             "line": {
              "color": "#283442"
             }
            },
            "type": "scatter"
           }
          ],
          "parcoords": [
           {
            "type": "parcoords",
            "line": {
             "colorbar": {
              "outlinewidth": 0,
              "ticks": ""
             }
            }
           }
          ],
          "scatterpolargl": [
           {
            "type": "scatterpolargl",
            "marker": {
             "colorbar": {
              "outlinewidth": 0,
              "ticks": ""
             }
            }
           }
          ],
          "bar": [
           {
            "error_x": {
             "color": "#f2f5fa"
            },
            "error_y": {
             "color": "#f2f5fa"
            },
            "marker": {
             "line": {
              "color": "rgb(17,17,17)",
              "width": 0.5
             },
             "pattern": {
              "fillmode": "overlay",
              "size": 10,
              "solidity": 0.2
             }
            },
            "type": "bar"
           }
          ],
          "scattergeo": [
           {
            "type": "scattergeo",
            "marker": {
             "colorbar": {
              "outlinewidth": 0,
              "ticks": ""
             }
            }
           }
          ],
          "scatterpolar": [
           {
            "type": "scatterpolar",
            "marker": {
             "colorbar": {
              "outlinewidth": 0,
              "ticks": ""
             }
            }
           }
          ],
          "histogram": [
           {
            "marker": {
             "pattern": {
              "fillmode": "overlay",
              "size": 10,
              "solidity": 0.2
             }
            },
            "type": "histogram"
           }
          ],
          "scattergl": [
           {
            "marker": {
             "line": {
              "color": "#283442"
             }
            },
            "type": "scattergl"
           }
          ],
          "scatter3d": [
           {
            "type": "scatter3d",
            "line": {
             "colorbar": {
              "outlinewidth": 0,
              "ticks": ""
             }
            },
            "marker": {
             "colorbar": {
              "outlinewidth": 0,
              "ticks": ""
             }
            }
           }
          ],
          "scattermapbox": [
           {
            "type": "scattermapbox",
            "marker": {
             "colorbar": {
              "outlinewidth": 0,
              "ticks": ""
             }
            }
           }
          ],
          "scatterternary": [
           {
            "type": "scatterternary",
            "marker": {
             "colorbar": {
              "outlinewidth": 0,
              "ticks": ""
             }
            }
           }
          ],
          "scattercarpet": [
           {
            "type": "scattercarpet",
            "marker": {
             "colorbar": {
              "outlinewidth": 0,
              "ticks": ""
             }
            }
           }
          ],
          "carpet": [
           {
            "aaxis": {
             "endlinecolor": "#A2B1C6",
             "gridcolor": "#506784",
             "linecolor": "#506784",
             "minorgridcolor": "#506784",
             "startlinecolor": "#A2B1C6"
            },
            "baxis": {
             "endlinecolor": "#A2B1C6",
             "gridcolor": "#506784",
             "linecolor": "#506784",
             "minorgridcolor": "#506784",
             "startlinecolor": "#A2B1C6"
            },
            "type": "carpet"
           }
          ],
          "table": [
           {
            "cells": {
             "fill": {
              "color": "#506784"
             },
             "line": {
              "color": "rgb(17,17,17)"
             }
            },
            "header": {
             "fill": {
              "color": "#2a3f5f"
             },
             "line": {
              "color": "rgb(17,17,17)"
             }
            },
            "type": "table"
           }
          ],
          "barpolar": [
           {
            "marker": {
             "line": {
              "color": "rgb(17,17,17)",
              "width": 0.5
             },
             "pattern": {
              "fillmode": "overlay",
              "size": 10,
              "solidity": 0.2
             }
            },
            "type": "barpolar"
           }
          ],
          "pie": [
           {
            "automargin": true,
            "type": "pie"
           }
          ]
         },
         "layout": {
          "autotypenumbers": "strict",
          "colorway": [
           "#636efa",
           "#EF553B",
           "#00cc96",
           "#ab63fa",
           "#FFA15A",
           "#19d3f3",
           "#FF6692",
           "#B6E880",
           "#FF97FF",
           "#FECB52"
          ],
          "font": {
           "color": "#f2f5fa"
          },
          "hovermode": "closest",
          "hoverlabel": {
           "align": "left"
          },
          "paper_bgcolor": "rgb(17,17,17)",
          "plot_bgcolor": "rgb(17,17,17)",
          "polar": {
           "bgcolor": "rgb(17,17,17)",
           "angularaxis": {
            "gridcolor": "#506784",
            "linecolor": "#506784",
            "ticks": ""
           },
           "radialaxis": {
            "gridcolor": "#506784",
            "linecolor": "#506784",
            "ticks": ""
           }
          },
          "ternary": {
           "bgcolor": "rgb(17,17,17)",
           "aaxis": {
            "gridcolor": "#506784",
            "linecolor": "#506784",
            "ticks": ""
           },
           "baxis": {
            "gridcolor": "#506784",
            "linecolor": "#506784",
            "ticks": ""
           },
           "caxis": {
            "gridcolor": "#506784",
            "linecolor": "#506784",
            "ticks": ""
           }
          },
          "coloraxis": {
           "colorbar": {
            "outlinewidth": 0,
            "ticks": ""
           }
          },
          "colorscale": {
           "sequential": [
            [
             0.0,
             "#0d0887"
            ],
            [
             0.1111111111111111,
             "#46039f"
            ],
            [
             0.2222222222222222,
             "#7201a8"
            ],
            [
             0.3333333333333333,
             "#9c179e"
            ],
            [
             0.4444444444444444,
             "#bd3786"
            ],
            [
             0.5555555555555556,
             "#d8576b"
            ],
            [
             0.6666666666666666,
             "#ed7953"
            ],
            [
             0.7777777777777778,
             "#fb9f3a"
            ],
            [
             0.8888888888888888,
             "#fdca26"
            ],
            [
             1.0,
             "#f0f921"
            ]
           ],
           "sequentialminus": [
            [
             0.0,
             "#0d0887"
            ],
            [
             0.1111111111111111,
             "#46039f"
            ],
            [
             0.2222222222222222,
             "#7201a8"
            ],
            [
             0.3333333333333333,
             "#9c179e"
            ],
            [
             0.4444444444444444,
             "#bd3786"
            ],
            [
             0.5555555555555556,
             "#d8576b"
            ],
            [
             0.6666666666666666,
             "#ed7953"
            ],
            [
             0.7777777777777778,
             "#fb9f3a"
            ],
            [
             0.8888888888888888,
             "#fdca26"
            ],
            [
             1.0,
             "#f0f921"
            ]
           ],
           "diverging": [
            [
             0,
             "#8e0152"
            ],
            [
             0.1,
             "#c51b7d"
            ],
            [
             0.2,
             "#de77ae"
            ],
            [
             0.3,
             "#f1b6da"
            ],
            [
             0.4,
             "#fde0ef"
            ],
            [
             0.5,
             "#f7f7f7"
            ],
            [
             0.6,
             "#e6f5d0"
            ],
            [
             0.7,
             "#b8e186"
            ],
            [
             0.8,
             "#7fbc41"
            ],
            [
             0.9,
             "#4d9221"
            ],
            [
             1,
             "#276419"
            ]
           ]
          },
          "xaxis": {
           "gridcolor": "#283442",
           "linecolor": "#506784",
           "ticks": "",
           "title": {
            "standoff": 15
           },
           "zerolinecolor": "#283442",
           "automargin": true,
           "zerolinewidth": 2
          },
          "yaxis": {
           "gridcolor": "#283442",
           "linecolor": "#506784",
           "ticks": "",
           "title": {
            "standoff": 15
           },
           "zerolinecolor": "#283442",
           "automargin": true,
           "zerolinewidth": 2
          },
          "scene": {
           "xaxis": {
            "backgroundcolor": "rgb(17,17,17)",
            "gridcolor": "#506784",
            "linecolor": "#506784",
            "showbackground": true,
            "ticks": "",
            "zerolinecolor": "#C8D4E3",
            "gridwidth": 2
           },
           "yaxis": {
            "backgroundcolor": "rgb(17,17,17)",
            "gridcolor": "#506784",
            "linecolor": "#506784",
            "showbackground": true,
            "ticks": "",
            "zerolinecolor": "#C8D4E3",
            "gridwidth": 2
           },
           "zaxis": {
            "backgroundcolor": "rgb(17,17,17)",
            "gridcolor": "#506784",
            "linecolor": "#506784",
            "showbackground": true,
            "ticks": "",
            "zerolinecolor": "#C8D4E3",
            "gridwidth": 2
           }
          },
          "shapedefaults": {
           "line": {
            "color": "#f2f5fa"
           }
          },
          "annotationdefaults": {
           "arrowcolor": "#f2f5fa",
           "arrowhead": 0,
           "arrowwidth": 1
          },
          "geo": {
           "bgcolor": "rgb(17,17,17)",
           "landcolor": "rgb(17,17,17)",
           "subunitcolor": "#506784",
           "showland": true,
           "showlakes": true,
           "lakecolor": "rgb(17,17,17)"
          },
          "title": {
           "x": 0.05
          },
          "updatemenudefaults": {
           "bgcolor": "#506784",
           "borderwidth": 0
          },
          "sliderdefaults": {
           "bgcolor": "#C8D4E3",
           "borderwidth": 1,
           "bordercolor": "rgb(17,17,17)",
           "tickwidth": 0
          },
          "mapbox": {
           "style": "dark"
          }
         }
        },
        "mapbox": {
         "center": {
          "lat": 51,
          "lon": -0.5
         },
         "style": "open-street-map",
         "zoom": 5
        },
        "margin": {
         "r": 0,
         "t": 0,
         "l": 0,
         "b": 0
        }
       },
       "config": {
        "plotlyServerURL": "https://plot.ly"
       }
      },
      "text/html": "<div>                            <div id=\"6ef6ae38-910f-41a6-a56e-3e430159dee4\" class=\"plotly-graph-div\" style=\"height:525px; width:100%;\"></div>            <script type=\"text/javascript\">                require([\"plotly\"], function(Plotly) {                    window.PLOTLYENV=window.PLOTLYENV || {};                                    if (document.getElementById(\"6ef6ae38-910f-41a6-a56e-3e430159dee4\")) {                    Plotly.newPlot(                        \"6ef6ae38-910f-41a6-a56e-3e430159dee4\",                        [{\"customdata\":[24,49,85,63,24],\"hoverinfo\":\"text\",\"hovertemplate\":\"\\u003cb\\u003e%{text}\\u003c\\u002fb\\u003e\\u003cbr\\u003eCapacity: %{customdata} kW\",\"lat\":[50.81206272616222,52.19113445977153,51.88757572254536,51.15250633748892,50.82309338535655],\"lon\":[0.3019245969193442,0.1433311400599893,0.9326858688865975,0.088441665,-0.9310865602481226],\"marker\":{\"color\":\"blue\",\"size\":[4.800000000000001,9.8,17.0,12.600000000000001,4.800000000000001]},\"mode\":\"markers\",\"text\":[\"ALVERSTON CLOSE\",\"BANCROFT CLOSE\",\"FOREST ROAD\",\"MAPLE DRIVE EAST\",\"SUFFOLK ROAD\"],\"type\":\"scattermapbox\"},{\"customdata\":[[46.0,\"Lisbon\"],[16.32,\"Lisbon\"],[23.52,\"Setubal\"],[30.0,\"Lisbon\"],[7.0,\"Faro\"],[64.93,\"Braga\"],[22.54,\"Lisbon\"],[46.0,\"Tavira\"],[46.25,\"Loule\"]],\"hoverinfo\":\"text\",\"hovertemplate\":\"\\u003cb\\u003e%{text}\\u003c\\u002fb\\u003e\\u003cbr\\u003eInstalled Power: %{customdata[0]} kWp\\u003cbr\\u003eLocation: %{customdata[1]}\",\"lat\":[38.728,38.833,38.577,38.725,37.031,41.493,38.701,37.131,37.131],\"lon\":[-9.138,-9.191,-8.872,-9.12,-7.893,-8.496,-9.236,-7.645,-8.038],\"marker\":{\"color\":\"fuchsia\",\"size\":[9.200000000000001,3.2640000000000002,4.704,6.0,1.4000000000000001,12.986000000000002,4.508,9.200000000000001,9.25]},\"mode\":\"markers\",\"text\":[84071567.0,84071569.0,84071568.0,84071570.0,84071566.0,62030198.0,62032213.0,73060645.0,73061935.0],\"type\":\"scattermapbox\"}],                        {\"template\":{\"data\":{\"histogram2dcontour\":[{\"type\":\"histogram2dcontour\",\"colorbar\":{\"outlinewidth\":0,\"ticks\":\"\"},\"colorscale\":[[0.0,\"#0d0887\"],[0.1111111111111111,\"#46039f\"],[0.2222222222222222,\"#7201a8\"],[0.3333333333333333,\"#9c179e\"],[0.4444444444444444,\"#bd3786\"],[0.5555555555555556,\"#d8576b\"],[0.6666666666666666,\"#ed7953\"],[0.7777777777777778,\"#fb9f3a\"],[0.8888888888888888,\"#fdca26\"],[1.0,\"#f0f921\"]]}],\"choropleth\":[{\"type\":\"choropleth\",\"colorbar\":{\"outlinewidth\":0,\"ticks\":\"\"}}],\"histogram2d\":[{\"type\":\"histogram2d\",\"colorbar\":{\"outlinewidth\":0,\"ticks\":\"\"},\"colorscale\":[[0.0,\"#0d0887\"],[0.1111111111111111,\"#46039f\"],[0.2222222222222222,\"#7201a8\"],[0.3333333333333333,\"#9c179e\"],[0.4444444444444444,\"#bd3786\"],[0.5555555555555556,\"#d8576b\"],[0.6666666666666666,\"#ed7953\"],[0.7777777777777778,\"#fb9f3a\"],[0.8888888888888888,\"#fdca26\"],[1.0,\"#f0f921\"]]}],\"heatmap\":[{\"type\":\"heatmap\",\"colorbar\":{\"outlinewidth\":0,\"ticks\":\"\"},\"colorscale\":[[0.0,\"#0d0887\"],[0.1111111111111111,\"#46039f\"],[0.2222222222222222,\"#7201a8\"],[0.3333333333333333,\"#9c179e\"],[0.4444444444444444,\"#bd3786\"],[0.5555555555555556,\"#d8576b\"],[0.6666666666666666,\"#ed7953\"],[0.7777777777777778,\"#fb9f3a\"],[0.8888888888888888,\"#fdca26\"],[1.0,\"#f0f921\"]]}],\"heatmapgl\":[{\"type\":\"heatmapgl\",\"colorbar\":{\"outlinewidth\":0,\"ticks\":\"\"},\"colorscale\":[[0.0,\"#0d0887\"],[0.1111111111111111,\"#46039f\"],[0.2222222222222222,\"#7201a8\"],[0.3333333333333333,\"#9c179e\"],[0.4444444444444444,\"#bd3786\"],[0.5555555555555556,\"#d8576b\"],[0.6666666666666666,\"#ed7953\"],[0.7777777777777778,\"#fb9f3a\"],[0.8888888888888888,\"#fdca26\"],[1.0,\"#f0f921\"]]}],\"contourcarpet\":[{\"type\":\"contourcarpet\",\"colorbar\":{\"outlinewidth\":0,\"ticks\":\"\"}}],\"contour\":[{\"type\":\"contour\",\"colorbar\":{\"outlinewidth\":0,\"ticks\":\"\"},\"colorscale\":[[0.0,\"#0d0887\"],[0.1111111111111111,\"#46039f\"],[0.2222222222222222,\"#7201a8\"],[0.3333333333333333,\"#9c179e\"],[0.4444444444444444,\"#bd3786\"],[0.5555555555555556,\"#d8576b\"],[0.6666666666666666,\"#ed7953\"],[0.7777777777777778,\"#fb9f3a\"],[0.8888888888888888,\"#fdca26\"],[1.0,\"#f0f921\"]]}],\"surface\":[{\"type\":\"surface\",\"colorbar\":{\"outlinewidth\":0,\"ticks\":\"\"},\"colorscale\":[[0.0,\"#0d0887\"],[0.1111111111111111,\"#46039f\"],[0.2222222222222222,\"#7201a8\"],[0.3333333333333333,\"#9c179e\"],[0.4444444444444444,\"#bd3786\"],[0.5555555555555556,\"#d8576b\"],[0.6666666666666666,\"#ed7953\"],[0.7777777777777778,\"#fb9f3a\"],[0.8888888888888888,\"#fdca26\"],[1.0,\"#f0f921\"]]}],\"mesh3d\":[{\"type\":\"mesh3d\",\"colorbar\":{\"outlinewidth\":0,\"ticks\":\"\"}}],\"scatter\":[{\"marker\":{\"line\":{\"color\":\"#283442\"}},\"type\":\"scatter\"}],\"parcoords\":[{\"type\":\"parcoords\",\"line\":{\"colorbar\":{\"outlinewidth\":0,\"ticks\":\"\"}}}],\"scatterpolargl\":[{\"type\":\"scatterpolargl\",\"marker\":{\"colorbar\":{\"outlinewidth\":0,\"ticks\":\"\"}}}],\"bar\":[{\"error_x\":{\"color\":\"#f2f5fa\"},\"error_y\":{\"color\":\"#f2f5fa\"},\"marker\":{\"line\":{\"color\":\"rgb(17,17,17)\",\"width\":0.5},\"pattern\":{\"fillmode\":\"overlay\",\"size\":10,\"solidity\":0.2}},\"type\":\"bar\"}],\"scattergeo\":[{\"type\":\"scattergeo\",\"marker\":{\"colorbar\":{\"outlinewidth\":0,\"ticks\":\"\"}}}],\"scatterpolar\":[{\"type\":\"scatterpolar\",\"marker\":{\"colorbar\":{\"outlinewidth\":0,\"ticks\":\"\"}}}],\"histogram\":[{\"marker\":{\"pattern\":{\"fillmode\":\"overlay\",\"size\":10,\"solidity\":0.2}},\"type\":\"histogram\"}],\"scattergl\":[{\"marker\":{\"line\":{\"color\":\"#283442\"}},\"type\":\"scattergl\"}],\"scatter3d\":[{\"type\":\"scatter3d\",\"line\":{\"colorbar\":{\"outlinewidth\":0,\"ticks\":\"\"}},\"marker\":{\"colorbar\":{\"outlinewidth\":0,\"ticks\":\"\"}}}],\"scattermapbox\":[{\"type\":\"scattermapbox\",\"marker\":{\"colorbar\":{\"outlinewidth\":0,\"ticks\":\"\"}}}],\"scatterternary\":[{\"type\":\"scatterternary\",\"marker\":{\"colorbar\":{\"outlinewidth\":0,\"ticks\":\"\"}}}],\"scattercarpet\":[{\"type\":\"scattercarpet\",\"marker\":{\"colorbar\":{\"outlinewidth\":0,\"ticks\":\"\"}}}],\"carpet\":[{\"aaxis\":{\"endlinecolor\":\"#A2B1C6\",\"gridcolor\":\"#506784\",\"linecolor\":\"#506784\",\"minorgridcolor\":\"#506784\",\"startlinecolor\":\"#A2B1C6\"},\"baxis\":{\"endlinecolor\":\"#A2B1C6\",\"gridcolor\":\"#506784\",\"linecolor\":\"#506784\",\"minorgridcolor\":\"#506784\",\"startlinecolor\":\"#A2B1C6\"},\"type\":\"carpet\"}],\"table\":[{\"cells\":{\"fill\":{\"color\":\"#506784\"},\"line\":{\"color\":\"rgb(17,17,17)\"}},\"header\":{\"fill\":{\"color\":\"#2a3f5f\"},\"line\":{\"color\":\"rgb(17,17,17)\"}},\"type\":\"table\"}],\"barpolar\":[{\"marker\":{\"line\":{\"color\":\"rgb(17,17,17)\",\"width\":0.5},\"pattern\":{\"fillmode\":\"overlay\",\"size\":10,\"solidity\":0.2}},\"type\":\"barpolar\"}],\"pie\":[{\"automargin\":true,\"type\":\"pie\"}]},\"layout\":{\"autotypenumbers\":\"strict\",\"colorway\":[\"#636efa\",\"#EF553B\",\"#00cc96\",\"#ab63fa\",\"#FFA15A\",\"#19d3f3\",\"#FF6692\",\"#B6E880\",\"#FF97FF\",\"#FECB52\"],\"font\":{\"color\":\"#f2f5fa\"},\"hovermode\":\"closest\",\"hoverlabel\":{\"align\":\"left\"},\"paper_bgcolor\":\"rgb(17,17,17)\",\"plot_bgcolor\":\"rgb(17,17,17)\",\"polar\":{\"bgcolor\":\"rgb(17,17,17)\",\"angularaxis\":{\"gridcolor\":\"#506784\",\"linecolor\":\"#506784\",\"ticks\":\"\"},\"radialaxis\":{\"gridcolor\":\"#506784\",\"linecolor\":\"#506784\",\"ticks\":\"\"}},\"ternary\":{\"bgcolor\":\"rgb(17,17,17)\",\"aaxis\":{\"gridcolor\":\"#506784\",\"linecolor\":\"#506784\",\"ticks\":\"\"},\"baxis\":{\"gridcolor\":\"#506784\",\"linecolor\":\"#506784\",\"ticks\":\"\"},\"caxis\":{\"gridcolor\":\"#506784\",\"linecolor\":\"#506784\",\"ticks\":\"\"}},\"coloraxis\":{\"colorbar\":{\"outlinewidth\":0,\"ticks\":\"\"}},\"colorscale\":{\"sequential\":[[0.0,\"#0d0887\"],[0.1111111111111111,\"#46039f\"],[0.2222222222222222,\"#7201a8\"],[0.3333333333333333,\"#9c179e\"],[0.4444444444444444,\"#bd3786\"],[0.5555555555555556,\"#d8576b\"],[0.6666666666666666,\"#ed7953\"],[0.7777777777777778,\"#fb9f3a\"],[0.8888888888888888,\"#fdca26\"],[1.0,\"#f0f921\"]],\"sequentialminus\":[[0.0,\"#0d0887\"],[0.1111111111111111,\"#46039f\"],[0.2222222222222222,\"#7201a8\"],[0.3333333333333333,\"#9c179e\"],[0.4444444444444444,\"#bd3786\"],[0.5555555555555556,\"#d8576b\"],[0.6666666666666666,\"#ed7953\"],[0.7777777777777778,\"#fb9f3a\"],[0.8888888888888888,\"#fdca26\"],[1.0,\"#f0f921\"]],\"diverging\":[[0,\"#8e0152\"],[0.1,\"#c51b7d\"],[0.2,\"#de77ae\"],[0.3,\"#f1b6da\"],[0.4,\"#fde0ef\"],[0.5,\"#f7f7f7\"],[0.6,\"#e6f5d0\"],[0.7,\"#b8e186\"],[0.8,\"#7fbc41\"],[0.9,\"#4d9221\"],[1,\"#276419\"]]},\"xaxis\":{\"gridcolor\":\"#283442\",\"linecolor\":\"#506784\",\"ticks\":\"\",\"title\":{\"standoff\":15},\"zerolinecolor\":\"#283442\",\"automargin\":true,\"zerolinewidth\":2},\"yaxis\":{\"gridcolor\":\"#283442\",\"linecolor\":\"#506784\",\"ticks\":\"\",\"title\":{\"standoff\":15},\"zerolinecolor\":\"#283442\",\"automargin\":true,\"zerolinewidth\":2},\"scene\":{\"xaxis\":{\"backgroundcolor\":\"rgb(17,17,17)\",\"gridcolor\":\"#506784\",\"linecolor\":\"#506784\",\"showbackground\":true,\"ticks\":\"\",\"zerolinecolor\":\"#C8D4E3\",\"gridwidth\":2},\"yaxis\":{\"backgroundcolor\":\"rgb(17,17,17)\",\"gridcolor\":\"#506784\",\"linecolor\":\"#506784\",\"showbackground\":true,\"ticks\":\"\",\"zerolinecolor\":\"#C8D4E3\",\"gridwidth\":2},\"zaxis\":{\"backgroundcolor\":\"rgb(17,17,17)\",\"gridcolor\":\"#506784\",\"linecolor\":\"#506784\",\"showbackground\":true,\"ticks\":\"\",\"zerolinecolor\":\"#C8D4E3\",\"gridwidth\":2}},\"shapedefaults\":{\"line\":{\"color\":\"#f2f5fa\"}},\"annotationdefaults\":{\"arrowcolor\":\"#f2f5fa\",\"arrowhead\":0,\"arrowwidth\":1},\"geo\":{\"bgcolor\":\"rgb(17,17,17)\",\"landcolor\":\"rgb(17,17,17)\",\"subunitcolor\":\"#506784\",\"showland\":true,\"showlakes\":true,\"lakecolor\":\"rgb(17,17,17)\"},\"title\":{\"x\":0.05},\"updatemenudefaults\":{\"bgcolor\":\"#506784\",\"borderwidth\":0},\"sliderdefaults\":{\"bgcolor\":\"#C8D4E3\",\"borderwidth\":1,\"bordercolor\":\"rgb(17,17,17)\",\"tickwidth\":0},\"mapbox\":{\"style\":\"dark\"}}},\"mapbox\":{\"center\":{\"lat\":51,\"lon\":-0.5},\"style\":\"open-street-map\",\"zoom\":5},\"margin\":{\"r\":0,\"t\":0,\"l\":0,\"b\":0}},                        {\"responsive\": true}                    ).then(function(){\n                            \nvar gd = document.getElementById('6ef6ae38-910f-41a6-a56e-3e430159dee4');\nvar x = new MutationObserver(function (mutations, observer) {{\n        var display = window.getComputedStyle(gd).display;\n        if (!display || display === 'none') {{\n            console.log([gd, 'removed!']);\n            Plotly.purge(gd);\n            observer.disconnect();\n        }}\n}});\n\n// Listen for the removal of the full notebook cells\nvar notebookContainer = gd.closest('#notebook-container');\nif (notebookContainer) {{\n    x.observe(notebookContainer, {childList: true});\n}}\n\n// Listen for the clearing of the current output cell\nvar outputEl = gd.closest('.output');\nif (outputEl) {{\n    x.observe(outputEl, {childList: true});\n}}\n\n                        })                };                });            </script>        </div>"
     },
     "metadata": {},
     "output_type": "display_data"
    }
   ],
   "source": [
    "# define a scale factor for markers\n",
    "scale_factor = 0.2 \n",
    "\n",
    "fig = go.Figure()\n",
    "\n",
    "# add the UK dataset as the first trace\n",
    "fig.add_trace(\n",
    "    go.Scattermapbox(\n",
    "        lat=filtered_uk_power_networks_metadata[\"latitude\"],\n",
    "        lon=filtered_uk_power_networks_metadata[\"longitude\"],\n",
    "        mode='markers',\n",
    "        marker=dict(\n",
    "            size=filtered_uk_power_networks_metadata[\"capacity(kw)\"] * scale_factor, \n",
    "            color='blue'  \n",
    "        ),\n",
    "        text=filtered_uk_power_networks_metadata[\"name\"],\n",
    "        hoverinfo='text',\n",
    "        customdata=filtered_uk_power_networks_metadata[\"capacity(kw)\"],\n",
    "        hovertemplate=\"<b>%{text}</b><br>Capacity: %{customdata} kW\"\n",
    "    )\n",
    ")\n",
    "\n",
    "# add  Portugal dataset as the second trace\n",
    "fig.add_trace(\n",
    "    go.Scattermapbox(\n",
    "        lat=portugal_metadata[\"Latitude\"],\n",
    "        lon=portugal_metadata[\"Longitude\"],\n",
    "        mode='markers',\n",
    "        marker=dict(\n",
    "            size=portugal_metadata[\"Installed Power (kWp)\"] * scale_factor,  # Scale marker size based on Installed Power\n",
    "            color='fuchsia',  # Color for Portugal dataset\n",
    "        ),\n",
    "        text=portugal_metadata[\"PV Serial Number\"],\n",
    "        hoverinfo='text',\n",
    "        customdata=portugal_metadata[[\"Installed Power (kWp)\", \"Location\"]],\n",
    "        hovertemplate=\"<b>%{text}</b><br>Installed Power: %{customdata[0]} kWp<br>Location: %{customdata[1]}\"\n",
    "    )\n",
    ")\n",
    "\n",
    "# set up the Mapbox layout and style\n",
    "fig.update_layout(\n",
    "    mapbox=dict(\n",
    "        style=\"open-street-map\",\n",
    "        zoom=5,\n",
    "        center=dict(lat=51, lon=-0.5)\n",
    "    ),\n",
    "    margin={\"r\":0,\"t\":0,\"l\":0,\"b\":0}\n",
    ")\n",
    "\n",
    "fig.show()"
   ],
   "metadata": {
    "collapsed": false,
    "ExecuteTime": {
     "end_time": "2024-11-10T19:20:20.171884Z",
     "start_time": "2024-11-10T19:20:20.155070Z"
    }
   },
   "id": "156b1d932be40b93",
   "execution_count": 96
  },
  {
   "cell_type": "code",
   "outputs": [],
   "source": [
    "uk_power_networks_data_preprocessed = "
   ],
   "metadata": {
    "collapsed": false
   },
   "id": "40c4f828a9f3339e"
  },
  {
   "cell_type": "code",
   "outputs": [],
   "source": [],
   "metadata": {
    "collapsed": false
   },
   "id": "bf11c1ce2418415b"
  }
 ],
 "metadata": {
  "kernelspec": {
   "display_name": "Python 3 (ipykernel)",
   "language": "python",
   "name": "python3"
  },
  "language_info": {
   "codemirror_mode": {
    "name": "ipython",
    "version": 3
   },
   "file_extension": ".py",
   "mimetype": "text/x-python",
   "name": "python",
   "nbconvert_exporter": "python",
   "pygments_lexer": "ipython3",
   "version": "3.11.4"
  }
 },
 "nbformat": 4,
 "nbformat_minor": 5
}
