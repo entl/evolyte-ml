{
 "cells": [
  {
   "cell_type": "code",
   "execution_count": null,
   "id": "initial_id",
   "metadata": {
    "collapsed": true,
    "jupyter": {
     "outputs_hidden": true
    }
   },
   "outputs": [],
   "source": [
    "import time\n",
    "\n",
    "import pandas as pd\n",
    "import plotly.graph_objects as go\n",
    "import matplotlib.pyplot as plt\n",
    "import requests\n",
    "import json\n",
    "import datetime"
   ]
  },
  {
   "cell_type": "markdown",
   "source": [
    "# Load Metadata"
   ],
   "metadata": {
    "collapsed": false
   },
   "id": "1ad0d9591335b598"
  },
  {
   "cell_type": "code",
   "outputs": [],
   "source": [
    "# load uk plants metadata, it also contains endpoints and substations\n",
    "uk_power_networks_metadata = pd.read_csv(\"data/UKPowerNetworks2013-2014/UK_Solar_Stations_Location_Capacity.csv\")\n",
    "uk_power_networks_metadata.head()"
   ],
   "metadata": {
    "collapsed": false
   },
   "id": "20b9a1571553afa0",
   "execution_count": null
  },
  {
   "cell_type": "code",
   "outputs": [],
   "source": [
    "# Read the Excel file into a pandas DataFrame\n",
    "portugal_metadata = pd.read_excel(\"data/PortugalPhotovoltaicDataset/PV Plants Metadata.xlsx\")\n",
    "portugal_metadata.head()"
   ],
   "metadata": {
    "collapsed": false
   },
   "id": "67c065a06de59bb8",
   "execution_count": null
  },
  {
   "cell_type": "markdown",
   "source": [
    "# Load Datasets"
   ],
   "metadata": {
    "collapsed": false
   },
   "id": "f135deba1cc6ae74"
  },
  {
   "cell_type": "code",
   "outputs": [],
   "source": [
    "# load uk solar power networks hourly data\n",
    "uk_power_networks_df = pd.read_csv(\"data/UKPowerNetworks2013-2014/HourlyDataCustomerEndpoints.csv\")"
   ],
   "metadata": {
    "collapsed": false
   },
   "id": "31974b09d8b24f85",
   "execution_count": null
  },
  {
   "cell_type": "code",
   "outputs": [],
   "source": [
    "# load portugal dataset\n",
    "file_path = 'data/PortugalPhotovoltaicDataset/PV Plants Datasets.xlsx'\n",
    "\n",
    "# define the correspondence table between sheet names and real names\n",
    "correspondence = {\n",
    "    'Lisbon_1': ['84071567'],\n",
    "    'Lisbon_2': ['84071569'],\n",
    "    'Lisbon_3': ['84071570'],\n",
    "    'Lisbon_4': ['62032213'], \n",
    "    'Setubal': ['84071568'],\n",
    "    'Faro': ['84071566'],\n",
    "    'Braga': ['62030198'],\n",
    "    'Tavira': ['73060645'],\n",
    "    'Loule': ['73061935']\n",
    "}\n",
    "\n",
    "data_frames = []\n",
    "for real_name, sheet_names in correspondence.items():\n",
    "    for sheet_name in sheet_names:\n",
    "        df = pd.read_excel(file_path, sheet_name=sheet_name)\n",
    "        df['serial'] = sheet_name\n",
    "        df['name'] = real_name\n",
    "        data_frames.append(df)\n",
    "\n",
    "portugal_df = pd.concat(data_frames, ignore_index=True)\n",
    "portugal_df.head()"
   ],
   "metadata": {
    "collapsed": false
   },
   "id": "58ff4ed3228d53f6",
   "execution_count": null
  },
  {
   "cell_type": "markdown",
   "source": [
    "# Dataset Overview"
   ],
   "metadata": {
    "collapsed": false
   },
   "id": "cb5129968e45e456"
  },
  {
   "cell_type": "markdown",
   "source": [
    "## UK dataset"
   ],
   "metadata": {
    "collapsed": false
   },
   "id": "27e196de71371bfa"
  },
  {
   "cell_type": "code",
   "outputs": [],
   "source": [
    "uk_power_networks_df.info()\n"
   ],
   "metadata": {
    "collapsed": false
   },
   "id": "75c531cc81a69fac",
   "execution_count": null
  },
  {
   "cell_type": "code",
   "outputs": [],
   "source": [
    "uk_power_networks_df.isna().sum()"
   ],
   "metadata": {
    "collapsed": false
   },
   "id": "8fbc54c8b6125776",
   "execution_count": null
  },
  {
   "cell_type": "markdown",
   "source": [
    "# Portuguese dataset"
   ],
   "metadata": {
    "collapsed": false
   },
   "id": "6ea4829156e2d442"
  },
  {
   "cell_type": "code",
   "outputs": [],
   "source": [
    "portugal_df.info()"
   ],
   "metadata": {
    "collapsed": false
   },
   "id": "f42d232458697624",
   "execution_count": null
  },
  {
   "cell_type": "code",
   "outputs": [],
   "source": [
    "portugal_df.isna().sum()"
   ],
   "metadata": {
    "collapsed": false
   },
   "id": "b314102d95639a43",
   "execution_count": null
  },
  {
   "cell_type": "markdown",
   "source": [
    "# Data Preparation"
   ],
   "metadata": {
    "collapsed": false
   },
   "id": "55686f5baf95b360"
  },
  {
   "cell_type": "markdown",
   "source": [
    "## UK"
   ],
   "metadata": {
    "collapsed": false
   },
   "id": "c218a236d04862c"
  },
  {
   "cell_type": "code",
   "outputs": [],
   "source": [
    "# remove from dataset with unclear locations or capacities\n",
    "sites_to_remove = [\"ROOKERY FARM BESTHORPE\", \"RAMPLING COURT\", \"UPPER STAPLEFIELD COMMON\", \"YMCA\"]\n",
    "uk_power_networks_df = uk_power_networks_df.loc[~uk_power_networks_df[\"Substation\"].isin(sites_to_remove)]\n",
    "\n",
    "uk_power_networks_df.head()\n",
    "set(uk_power_networks_df[\"Substation\"])"
   ],
   "metadata": {
    "collapsed": false
   },
   "id": "ca1dcfc546e95cf0",
   "execution_count": null
  },
  {
   "cell_type": "code",
   "outputs": [],
   "source": [
    "# remove all power stations that are not solar\n",
    "uk_power_networks_metadata['name'] = uk_power_networks_metadata['name'].str.title()\n",
    "unique_solar_plants = {solar_plant for solar_plant in uk_power_networks_df[\"Substation\"]}\n",
    "uk_power_networks_metadata = uk_power_networks_metadata[\n",
    "    uk_power_networks_metadata[\"name\"].isin(unique_solar_plants)\n",
    "]\n",
    "\n",
    "uk_power_networks_metadata.head(n=1000)"
   ],
   "metadata": {
    "collapsed": false
   },
   "id": "312d497a1d8d9103",
   "execution_count": null
  },
  {
   "cell_type": "code",
   "outputs": [],
   "source": [
    "uk_power_networks_df[\"P_GEN_AVERAGE\"] = round((uk_power_networks_df[\"P_GEN_MIN\"] + uk_power_networks_df[\"P_GEN_MAX\"]) / 2, 2) "
   ],
   "metadata": {
    "collapsed": false
   },
   "id": "c2982603b9af885d",
   "execution_count": null
  },
  {
   "cell_type": "code",
   "outputs": [],
   "source": [
    "uk_power_networks_df = uk_power_networks_df[[\"SerialNo\", \"Substation\", \"datetime\", \"P_GEN_AVERAGE\"]]\n",
    "uk_power_networks_df.rename(\n",
    "    columns = {\n",
    "        'SerialNo': 'serial',\n",
    "        'Substation': 'name',\n",
    "        'P_GEN_AVERAGE': 'produced energy'\n",
    "    },\n",
    "    inplace=True\n",
    ")\n",
    "uk_power_networks_df.info()"
   ],
   "metadata": {
    "collapsed": false
   },
   "id": "b10713928d627f96",
   "execution_count": null
  },
  {
   "cell_type": "code",
   "outputs": [],
   "source": [
    "uk_power_networks_df = uk_power_networks_df.merge(\n",
    "    uk_power_networks_metadata[[\"name\", \"capacity(kwp)\"]],  # Columns to bring\n",
    "    left_on=\"name\",  # Column in uk_power_networks_df\n",
    "    right_on=\"name\",  # Column in uk_power_networks_metadata\n",
    "    how=\"left\"  # Type of join\n",
    ")"
   ],
   "metadata": {
    "collapsed": false
   },
   "id": "af037b03291dc03f",
   "execution_count": null
  },
  {
   "cell_type": "code",
   "outputs": [],
   "source": [
    "uk_power_networks_df.dropna(inplace=True)\n",
    "uk_power_networks_df.reset_index(drop=True, inplace=True)"
   ],
   "metadata": {
    "collapsed": false
   },
   "id": "65826e92bedd15b3",
   "execution_count": null
  },
  {
   "cell_type": "code",
   "outputs": [],
   "source": [
    "uk_power_networks_df"
   ],
   "metadata": {
    "collapsed": false
   },
   "id": "2de3cb8bcbd58b15",
   "execution_count": null
  },
  {
   "cell_type": "code",
   "outputs": [],
   "source": [
    "# Ensure 'datetime' column in 'uk_power_networks_df' is in datetime format\n",
    "uk_power_networks_df['datetime'] = pd.to_datetime(uk_power_networks_df['datetime'])\n",
    "\n",
    "# Group by 'name' and calculate the start and end dates per station\n",
    "uk_date_range_per_station = uk_power_networks_df.groupby('name')['datetime'].agg(\n",
    "    start_date='min', \n",
    "    end_date='max'\n",
    ").reset_index()\n",
    "\n",
    "# Merge the start and end dates into the 'uk_metadata' DataFrame based on the station name\n",
    "uk_power_networks_metadata = uk_power_networks_metadata.merge(\n",
    "    uk_date_range_per_station,\n",
    "    on='name',  # Assuming 'name' is the matching column in both DataFrames\n",
    "    how='left'\n",
    ")\n",
    "# \n",
    "# Display the updated uk_metadata with start and end dates\n",
    "uk_power_networks_metadata"
   ],
   "metadata": {
    "collapsed": false
   },
   "id": "2cbd3815bc300131",
   "execution_count": null
  },
  {
   "cell_type": "code",
   "outputs": [],
   "source": [
    "# Ensure dates are in datetime format and strip time\n",
    "uk_power_networks_metadata[\"start_date\"] = pd.to_datetime(uk_power_networks_metadata[\"start_date\"]).dt.strftime('%Y-%m-%d')\n",
    "uk_power_networks_metadata[\"end_date\"] = pd.to_datetime(uk_power_networks_metadata[\"end_date\"]).dt.strftime('%Y-%m-%d')"
   ],
   "metadata": {
    "collapsed": false
   },
   "id": "8e33175d15eef71b",
   "execution_count": null
  },
  {
   "cell_type": "markdown",
   "source": [
    "## Portugal"
   ],
   "metadata": {
    "collapsed": false
   },
   "id": "87a6f13556e97f6b"
  },
  {
   "cell_type": "code",
   "outputs": [],
   "source": [
    "# Ensure dates are in datetime format and strip time\n",
    "portugal_metadata[\"From date\"] = pd.to_datetime(portugal_metadata[\"From date\"]).dt.strftime('%Y-%m-%d')\n",
    "portugal_metadata[\"To date\"] = pd.to_datetime(portugal_metadata[\"To date\"]).dt.strftime('%Y-%m-%d')"
   ],
   "metadata": {
    "collapsed": false
   },
   "id": "5151a1d70e752f0a",
   "execution_count": null
  },
  {
   "cell_type": "code",
   "outputs": [],
   "source": [
    "portugal_df = portugal_df[[\"serial\", \"name\", \"Date\", \"Produced Energy (kWh)\"]]\n",
    "portugal_df.rename(\n",
    "    columns={\n",
    "        \"Date\": \"datetime\",\n",
    "        \"Produced Energy (kWh)\": \"produced energy\"\n",
    "    },\n",
    "    inplace=True\n",
    ")\n",
    "portugal_df.head()"
   ],
   "metadata": {
    "collapsed": false
   },
   "id": "3c192edf31d3e98b",
   "execution_count": null
  },
  {
   "cell_type": "code",
   "outputs": [],
   "source": [
    "# Merge portugal_df with portugal_metadata based on the \"serial\" column\n",
    "portugal_df['serial'] = portugal_df['serial'].astype(str)\n",
    "portugal_metadata['PV Serial Number'] = portugal_metadata['PV Serial Number'].astype(str)\n",
    "\n",
    "portugal_df = portugal_df.merge(\n",
    "    portugal_metadata[[\"PV Serial Number\", \"Installed Power (kWp)\"]],  # Columns to bring\n",
    "    left_on=\"serial\",  # Column in portugal_df\n",
    "    right_on=\"PV Serial Number\",  # Column in portugal_metadata\n",
    "    how=\"left\"  # Type of join\n",
    ")"
   ],
   "metadata": {
    "collapsed": false
   },
   "id": "714f17d5ec3f2ecc",
   "execution_count": null
  },
  {
   "cell_type": "markdown",
   "source": [
    "# Data Visualization"
   ],
   "metadata": {
    "collapsed": false
   },
   "id": "5fac86183c32dc32"
  },
  {
   "cell_type": "code",
   "outputs": [],
   "source": [
    "# define a scale factor for markers\n",
    "scale_factor = 0.2 \n",
    "\n",
    "fig = go.Figure()\n",
    "\n",
    "# add the UK dataset as the first trace\n",
    "fig.add_trace(\n",
    "    go.Scattermapbox(\n",
    "        lat=uk_power_networks_metadata[\"latitude\"],\n",
    "        lon=uk_power_networks_metadata[\"longitude\"],\n",
    "        mode='markers',\n",
    "        marker=dict(\n",
    "            size=uk_power_networks_metadata[\"capacity(kwp)\"] * scale_factor, \n",
    "            color='blue'  \n",
    "        ),\n",
    "        text=uk_power_networks_metadata[\"name\"],\n",
    "        hoverinfo='text',\n",
    "        customdata=uk_power_networks_metadata[\"capacity(kwp)\"],\n",
    "        hovertemplate=\"<b>%{text}</b><br>Capacity: %{customdata} kW\"\n",
    "    )\n",
    ")\n",
    "\n",
    "# add  Portugal dataset as the second trace\n",
    "fig.add_trace(\n",
    "    go.Scattermapbox(\n",
    "        lat=portugal_metadata[\"Latitude\"],\n",
    "        lon=portugal_metadata[\"Longitude\"],\n",
    "        mode='markers',\n",
    "        marker=dict(\n",
    "            size=portugal_metadata[\"Installed Power (kWp)\"] * scale_factor,  # Scale marker size based on Installed Power\n",
    "            color='fuchsia',  # Color for Portugal dataset\n",
    "        ),\n",
    "        text=portugal_metadata[\"PV Serial Number\"],\n",
    "        hoverinfo='text',\n",
    "        customdata=portugal_metadata[[\"Installed Power (kWp)\", \"Location\"]],\n",
    "        hovertemplate=\"<b>%{text}</b><br>Installed Power: %{customdata[0]} kWp<br>Location: %{customdata[1]}\"\n",
    "    )\n",
    ")\n",
    "\n",
    "# set up the Mapbox layout and style\n",
    "fig.update_layout(\n",
    "    mapbox=dict(\n",
    "        style=\"open-street-map\",\n",
    "        zoom=5,\n",
    "        center=dict(lat=51, lon=-0.5)\n",
    "    ),\n",
    "    margin={\"r\":0,\"t\":0,\"l\":0,\"b\":0}\n",
    ")\n",
    "\n",
    "fig.show()"
   ],
   "metadata": {
    "collapsed": false
   },
   "id": "156b1d932be40b93",
   "execution_count": null
  },
  {
   "cell_type": "code",
   "outputs": [],
   "source": [
    "plt.figure(figsize=(10, 8))\n",
    "\n",
    "# Concatenate both datasets\n",
    "combined_df = pd.concat([portugal_df, uk_power_networks_df])\n",
    "\n",
    "# Group by 'name' and calculate the sum of 'Produced Energy (kWh)' for each station\n",
    "energy_sum = combined_df.groupby('name').size()\n",
    "\n",
    "# Plotting\n",
    "plt.figure(figsize=(10, 8))\n",
    "energy_sum.plot(kind='barh', color='skyblue')  # Horizontal bar plot\n",
    "\n",
    "plt.title('Total Number of Records per Station')\n",
    "plt.xlabel('Number of Records')\n",
    "plt.ylabel('Station Name')\n",
    "plt.show()"
   ],
   "metadata": {
    "collapsed": false
   },
   "id": "4921363b2f994998",
   "execution_count": null
  },
  {
   "cell_type": "markdown",
   "source": [
    "# Fetch Weather Data"
   ],
   "metadata": {
    "collapsed": false
   },
   "id": "e11dffc492aecf35"
  },
  {
   "cell_type": "code",
   "outputs": [],
   "source": [],
   "metadata": {
    "collapsed": false
   },
   "id": "563820b57ddfafe3",
   "execution_count": null
  },
  {
   "cell_type": "code",
   "outputs": [],
   "source": [
    "# # Base URL for the Open Meteo API\n",
    "# open_meteo_base_url = \"https://archive-api.open-meteo.com/v1/archive\"\n",
    "# \n",
    "# # Template for fixed parameters\n",
    "# fixed_params = {\n",
    "#     \"hourly\": \",\".join([\n",
    "#         \"temperature_2m\",\n",
    "#         \"relative_humidity_2m\",\n",
    "#         \"dew_point_2m\",\n",
    "#         \"pressure_msl\",\n",
    "#         \"cloud_cover\",\n",
    "#         \"et0_fao_evapotranspiration\",\n",
    "#         \"wind_speed_10m\",\n",
    "#         \"wind_direction_10m\",\n",
    "#         \"shortwave_radiation\",\n",
    "#         \"diffuse_radiation\",\n",
    "#         \"direct_normal_irradiance\",\n",
    "#         \"global_tilted_irradiance\",\n",
    "#         \"terrestrial_radiation\"\n",
    "#     ])\n",
    "# }\n",
    "# \n",
    "# def fetch_weather_data(latitude, longitude, start_date, end_date):\n",
    "#     # Create a copy of the fixed parameters and add location and date-specific parameters\n",
    "#     params = fixed_params.copy()\n",
    "#     params.update({\n",
    "#         \"latitude\": latitude,\n",
    "#         \"longitude\": longitude,\n",
    "#         \"start_date\": start_date,\n",
    "#         \"end_date\": end_date\n",
    "#     })\n",
    "#     \n",
    "#     # Send the request to the Open Meteo API\n",
    "#     response = requests.get(open_meteo_base_url, params)\n",
    "#     \n",
    "#     # Check if the request was successful\n",
    "#     if response.status_code == 200:\n",
    "#         # Convert response to JSON\n",
    "#         data = response.json()\n",
    "#         return data  # You could print or process the data as needed\n",
    "#     else:\n",
    "#         # Print an error message if the request failed\n",
    "#         print(f\"Error: {response.status_code} - {response.text}\")\n",
    "#         return None"
   ],
   "metadata": {
    "collapsed": false
   },
   "id": "40c4f828a9f3339e",
   "execution_count": null
  },
  {
   "cell_type": "code",
   "outputs": [],
   "source": [
    "# uk_power_networks_metadata.head()"
   ],
   "metadata": {
    "collapsed": false
   },
   "id": "1e6d8e4b188d6e62",
   "execution_count": null
  },
  {
   "cell_type": "code",
   "outputs": [],
   "source": [
    "# # fetch portugal weather\n",
    "# portugal_weather_df = []\n",
    "# \n",
    "# for _, solar_plant in portugal_metadata.iterrows():\n",
    "#     weather_data = fetch_weather_data(latitude=solar_plant[\"Latitude\"], longitude=solar_plant[\"Longitude\"], start_date=solar_plant[\"From date\"], end_date=solar_plant[\"To date\"])\n",
    "#     hourly_data = weather_data[\"hourly\"]\n",
    "#     hourly_data[\"serial\"] = solar_plant[\"PV Serial Number\"]\n",
    "#     portugal_weather_df.append(pd.DataFrame(hourly_data))\n",
    "#     time.sleep(30) # to avoid minutely limit\n",
    "# \n",
    "# portugal_weather_df = pd.concat(portugal_weather_df, ignore_index=True)\n",
    "# portugal_weather_df.to_csv(\"data/PortugalPhotovoltaicDataset/weather.csv\", index=False)"
   ],
   "metadata": {
    "collapsed": false
   },
   "id": "30adffff70f55fac",
   "execution_count": null
  },
  {
   "cell_type": "code",
   "outputs": [],
   "source": [
    "# # fetch uk weather\n",
    "# uk_weather_df = []\n",
    "# \n",
    "# for _, solar_plant in uk_power_networks_metadata.iterrows():\n",
    "#     weather_data = fetch_weather_data(latitude=solar_plant[\"latitude\"], longitude=solar_plant[\"longitude\"], start_date=solar_plant[\"start_date\"], end_date=solar_plant[\"end_date\"])\n",
    "#     hourly_data = weather_data[\"hourly\"]\n",
    "#     hourly_data[\"serial\"] = solar_plant[\"name\"]\n",
    "#     uk_weather_df.append(pd.DataFrame(hourly_data))\n",
    "#     time.sleep(30) # to avoid minutely limit\n",
    "# \n",
    "# uk_weather_df = pd.concat(uk_weather_df, ignore_index=True)\n",
    "# uk_weather_df.to_csv(\"data/UKPowerNetworks2013-2014/weather.csv\", index=False)"
   ],
   "metadata": {
    "collapsed": false
   },
   "id": "d2c4b005703f61f5",
   "execution_count": null
  },
  {
   "cell_type": "code",
   "outputs": [],
   "source": [
    "# extract weather by timestamp"
   ],
   "metadata": {
    "collapsed": false
   },
   "id": "853aa450f57a5660",
   "execution_count": null
  },
  {
   "cell_type": "code",
   "outputs": [],
   "source": [
    "# combine solar dataset and weather"
   ],
   "metadata": {
    "collapsed": false
   },
   "id": "7fdce7db77eea006",
   "execution_count": null
  },
  {
   "cell_type": "code",
   "outputs": [],
   "source": [
    "portugal_weather_df = pd.read_csv(\"data/PortugalPhotovoltaicDataset/weather.csv\")\n",
    "portugal_weather_df.head(n=100)"
   ],
   "metadata": {
    "collapsed": false
   },
   "id": "c6dda61c48041a63",
   "execution_count": null
  },
  {
   "cell_type": "code",
   "outputs": [],
   "source": [
    "uk_weather_df = pd.read_csv(\"data/UKPowerNetworks2013-2014/weather.csv\")\n",
    "uk_weather_df.head(n=100)"
   ],
   "metadata": {
    "collapsed": false
   },
   "id": "8502a34fe418bb36",
   "execution_count": null
  },
  {
   "cell_type": "markdown",
   "source": [
    "# Merge SOLAR DF and WEATHER"
   ],
   "metadata": {
    "collapsed": false
   },
   "id": "9ce88dcd025fb62f"
  },
  {
   "cell_type": "code",
   "outputs": [],
   "source": [
    "# PORTUGAL: merge weather data with solar datasets \n",
    "solar_data = portugal_df\n",
    "weather_data = portugal_weather_df\n",
    "\n",
    "# Ensure 'serial' columns have the same type\n",
    "solar_data['serial'] = solar_data['serial'].astype(str)\n",
    "weather_data['serial'] = weather_data['serial'].astype(str)\n",
    "\n",
    "# Ensure the keys are formatted consistently\n",
    "solar_data['datetime'] = pd.to_datetime(solar_data['datetime']).dt.tz_localize(None)  # Remove timezone info\n",
    "weather_data['time'] = pd.to_datetime(weather_data['time'])  # Keep timezone if needed\n",
    "\n",
    "# Merge on 'serial' and 'datetime'\n",
    "combined_data = pd.merge(\n",
    "    solar_data,\n",
    "    weather_data,\n",
    "    left_on=['serial', 'datetime'],  # solar_data keys\n",
    "    right_on=['serial', 'time'],  # weather_data keys\n",
    "    how='inner'  # Inner join to keep only matches\n",
    ")\n",
    "\n",
    "# Drop the duplicate 'time' column after merging\n",
    "combined_data = combined_data.drop(columns=['time'])\n",
    "\n",
    "combined_data.to_csv(\"data/PortugalPhotovoltaicDataset/combined_dataset.csv\", index=False)"
   ],
   "metadata": {
    "collapsed": false
   },
   "id": "a4335cb6d3a73b4b",
   "execution_count": null
  },
  {
   "cell_type": "code",
   "outputs": [],
   "source": [
    "# UK: merge weather data with solar datasets \n",
    "solar_data = uk_power_networks_df\n",
    "weather_data = uk_weather_df\n",
    "\n",
    "weather_data.rename(columns={\"serial\":\"name\"}, inplace=True) # rename for consistency\n",
    "\n",
    "# Ensure 'serial' columns have the same type\n",
    "solar_data['name'] = solar_data['name'].astype(str)\n",
    "weather_data['name'] = weather_data['name'].astype(str)\n",
    "\n",
    "\n",
    "# Ensure the keys are formatted consistently\n",
    "solar_data['datetime'] = pd.to_datetime(solar_data['datetime']).dt.tz_localize(None)  # Remove timezone info\n",
    "weather_data['time'] = pd.to_datetime(weather_data['time'])  # Keep timezone if needed\n",
    "\n",
    "# Merge on 'serial' and 'datetime'\n",
    "combined_data = pd.merge(\n",
    "    solar_data,\n",
    "    weather_data,\n",
    "    left_on=['name', 'datetime'],  # solar_data keys\n",
    "    right_on=['name', 'time'],  # weather_data keys\n",
    "    how='inner'  # Inner join to keep only matches\n",
    ")\n",
    "\n",
    "# Drop the duplicate 'time' column after merging\n",
    "combined_data = combined_data.drop(columns=['time'])\n",
    "\n",
    "combined_data.to_csv(\"data/UKPowerNetworks2013-2014/combined_dataset.csv\", index=False)"
   ],
   "metadata": {
    "collapsed": false
   },
   "id": "8eec1cf6a0825385",
   "execution_count": null
  },
  {
   "cell_type": "code",
   "outputs": [],
   "source": [
    "combined_data"
   ],
   "metadata": {
    "collapsed": false
   },
   "id": "f5b0a423acdd66a7",
   "execution_count": null
  },
  {
   "cell_type": "markdown",
   "source": [
    "# Fetch from EU API"
   ],
   "metadata": {
    "collapsed": false
   },
   "id": "ffc995abefcfeef0"
  },
  {
   "cell_type": "code",
   "outputs": [],
   "source": [
    "portugal_metadata"
   ],
   "metadata": {
    "collapsed": false
   },
   "id": "c13584715c8329bd",
   "execution_count": null
  },
  {
   "cell_type": "code",
   "outputs": [],
   "source": [
    "import requests\n",
    "\n",
    "def fetch_pvgis_data(lat, lon, peakpower, loss, outputformat=\"json\", startyear=None, endyear=None,  pvcalculation=0):\n",
    "    \"\"\"\n",
    "    Fetch data from the PVGIS API using required and selected optional parameters.\n",
    "\n",
    "    Parameters:\n",
    "        lat (float): Latitude in decimal degrees.\n",
    "        lon (float): Longitude in decimal degrees.\n",
    "        peakpower (float): Nominal power of the PV system in kW.\n",
    "        loss (float): Sum of system losses in percent.\n",
    "        outputformat (str, optional): Output format, \"csv\" or \"json\". Defaults to \"json\".\n",
    "        startyear (int, optional): First year of the output. Defaults to None.\n",
    "        endyear (int, optional): Last year of the output. Defaults to None.\n",
    "        pvcalculation (int, optional): 1 for PV production estimation, 0 for solar radiation only. Defaults to 0.\n",
    "\n",
    "    Returns:\n",
    "        dict or str: Response data in JSON format if \"json\" is selected, otherwise CSV text.\n",
    "    \"\"\"\n",
    "    base_url = \"https://re.jrc.ec.europa.eu/api/seriescalc\"\n",
    "    params = {\n",
    "        \"lat\": lat,\n",
    "        \"lon\": lon,\n",
    "        \"peakpower\": peakpower,\n",
    "        \"loss\": loss,\n",
    "        \"outputformat\": outputformat,\n",
    "        \"startyear\": startyear,\n",
    "        \"endyear\": endyear,\n",
    "        \"pvcalculation\": pvcalculation,\n",
    "    }\n",
    "\n",
    "    # Remove None values to keep the request clean\n",
    "    params = {key: value for key, value in params.items() if value is not None}\n",
    "\n",
    "    try:\n",
    "        response = requests.get(base_url, params=params)\n",
    "        response.raise_for_status()  # Raise exception for HTTP errors\n",
    "        if outputformat == \"json\":\n",
    "            return response.json()\n",
    "        else:\n",
    "            return response.text\n",
    "    except requests.exceptions.RequestException as e:\n",
    "        print(f\"An error occurred: {e}\")\n",
    "        return None"
   ],
   "metadata": {
    "collapsed": false
   },
   "id": "29050e48f2cd116b",
   "execution_count": null
  },
  {
   "cell_type": "code",
   "outputs": [
    {
     "data": {
      "text/plain": "  PV Serial Number Location  Latitude  Longitude   From date     To date  \\\n0         84071567   Lisbon    38.728     -9.138  2019-01-01  2022-12-31   \n1         84071569   Lisbon    38.833     -9.191  2019-01-01  2022-12-31   \n2         84071568  Setubal    38.577     -8.872  2019-01-01  2022-12-31   \n3         84071570   Lisbon    38.725     -9.120  2019-01-01  2022-12-31   \n4         84071566     Faro    37.031     -7.893  2019-01-01  2022-12-31   \n5         62030198    Braga    41.493     -8.496  2019-01-01  2022-12-31   \n6         62032213   Lisbon    38.701     -9.236  2019-01-01  2022-12-31   \n7         73060645   Tavira    37.131     -7.645  2019-01-01  2022-12-31   \n8         73061935    Loule    37.131     -8.038  2019-01-01  2022-12-31   \n\n   Installed Power (kWp)  Connection Power (kWn)  \n0                  46.00                    40.0  \n1                  16.32                    15.0  \n2                  23.52                    20.0  \n3                  30.00                    27.0  \n4                   7.00                     6.6  \n5                  64.93                    60.0  \n6                  22.54                    20.0  \n7                  46.00                    40.0  \n8                  46.25                    40.0  ",
      "text/html": "<div>\n<style scoped>\n    .dataframe tbody tr th:only-of-type {\n        vertical-align: middle;\n    }\n\n    .dataframe tbody tr th {\n        vertical-align: top;\n    }\n\n    .dataframe thead th {\n        text-align: right;\n    }\n</style>\n<table border=\"1\" class=\"dataframe\">\n  <thead>\n    <tr style=\"text-align: right;\">\n      <th></th>\n      <th>PV Serial Number</th>\n      <th>Location</th>\n      <th>Latitude</th>\n      <th>Longitude</th>\n      <th>From date</th>\n      <th>To date</th>\n      <th>Installed Power (kWp)</th>\n      <th>Connection Power (kWn)</th>\n    </tr>\n  </thead>\n  <tbody>\n    <tr>\n      <th>0</th>\n      <td>84071567</td>\n      <td>Lisbon</td>\n      <td>38.728</td>\n      <td>-9.138</td>\n      <td>2019-01-01</td>\n      <td>2022-12-31</td>\n      <td>46.00</td>\n      <td>40.0</td>\n    </tr>\n    <tr>\n      <th>1</th>\n      <td>84071569</td>\n      <td>Lisbon</td>\n      <td>38.833</td>\n      <td>-9.191</td>\n      <td>2019-01-01</td>\n      <td>2022-12-31</td>\n      <td>16.32</td>\n      <td>15.0</td>\n    </tr>\n    <tr>\n      <th>2</th>\n      <td>84071568</td>\n      <td>Setubal</td>\n      <td>38.577</td>\n      <td>-8.872</td>\n      <td>2019-01-01</td>\n      <td>2022-12-31</td>\n      <td>23.52</td>\n      <td>20.0</td>\n    </tr>\n    <tr>\n      <th>3</th>\n      <td>84071570</td>\n      <td>Lisbon</td>\n      <td>38.725</td>\n      <td>-9.120</td>\n      <td>2019-01-01</td>\n      <td>2022-12-31</td>\n      <td>30.00</td>\n      <td>27.0</td>\n    </tr>\n    <tr>\n      <th>4</th>\n      <td>84071566</td>\n      <td>Faro</td>\n      <td>37.031</td>\n      <td>-7.893</td>\n      <td>2019-01-01</td>\n      <td>2022-12-31</td>\n      <td>7.00</td>\n      <td>6.6</td>\n    </tr>\n    <tr>\n      <th>5</th>\n      <td>62030198</td>\n      <td>Braga</td>\n      <td>41.493</td>\n      <td>-8.496</td>\n      <td>2019-01-01</td>\n      <td>2022-12-31</td>\n      <td>64.93</td>\n      <td>60.0</td>\n    </tr>\n    <tr>\n      <th>6</th>\n      <td>62032213</td>\n      <td>Lisbon</td>\n      <td>38.701</td>\n      <td>-9.236</td>\n      <td>2019-01-01</td>\n      <td>2022-12-31</td>\n      <td>22.54</td>\n      <td>20.0</td>\n    </tr>\n    <tr>\n      <th>7</th>\n      <td>73060645</td>\n      <td>Tavira</td>\n      <td>37.131</td>\n      <td>-7.645</td>\n      <td>2019-01-01</td>\n      <td>2022-12-31</td>\n      <td>46.00</td>\n      <td>40.0</td>\n    </tr>\n    <tr>\n      <th>8</th>\n      <td>73061935</td>\n      <td>Loule</td>\n      <td>37.131</td>\n      <td>-8.038</td>\n      <td>2019-01-01</td>\n      <td>2022-12-31</td>\n      <td>46.25</td>\n      <td>40.0</td>\n    </tr>\n  </tbody>\n</table>\n</div>"
     },
     "execution_count": 385,
     "metadata": {},
     "output_type": "execute_result"
    }
   ],
   "source": [
    "portugal_metadata"
   ],
   "metadata": {
    "collapsed": false,
    "ExecuteTime": {
     "end_time": "2024-12-12T14:56:54.641069Z",
     "start_time": "2024-12-12T14:56:54.634223Z"
    }
   },
   "id": "3ff3ed89d07f7f21",
   "execution_count": 385
  },
  {
   "cell_type": "code",
   "outputs": [
    {
     "name": "stdout",
     "output_type": "stream",
     "text": [
      "Combined data saved to data/PortugalPhotovoltaicDataset/combined_pvgis_data.csv\n"
     ]
    }
   ],
   "source": [
    "# Initialize an empty list to store data for all stations\n",
    "all_data = []\n",
    "\n",
    "# Loop through each solar plant in the metadata\n",
    "for _, solar_plant in portugal_metadata.iterrows():\n",
    "    # Fetch data for the current solar plant\n",
    "    data = fetch_pvgis_data(\n",
    "        lat=solar_plant[\"Latitude\"],\n",
    "        lon=solar_plant[\"Longitude\"],\n",
    "        peakpower=solar_plant[\"Installed Power (kWp)\"],\n",
    "        loss=10,  # Assume 10% loss\n",
    "        outputformat=\"json\",  # Ensure we get structured data\n",
    "        startyear=2019,\n",
    "        endyear=2022,\n",
    "        pvcalculation=1\n",
    "    )\n",
    "    \n",
    "    # Process the fetched data\n",
    "    if data:\n",
    "        # Extract hourly data\n",
    "        hourly_data = pd.DataFrame(data.get(\"outputs\", {}).get(\"hourly\", []))\n",
    "        if not hourly_data.empty:\n",
    "            # Add metadata for the solar plant\n",
    "            hourly_data[\"Serial\"] = solar_plant[\"PV Serial Number\"]\n",
    "            hourly_data[\"Latitude\"] = solar_plant[\"Latitude\"]\n",
    "            hourly_data[\"Longitude\"] = solar_plant[\"Longitude\"]\n",
    "            hourly_data[\"Installed Power (kWp)\"] = solar_plant[\"Installed Power (kWp)\"]\n",
    "            \n",
    "            # Convert datetime format from \"20190101:0010\" to \"YYYY-MM-DD HH:MM\"\n",
    "            hourly_data[\"time\"] = pd.to_datetime(hourly_data[\"time\"], format=\"%Y%m%d:%H%M\")\n",
    "            \n",
    "            # Append to the list of all data\n",
    "            all_data.append(hourly_data)\n",
    "        else:\n",
    "            print(f\"No hourly data found for station {solar_plant['PV Serial Number']}\")\n",
    "    else:\n",
    "        print(f\"Failed to fetch data for station {solar_plant['PV Serial Number']}\")\n",
    "\n",
    "# Combine all station data into a single DataFrame\n",
    "combined_data = pd.concat(all_data, ignore_index=True)\n",
    "\n",
    "# Save to a single CSV file\n",
    "combined_file_name = \"data/PortugalPhotovoltaicDataset/combined_pvgis_data.csv\"\n",
    "combined_data.to_csv(combined_file_name, index=False)\n",
    "print(f\"Combined data saved to {combined_file_name}\")"
   ],
   "metadata": {
    "collapsed": false,
    "ExecuteTime": {
     "end_time": "2024-12-12T15:43:12.419056Z",
     "start_time": "2024-12-12T15:42:30.092677Z"
    }
   },
   "id": "2e8b720aad47b8b0",
   "execution_count": 408
  },
  {
   "cell_type": "code",
   "outputs": [
    {
     "data": {
      "text/plain": "  PV Serial Number Location  Latitude  Longitude   From date     To date  \\\n0         84071567   Lisbon    38.728     -9.138  2019-01-01  2022-12-31   \n1         84071569   Lisbon    38.833     -9.191  2019-01-01  2022-12-31   \n2         84071568  Setubal    38.577     -8.872  2019-01-01  2022-12-31   \n3         84071570   Lisbon    38.725     -9.120  2019-01-01  2022-12-31   \n4         84071566     Faro    37.031     -7.893  2019-01-01  2022-12-31   \n5         62030198    Braga    41.493     -8.496  2019-01-01  2022-12-31   \n6         62032213   Lisbon    38.701     -9.236  2019-01-01  2022-12-31   \n7         73060645   Tavira    37.131     -7.645  2019-01-01  2022-12-31   \n8         73061935    Loule    37.131     -8.038  2019-01-01  2022-12-31   \n\n   Installed Power (kWp)  Connection Power (kWn)  \n0                  46.00                    40.0  \n1                  16.32                    15.0  \n2                  23.52                    20.0  \n3                  30.00                    27.0  \n4                   7.00                     6.6  \n5                  64.93                    60.0  \n6                  22.54                    20.0  \n7                  46.00                    40.0  \n8                  46.25                    40.0  ",
      "text/html": "<div>\n<style scoped>\n    .dataframe tbody tr th:only-of-type {\n        vertical-align: middle;\n    }\n\n    .dataframe tbody tr th {\n        vertical-align: top;\n    }\n\n    .dataframe thead th {\n        text-align: right;\n    }\n</style>\n<table border=\"1\" class=\"dataframe\">\n  <thead>\n    <tr style=\"text-align: right;\">\n      <th></th>\n      <th>PV Serial Number</th>\n      <th>Location</th>\n      <th>Latitude</th>\n      <th>Longitude</th>\n      <th>From date</th>\n      <th>To date</th>\n      <th>Installed Power (kWp)</th>\n      <th>Connection Power (kWn)</th>\n    </tr>\n  </thead>\n  <tbody>\n    <tr>\n      <th>0</th>\n      <td>84071567</td>\n      <td>Lisbon</td>\n      <td>38.728</td>\n      <td>-9.138</td>\n      <td>2019-01-01</td>\n      <td>2022-12-31</td>\n      <td>46.00</td>\n      <td>40.0</td>\n    </tr>\n    <tr>\n      <th>1</th>\n      <td>84071569</td>\n      <td>Lisbon</td>\n      <td>38.833</td>\n      <td>-9.191</td>\n      <td>2019-01-01</td>\n      <td>2022-12-31</td>\n      <td>16.32</td>\n      <td>15.0</td>\n    </tr>\n    <tr>\n      <th>2</th>\n      <td>84071568</td>\n      <td>Setubal</td>\n      <td>38.577</td>\n      <td>-8.872</td>\n      <td>2019-01-01</td>\n      <td>2022-12-31</td>\n      <td>23.52</td>\n      <td>20.0</td>\n    </tr>\n    <tr>\n      <th>3</th>\n      <td>84071570</td>\n      <td>Lisbon</td>\n      <td>38.725</td>\n      <td>-9.120</td>\n      <td>2019-01-01</td>\n      <td>2022-12-31</td>\n      <td>30.00</td>\n      <td>27.0</td>\n    </tr>\n    <tr>\n      <th>4</th>\n      <td>84071566</td>\n      <td>Faro</td>\n      <td>37.031</td>\n      <td>-7.893</td>\n      <td>2019-01-01</td>\n      <td>2022-12-31</td>\n      <td>7.00</td>\n      <td>6.6</td>\n    </tr>\n    <tr>\n      <th>5</th>\n      <td>62030198</td>\n      <td>Braga</td>\n      <td>41.493</td>\n      <td>-8.496</td>\n      <td>2019-01-01</td>\n      <td>2022-12-31</td>\n      <td>64.93</td>\n      <td>60.0</td>\n    </tr>\n    <tr>\n      <th>6</th>\n      <td>62032213</td>\n      <td>Lisbon</td>\n      <td>38.701</td>\n      <td>-9.236</td>\n      <td>2019-01-01</td>\n      <td>2022-12-31</td>\n      <td>22.54</td>\n      <td>20.0</td>\n    </tr>\n    <tr>\n      <th>7</th>\n      <td>73060645</td>\n      <td>Tavira</td>\n      <td>37.131</td>\n      <td>-7.645</td>\n      <td>2019-01-01</td>\n      <td>2022-12-31</td>\n      <td>46.00</td>\n      <td>40.0</td>\n    </tr>\n    <tr>\n      <th>8</th>\n      <td>73061935</td>\n      <td>Loule</td>\n      <td>37.131</td>\n      <td>-8.038</td>\n      <td>2019-01-01</td>\n      <td>2022-12-31</td>\n      <td>46.25</td>\n      <td>40.0</td>\n    </tr>\n  </tbody>\n</table>\n</div>"
     },
     "execution_count": 407,
     "metadata": {},
     "output_type": "execute_result"
    }
   ],
   "source": [
    "portugal_metadata"
   ],
   "metadata": {
    "collapsed": false,
    "ExecuteTime": {
     "end_time": "2024-12-12T15:42:21.067370Z",
     "start_time": "2024-12-12T15:42:21.060991Z"
    }
   },
   "id": "69778bbf87fc9cc1",
   "execution_count": 407
  },
  {
   "cell_type": "code",
   "outputs": [
    {
     "name": "stdout",
     "output_type": "stream",
     "text": [
      "Combined data saved to data/UKPowerNetworks2013-2014/combined_pvgis_data.csv\n"
     ]
    }
   ],
   "source": [
    "import pandas as pd\n",
    "\n",
    "# Initialize an empty list to store data for all stations\n",
    "uk_data = []\n",
    "\n",
    "# Loop through each solar plant in the UK metadata\n",
    "for _, solar_plant in uk_metadata.iterrows():\n",
    "    # Fetch data for the current solar plant\n",
    "    data = fetch_pvgis_data(\n",
    "        lat=solar_plant[\"latitude\"],\n",
    "        lon=solar_plant[\"longitude\"],\n",
    "        peakpower=solar_plant[\"capacity(kwp)\"],\n",
    "        loss=10,  # Assume 10% loss\n",
    "        outputformat=\"json\",  # Ensure we get structured data\n",
    "        startyear=int(solar_plant[\"start_date\"][:4]),\n",
    "        endyear=int(solar_plant[\"end_date\"][:4]),\n",
    "        pvcalculation=1\n",
    "    )\n",
    "    \n",
    "    # Process the fetched data\n",
    "    if data:\n",
    "        # Extract hourly data\n",
    "        hourly_data = pd.DataFrame(data.get(\"outputs\", {}).get(\"hourly\", []))\n",
    "        if not hourly_data.empty:\n",
    "            # Convert datetime format from \"20190101:0010\" to \"YYYY-MM-DD HH:MM\"\n",
    "            hourly_data[\"time\"] = pd.to_datetime(hourly_data[\"time\"], format=\"%Y%m%d:%H%M\")\n",
    "            \n",
    "            # Filter by the station's measurement period\n",
    "            start_date = pd.to_datetime(solar_plant[\"start_date\"])\n",
    "            end_date = pd.to_datetime(solar_plant[\"end_date\"])\n",
    "            hourly_data = hourly_data[(hourly_data[\"time\"] >= start_date) & (hourly_data[\"time\"] <= end_date)]\n",
    "            \n",
    "            # Add metadata for the solar plant\n",
    "            hourly_data[\"Name\"] = solar_plant[\"name\"]\n",
    "            hourly_data[\"Latitude\"] = solar_plant[\"latitude\"]\n",
    "            hourly_data[\"Longitude\"] = solar_plant[\"longitude\"]\n",
    "            hourly_data[\"Capacity (kWp)\"] = solar_plant[\"capacity(kwp)\"]\n",
    "            \n",
    "            # Append to the list of all data\n",
    "            uk_data.append(hourly_data)\n",
    "        else:\n",
    "            print(f\"No hourly data found for station {solar_plant['name']}\")\n",
    "    else:\n",
    "        print(f\"Failed to fetch data for station {solar_plant['name']}\")\n",
    "\n",
    "# Combine all station data into a single DataFrame\n",
    "combined_data = pd.concat(uk_data, ignore_index=True)\n",
    "\n",
    "# Save to a single CSV file\n",
    "combined_file_name = \"data/UKPowerNetworks2013-2014/combined_pvgis_data.csv\"\n",
    "combined_data.to_csv(combined_file_name, index=False)\n",
    "print(f\"Combined data saved to {combined_file_name}\")"
   ],
   "metadata": {
    "collapsed": false,
    "ExecuteTime": {
     "end_time": "2024-12-12T15:28:10.257574Z",
     "start_time": "2024-12-12T15:28:01.686304Z"
    }
   },
   "id": "abd7801b20691050",
   "execution_count": 399
  },
  {
   "cell_type": "code",
   "outputs": [],
   "source": [
    "import pandas as pd\n",
    "import plotly.express as px\n",
    "import json\n",
    "\n",
    "# # Load JSON data from a file\n",
    "# with open(\"data/Timeseries SA3 46kWp 2019.json\", \"r\") as file:  # Replace with your file path\n",
    "#     data = json.load(file)\n",
    "\n",
    "# Load hourly data into a DataFrame\n",
    "hourly_data = pd.DataFrame(data[\"outputs\"][\"hourly\"])\n",
    "\n",
    "# Convert time strings to datetime\n",
    "hourly_data[\"time\"] = pd.to_datetime(hourly_data[\"time\"], format=\"%Y%m%d:%H%M\")\n",
    "\n",
    "# # # Subset the data for January 2005 (optional, adjust for your needs)\n",
    "# hourly_data = hourly_data[(hourly_data[\"time\"] >= \"2010-01-01\") & (hourly_data[\"time\"] <= \"2019-01-10\")]\n",
    "\n",
    "# Create an interactive plot with Plotly\n",
    "fig = px.line(\n",
    "    hourly_data,\n",
    "    x=\"time\",\n",
    "    y=\"P\",\n",
    "    title=\"Interactive Hourly PV Metrics for January 2005\",\n",
    "    labels={\"time\": \"Time\", \"P\": \"Power (P) [kWh]\"},\n",
    "    template=\"plotly_dark\"  # Optional: Dark theme\n",
    ")\n",
    "\n",
    "# Customize the plot\n",
    "fig.update_traces(line=dict(width=2), marker=dict(size=4))\n",
    "fig.update_layout(\n",
    "    title_font=dict(size=20),\n",
    "    xaxis=dict(title=\"Time\", titlefont_size=16, tickfont_size=12),\n",
    "    yaxis=dict(title=\"Power (P) [kWh]\", titlefont_size=16, tickfont_size=12),\n",
    ")\n",
    "\n",
    "# Show the interactive plot\n",
    "fig.show()"
   ],
   "metadata": {
    "collapsed": false
   },
   "id": "3458161d821193c",
   "execution_count": null
  },
  {
   "cell_type": "code",
   "outputs": [
    {
     "data": {
      "text/plain": "                       time    P  G(i)  H_sun    T2m  WS10m  Int    Serial  \\\n0       2019-01-01 00:10:00  0.0   0.0    0.0  10.22   2.21  0.0  84071567   \n1       2019-01-01 01:10:00  0.0   0.0    0.0   9.78   2.28  0.0  84071567   \n2       2019-01-01 02:10:00  0.0   0.0    0.0   9.37   2.34  0.0  84071567   \n3       2019-01-01 03:10:00  0.0   0.0    0.0   9.04   2.48  0.0  84071567   \n4       2019-01-01 04:10:00  0.0   0.0    0.0   8.72   2.55  0.0  84071567   \n...                     ...  ...   ...    ...    ...    ...  ...       ...   \n315571  2022-12-31 19:09:00  0.0   0.0    0.0  16.07   3.72  0.0  73061935   \n315572  2022-12-31 20:09:00  0.0   0.0    0.0  15.90   3.52  0.0  73061935   \n315573  2022-12-31 21:09:00  0.0   0.0    0.0  15.78   3.45  0.0  73061935   \n315574  2022-12-31 22:09:00  0.0   0.0    0.0  15.76   3.86  0.0  73061935   \n315575  2022-12-31 23:09:00  0.0   0.0    0.0  15.81   4.28  0.0  73061935   \n\n        Latitude  Longitude  Installed Power (kWp)  \n0         38.728     -9.138                  46.00  \n1         38.728     -9.138                  46.00  \n2         38.728     -9.138                  46.00  \n3         38.728     -9.138                  46.00  \n4         38.728     -9.138                  46.00  \n...          ...        ...                    ...  \n315571    37.131     -8.038                  46.25  \n315572    37.131     -8.038                  46.25  \n315573    37.131     -8.038                  46.25  \n315574    37.131     -8.038                  46.25  \n315575    37.131     -8.038                  46.25  \n\n[315576 rows x 11 columns]",
      "text/html": "<div>\n<style scoped>\n    .dataframe tbody tr th:only-of-type {\n        vertical-align: middle;\n    }\n\n    .dataframe tbody tr th {\n        vertical-align: top;\n    }\n\n    .dataframe thead th {\n        text-align: right;\n    }\n</style>\n<table border=\"1\" class=\"dataframe\">\n  <thead>\n    <tr style=\"text-align: right;\">\n      <th></th>\n      <th>time</th>\n      <th>P</th>\n      <th>G(i)</th>\n      <th>H_sun</th>\n      <th>T2m</th>\n      <th>WS10m</th>\n      <th>Int</th>\n      <th>Serial</th>\n      <th>Latitude</th>\n      <th>Longitude</th>\n      <th>Installed Power (kWp)</th>\n    </tr>\n  </thead>\n  <tbody>\n    <tr>\n      <th>0</th>\n      <td>2019-01-01 00:10:00</td>\n      <td>0.0</td>\n      <td>0.0</td>\n      <td>0.0</td>\n      <td>10.22</td>\n      <td>2.21</td>\n      <td>0.0</td>\n      <td>84071567</td>\n      <td>38.728</td>\n      <td>-9.138</td>\n      <td>46.00</td>\n    </tr>\n    <tr>\n      <th>1</th>\n      <td>2019-01-01 01:10:00</td>\n      <td>0.0</td>\n      <td>0.0</td>\n      <td>0.0</td>\n      <td>9.78</td>\n      <td>2.28</td>\n      <td>0.0</td>\n      <td>84071567</td>\n      <td>38.728</td>\n      <td>-9.138</td>\n      <td>46.00</td>\n    </tr>\n    <tr>\n      <th>2</th>\n      <td>2019-01-01 02:10:00</td>\n      <td>0.0</td>\n      <td>0.0</td>\n      <td>0.0</td>\n      <td>9.37</td>\n      <td>2.34</td>\n      <td>0.0</td>\n      <td>84071567</td>\n      <td>38.728</td>\n      <td>-9.138</td>\n      <td>46.00</td>\n    </tr>\n    <tr>\n      <th>3</th>\n      <td>2019-01-01 03:10:00</td>\n      <td>0.0</td>\n      <td>0.0</td>\n      <td>0.0</td>\n      <td>9.04</td>\n      <td>2.48</td>\n      <td>0.0</td>\n      <td>84071567</td>\n      <td>38.728</td>\n      <td>-9.138</td>\n      <td>46.00</td>\n    </tr>\n    <tr>\n      <th>4</th>\n      <td>2019-01-01 04:10:00</td>\n      <td>0.0</td>\n      <td>0.0</td>\n      <td>0.0</td>\n      <td>8.72</td>\n      <td>2.55</td>\n      <td>0.0</td>\n      <td>84071567</td>\n      <td>38.728</td>\n      <td>-9.138</td>\n      <td>46.00</td>\n    </tr>\n    <tr>\n      <th>...</th>\n      <td>...</td>\n      <td>...</td>\n      <td>...</td>\n      <td>...</td>\n      <td>...</td>\n      <td>...</td>\n      <td>...</td>\n      <td>...</td>\n      <td>...</td>\n      <td>...</td>\n      <td>...</td>\n    </tr>\n    <tr>\n      <th>315571</th>\n      <td>2022-12-31 19:09:00</td>\n      <td>0.0</td>\n      <td>0.0</td>\n      <td>0.0</td>\n      <td>16.07</td>\n      <td>3.72</td>\n      <td>0.0</td>\n      <td>73061935</td>\n      <td>37.131</td>\n      <td>-8.038</td>\n      <td>46.25</td>\n    </tr>\n    <tr>\n      <th>315572</th>\n      <td>2022-12-31 20:09:00</td>\n      <td>0.0</td>\n      <td>0.0</td>\n      <td>0.0</td>\n      <td>15.90</td>\n      <td>3.52</td>\n      <td>0.0</td>\n      <td>73061935</td>\n      <td>37.131</td>\n      <td>-8.038</td>\n      <td>46.25</td>\n    </tr>\n    <tr>\n      <th>315573</th>\n      <td>2022-12-31 21:09:00</td>\n      <td>0.0</td>\n      <td>0.0</td>\n      <td>0.0</td>\n      <td>15.78</td>\n      <td>3.45</td>\n      <td>0.0</td>\n      <td>73061935</td>\n      <td>37.131</td>\n      <td>-8.038</td>\n      <td>46.25</td>\n    </tr>\n    <tr>\n      <th>315574</th>\n      <td>2022-12-31 22:09:00</td>\n      <td>0.0</td>\n      <td>0.0</td>\n      <td>0.0</td>\n      <td>15.76</td>\n      <td>3.86</td>\n      <td>0.0</td>\n      <td>73061935</td>\n      <td>37.131</td>\n      <td>-8.038</td>\n      <td>46.25</td>\n    </tr>\n    <tr>\n      <th>315575</th>\n      <td>2022-12-31 23:09:00</td>\n      <td>0.0</td>\n      <td>0.0</td>\n      <td>0.0</td>\n      <td>15.81</td>\n      <td>4.28</td>\n      <td>0.0</td>\n      <td>73061935</td>\n      <td>37.131</td>\n      <td>-8.038</td>\n      <td>46.25</td>\n    </tr>\n  </tbody>\n</table>\n<p>315576 rows × 11 columns</p>\n</div>"
     },
     "execution_count": 409,
     "metadata": {},
     "output_type": "execute_result"
    }
   ],
   "source": [
    "temp = pd.read_csv(\"data/PortugalPhotovoltaicDataset/combined_pvgis_data.csv\")\n",
    "temp"
   ],
   "metadata": {
    "collapsed": false,
    "ExecuteTime": {
     "end_time": "2024-12-12T15:43:32.887818Z",
     "start_time": "2024-12-12T15:43:32.710952Z"
    }
   },
   "id": "7f1d1e65ceeb7b1",
   "execution_count": 409
  },
  {
   "cell_type": "code",
   "outputs": [
    {
     "name": "stdout",
     "output_type": "stream",
     "text": [
      "<class 'pandas.core.frame.DataFrame'>\n",
      "RangeIndex: 315576 entries, 0 to 315575\n",
      "Data columns (total 11 columns):\n",
      " #   Column                 Non-Null Count   Dtype  \n",
      "---  ------                 --------------   -----  \n",
      " 0   time                   315576 non-null  object \n",
      " 1   P                      315576 non-null  float64\n",
      " 2   G(i)                   315576 non-null  float64\n",
      " 3   H_sun                  315576 non-null  float64\n",
      " 4   T2m                    315576 non-null  float64\n",
      " 5   WS10m                  315576 non-null  float64\n",
      " 6   Int                    315576 non-null  float64\n",
      " 7   Serial                 315576 non-null  int64  \n",
      " 8   Latitude               315576 non-null  float64\n",
      " 9   Longitude              315576 non-null  float64\n",
      " 10  Installed Power (kWp)  315576 non-null  float64\n",
      "dtypes: float64(9), int64(1), object(1)\n",
      "memory usage: 26.5+ MB\n"
     ]
    }
   ],
   "source": [
    "temp.info()"
   ],
   "metadata": {
    "collapsed": false,
    "ExecuteTime": {
     "end_time": "2024-12-12T15:43:41.255565Z",
     "start_time": "2024-12-12T15:43:41.238266Z"
    }
   },
   "id": "581d41c0306c71d",
   "execution_count": 411
  },
  {
   "cell_type": "code",
   "outputs": [
    {
     "name": "stdout",
     "output_type": "stream",
     "text": [
      "<class 'pandas.core.frame.DataFrame'>\n",
      "RangeIndex: 315567 entries, 0 to 315566\n",
      "Data columns (total 6 columns):\n",
      " #   Column                 Non-Null Count   Dtype         \n",
      "---  ------                 --------------   -----         \n",
      " 0   serial                 315567 non-null  object        \n",
      " 1   name                   315567 non-null  object        \n",
      " 2   datetime               315567 non-null  datetime64[ns]\n",
      " 3   produced energy        315567 non-null  float64       \n",
      " 4   PV Serial Number       315567 non-null  object        \n",
      " 5   Installed Power (kWp)  315567 non-null  float64       \n",
      "dtypes: datetime64[ns](1), float64(2), object(3)\n",
      "memory usage: 14.4+ MB\n"
     ]
    }
   ],
   "source": [
    "portugal_df.info()"
   ],
   "metadata": {
    "collapsed": false,
    "ExecuteTime": {
     "end_time": "2024-12-12T15:44:17.759496Z",
     "start_time": "2024-12-12T15:44:17.719565Z"
    }
   },
   "id": "c3bf8abb283ffaff",
   "execution_count": 412
  },
  {
   "cell_type": "code",
   "outputs": [],
   "source": [],
   "metadata": {
    "collapsed": false
   },
   "id": "31201805ac53c066"
  }
 ],
 "metadata": {
  "kernelspec": {
   "display_name": "Python 3 (ipykernel)",
   "language": "python",
   "name": "python3"
  },
  "language_info": {
   "codemirror_mode": {
    "name": "ipython",
    "version": 3
   },
   "file_extension": ".py",
   "mimetype": "text/x-python",
   "name": "python",
   "nbconvert_exporter": "python",
   "pygments_lexer": "ipython3",
   "version": "3.11.4"
  }
 },
 "nbformat": 4,
 "nbformat_minor": 5
}
