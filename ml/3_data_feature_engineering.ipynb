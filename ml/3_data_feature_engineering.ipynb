{
 "cells": [
  {
   "cell_type": "code",
   "execution_count": 1,
   "id": "initial_id",
   "metadata": {
    "collapsed": true,
    "ExecuteTime": {
     "end_time": "2025-01-24T14:32:22.880650Z",
     "start_time": "2025-01-24T14:32:22.740431Z"
    }
   },
   "outputs": [],
   "source": [
    "import numpy as np\n",
    "import pandas as pd\n",
    "import requests\n",
    "import time\n",
    "import pvlib\n",
    "\n",
    "# disable warnings from pandas\n",
    "pd.options.mode.chained_assignment = None  # default='warn'"
   ]
  },
  {
   "cell_type": "markdown",
   "source": [
    "# Load Metadata"
   ],
   "metadata": {
    "collapsed": false
   },
   "id": "18be8eafd70a791f"
  },
  {
   "cell_type": "code",
   "outputs": [],
   "source": [
    "portugal_metadata = pd.read_csv(\"data/PortugalPhotovoltaicDataset/photovoltaic_dataset_metadata.csv\")\n",
    "uk_open_climate_fix_metadata = pd.read_csv(\"data/UKOpenClimateFix/uk_open_climate_fixed_metadata.csv\")"
   ],
   "metadata": {
    "collapsed": false,
    "ExecuteTime": {
     "end_time": "2025-01-24T14:32:22.897351Z",
     "start_time": "2025-01-24T14:32:22.881874Z"
    }
   },
   "id": "439842d82b3a653c",
   "execution_count": 2
  },
  {
   "cell_type": "markdown",
   "source": [
    "# Load Data"
   ],
   "metadata": {
    "collapsed": false
   },
   "id": "71669996c38b384f"
  },
  {
   "cell_type": "code",
   "outputs": [],
   "source": [
    "uk_open_climate_fix_df = pd.read_csv(\"data/UKOpenClimateFix/uk_open_climate_hourly_dataset_raw.csv\")\n",
    "portugal_df = pd.read_csv(\"data/PortugalPhotovoltaicDataset/photovoltaic_dataset_raw.csv\")"
   ],
   "metadata": {
    "collapsed": false,
    "ExecuteTime": {
     "end_time": "2025-01-24T14:32:23.391012Z",
     "start_time": "2025-01-24T14:32:23.141051Z"
    }
   },
   "id": "6da0c3fbd86edb4c",
   "execution_count": 3
  },
  {
   "cell_type": "markdown",
   "source": [
    "# Align Metadata"
   ],
   "metadata": {
    "collapsed": false
   },
   "id": "66fde9e73cbf00"
  },
  {
   "cell_type": "code",
   "outputs": [],
   "source": [
    "def rename_portugal_metadata_columns(metadata):\n",
    "    return metadata.rename(columns={\n",
    "        'PV Serial Number': 'serial',\n",
    "        'Latitude': 'latitude',\n",
    "        'Longitude': 'longitude',\n",
    "        'optimal_tilt': 'tilt',\n",
    "        'optimal_azimuth': 'azimuth',\n",
    "        'Installed Power (kWp)': 'kwp',\n",
    "        'From date': 'operational_date'\n",
    "    })\n",
    "\n",
    "def rename_uk_metadata_columns(metadata):\n",
    "    return metadata.rename(columns={\n",
    "        'ss_id': 'serial',\n",
    "        'latitude_rounded': 'latitude',\n",
    "        'longitude_rounded': 'longitude',\n",
    "        'orientation': 'azimuth',\n",
    "        'tilt': 'tilt',\n",
    "        'kwp': 'kwp',\n",
    "        'operational_at': 'operational_date'\n",
    "    })\n",
    "\n",
    "uk_open_climate_fix_metadata_selected = uk_open_climate_fix_metadata[uk_open_climate_fix_metadata[\"ss_id\"].isin(uk_open_climate_fix_df[\"serial\"])]\n",
    "\n",
    "metadata_uk = rename_uk_metadata_columns(uk_open_climate_fix_metadata_selected)\n",
    "metadata_pt = rename_portugal_metadata_columns(portugal_metadata)\n",
    "\n",
    "metadata_uk.to_csv(\"data/UKOpenClimateFix/uk_pv_metadata_aligned.csv\", index=False)\n",
    "metadata_pt.to_csv(\"data/PortugalPhotovoltaicDataset/pv_plants_metadata_aligned.csv\", index=False)"
   ],
   "metadata": {
    "collapsed": false,
    "ExecuteTime": {
     "end_time": "2025-01-20T17:12:47.077738Z",
     "start_time": "2025-01-20T17:12:47.040213Z"
    }
   },
   "id": "de456097c2660f4d",
   "execution_count": 5
  },
  {
   "cell_type": "code",
   "outputs": [],
   "source": [
    "metadata_uk = pd.read_csv(\"data/UKOpenClimateFix/uk_pv_metadata_aligned.csv\")\n",
    "metadata_pt = pd.read_csv(\"data/PortugalPhotovoltaicDataset/pv_plants_metadata_aligned.csv\")"
   ],
   "metadata": {
    "collapsed": false,
    "ExecuteTime": {
     "end_time": "2025-01-24T14:34:42.194673Z",
     "start_time": "2025-01-24T14:34:42.181408Z"
    }
   },
   "id": "b0d0deee2393cdcb",
   "execution_count": 25
  },
  {
   "cell_type": "markdown",
   "source": [
    "# Fetch Weather"
   ],
   "metadata": {
    "collapsed": false
   },
   "id": "6a5f5046a4357e1a"
  },
  {
   "cell_type": "code",
   "outputs": [],
   "source": [
    "# Base URL for the Open Meteo API\n",
    "open_meteo_base_url = \"https://archive-api.open-meteo.com/v1/archive\"\n",
    "\n",
    "# Template for fixed parameters\n",
    "fixed_params = {\n",
    "    \"hourly\": \",\".join([\n",
    "        \"temperature_2m\",\n",
    "        \"apparent_temperature\",\n",
    "        \"relative_humidity_2m\",\n",
    "        \"dew_point_2m\",\n",
    "        \"pressure_msl\",\n",
    "        \"surface_pressure\",\n",
    "        \"precipitation\",\n",
    "        \"cloud_cover\",\n",
    "        \"et0_fao_evapotranspiration\",\n",
    "        \"wind_speed_10m\",\n",
    "        \"wind_direction_10m\",\n",
    "        \"shortwave_radiation\",\n",
    "        \"diffuse_radiation\",\n",
    "        \"direct_radiation\",\n",
    "        \"direct_normal_irradiance\",\n",
    "        \"terrestrial_radiation\",\n",
    "        \"is_day\",\n",
    "        \"sunshine_duration\"\n",
    "    ]),\n",
    "}\n",
    "\n",
    "\n",
    "def fetch_weather_data(latitude, longitude, azimuth, tilt, start_date, end_date):\n",
    "    # Create a copy of the fixed parameters and add location and date-specific parameters\n",
    "    params = fixed_params.copy()\n",
    "    params.update({\n",
    "        \"latitude\": latitude,\n",
    "        \"longitude\": longitude,\n",
    "        \"start_date\": start_date,\n",
    "        \"end_date\": end_date,\n",
    "        \"azimuth\": azimuth,\n",
    "        \"tilt\": tilt\n",
    "    })\n",
    "\n",
    "    # Send the request to the Open Meteo API\n",
    "    response = requests.get(open_meteo_base_url, params)\n",
    "\n",
    "    # Check if the request was successful\n",
    "    if response.status_code == 200:\n",
    "        # Convert response to JSON\n",
    "        data = response.json()\n",
    "        return data  # You could print or process the data as needed\n",
    "    else:\n",
    "        # Print an error message if the request failed\n",
    "        print(f\"Error: {response.status_code} - {response.text}\")\n",
    "        return None"
   ],
   "metadata": {
    "collapsed": false,
    "ExecuteTime": {
     "end_time": "2025-01-20T17:57:25.291096Z",
     "start_time": "2025-01-20T17:57:25.251992Z"
    }
   },
   "id": "eb8a72b31a4bb7bb",
   "execution_count": 111
  },
  {
   "cell_type": "markdown",
   "source": [
    "## Fetch Portugal Weather Data"
   ],
   "metadata": {
    "collapsed": false
   },
   "id": "992a1303333bbadd"
  },
  {
   "cell_type": "code",
   "outputs": [],
   "source": [
    "portugal_weather_df = []\n",
    "\n",
    "for _, solar_plant in portugal_metadata.iterrows():\n",
    "    weather_data = fetch_weather_data(latitude=solar_plant[\"Latitude\"], longitude=solar_plant[\"Longitude\"], start_date=solar_plant[\"From date\"], end_date=solar_plant[\"To date\"], azimuth=solar_plant[\"optimal_azimuth\"], tilt=solar_plant[\"optimal_tilt\"])\n",
    "    hourly_data = weather_data[\"hourly\"]\n",
    "    hourly_data[\"serial\"] = solar_plant[\"PV Serial Number\"]\n",
    "    portugal_weather_df.append(pd.DataFrame(hourly_data))\n",
    "    time.sleep(30) # to avoid minutely limit\n",
    "\n",
    "portugal_weather_df = pd.concat(portugal_weather_df, ignore_index=True)"
   ],
   "metadata": {
    "collapsed": false,
    "ExecuteTime": {
     "end_time": "2025-01-20T17:17:56.895874Z",
     "start_time": "2025-01-20T17:13:05.082615Z"
    }
   },
   "id": "49c87b42549047e9",
   "execution_count": 7
  },
  {
   "cell_type": "markdown",
   "source": [
    "# Fetch UK Weather Data"
   ],
   "metadata": {
    "collapsed": false
   },
   "id": "306c61b8a546daa0"
  },
  {
   "cell_type": "code",
   "outputs": [],
   "source": [
    "uk_open_climate_fix_df['serial'] = uk_open_climate_fix_df['serial'].astype(str)\n",
    "uk_open_climate_fix_metadata['ss_id'] = uk_open_climate_fix_metadata['ss_id'].astype(str)\n",
    "\n",
    "uk_open_climate_fix_weather_df = []\n",
    "\n",
    "def get_start_end_dates(serial):\n",
    "        # Filter the DataFrame for the specific solar station ID\n",
    "    temp = uk_open_climate_fix_df[uk_open_climate_fix_df['serial'] == serial].copy()\n",
    "    \n",
    "    # Ensure the DataFrame is not empty\n",
    "    if temp.empty:\n",
    "        return None, None  # Return None if no data is found for the given ss_id\n",
    "    \n",
    "    # Create a datetime column from year, month, and day\n",
    "    temp['datetime'] = pd.to_datetime(temp[['year', 'month', 'day', 'hour', 'minute']])\n",
    "\n",
    "    # Determine the start and end dates\n",
    "    start_date = temp['datetime'].min().date()\n",
    "    end_date = temp['datetime'].max().date()\n",
    "    \n",
    "    return start_date, end_date\n",
    "\n",
    "\n",
    "uk_open_climate_fix_metadata_selected = uk_open_climate_fix_metadata[uk_open_climate_fix_metadata[\"ss_id\"].isin(uk_open_climate_fix_df[\"serial\"])]\n",
    "    \n",
    "\n",
    "for _, solar_plant in uk_open_climate_fix_metadata_selected.iterrows():\n",
    "    start_date, end_date = get_start_end_dates(solar_plant[\"ss_id\"])\n",
    "    \n",
    "    weather_data = fetch_weather_data(latitude=solar_plant[\"latitude_rounded\"], longitude=solar_plant[\"longitude_rounded\"], start_date=start_date, end_date=end_date, azimuth=solar_plant[\"orientation\"], tilt=solar_plant[\"tilt\"])\n",
    "    hourly_data = weather_data[\"hourly\"]\n",
    "    hourly_data[\"serial\"] = solar_plant[\"ss_id\"]\n",
    "    uk_open_climate_fix_weather_df.append(pd.DataFrame(hourly_data))\n",
    "    time.sleep(30) # to avoid minutely limit\n",
    "\n",
    "uk_open_climate_fix_weather_df = pd.concat(uk_open_climate_fix_weather_df, ignore_index=True)"
   ],
   "metadata": {
    "collapsed": false,
    "ExecuteTime": {
     "end_time": "2025-01-20T17:27:39.468342Z",
     "start_time": "2025-01-20T17:19:14.488935Z"
    }
   },
   "id": "79f9b530f830625b",
   "execution_count": 9
  },
  {
   "cell_type": "markdown",
   "source": [
    "# Save Weather Data"
   ],
   "metadata": {
    "collapsed": false
   },
   "id": "d0232ab9489d2318"
  },
  {
   "cell_type": "code",
   "outputs": [],
   "source": [
    "portugal_weather_df.to_csv(\"data/PortugalPhotovoltaicDataset/weather.csv\", index=False)\n",
    "uk_open_climate_fix_weather_df.to_csv(\"data/UKOpenClimateFix/weather.csv\", index=False)"
   ],
   "metadata": {
    "collapsed": false,
    "ExecuteTime": {
     "end_time": "2025-01-20T17:58:27.472568Z",
     "start_time": "2025-01-20T17:58:25.992180Z"
    }
   },
   "id": "cf024855f5e409a7",
   "execution_count": 112
  },
  {
   "cell_type": "markdown",
   "source": [
    "# Merge Weather Data"
   ],
   "metadata": {
    "collapsed": false
   },
   "id": "c2d0a831d7b32ad1"
  },
  {
   "cell_type": "code",
   "outputs": [],
   "source": [
    "# PORTUGAL: merge weather data with solar datasets \n",
    "solar_data = portugal_df\n",
    "weather_data = portugal_weather_df\n",
    "\n",
    "solar_data['time'] = pd.to_datetime(solar_data[['year', 'month', 'day', 'hour', 'minute']])\n",
    "\n",
    "# Ensure 'serial' columns have the same type\n",
    "solar_data['serial'] = solar_data['serial'].astype(str)\n",
    "weather_data['serial'] = weather_data['serial'].astype(str)\n",
    "\n",
    "# Ensure the keys are formatted consistently\n",
    "solar_data['time'] = pd.to_datetime(solar_data['time']).dt.tz_localize(None)  # Remove timezone info\n",
    "weather_data['time'] = pd.to_datetime(weather_data['time'])  # Keep timezone if needed\n",
    "\n",
    "# Merge on 'serial' and 'datetime'\n",
    "portugal_combined_data = pd.merge(\n",
    "    solar_data,\n",
    "    weather_data,\n",
    "    left_on=['serial', 'time'],  # solar_data keys\n",
    "    right_on=['serial', 'time'],  # weather_data keys\n",
    "    how='inner'  # Inner join to keep only matches\n",
    ")\n",
    "\n",
    "portugal_combined_data.drop(columns={\"time\"}, inplace=True)\n",
    "\n",
    "portugal_combined_data.to_csv(\"data/PortugalPhotovoltaicDataset/combined_dataset_weather.csv\", index=False)"
   ],
   "metadata": {
    "collapsed": false,
    "ExecuteTime": {
     "end_time": "2025-01-20T17:58:30.624017Z",
     "start_time": "2025-01-20T17:58:28.116069Z"
    }
   },
   "id": "753fdacd17a7c1be",
   "execution_count": 113
  },
  {
   "cell_type": "code",
   "outputs": [],
   "source": [
    "# UK Open Climate: merge weather data with solar datasets \n",
    "solar_data = uk_open_climate_fix_df\n",
    "weather_data = uk_open_climate_fix_weather_df\n",
    "\n",
    "solar_data['time'] = pd.to_datetime(solar_data[['year', 'month', 'day', 'hour', 'minute']])\n",
    "\n",
    "# Ensure 'serial' columns have the same type\n",
    "solar_data['serial'] = solar_data['serial'].astype(str)\n",
    "weather_data['serial'] = weather_data['serial'].astype(str)\n",
    "\n",
    "# Ensure the keys are formatted consistently\n",
    "solar_data['time'] = pd.to_datetime(solar_data['time']).dt.tz_localize(None)  # Remove timezone info\n",
    "weather_data['time'] = pd.to_datetime(weather_data['time'])  # Keep timezone if needed\n",
    "\n",
    "# Merge on 'serial' and 'datetime'\n",
    "uk_open_climate_fix_combined_data = pd.merge(\n",
    "    solar_data,\n",
    "    weather_data,\n",
    "    left_on=['serial', 'time'],  # solar_data keys\n",
    "    right_on=['serial', 'time'],  # weather_data keys\n",
    "    how='inner'  # Inner join to keep only matches\n",
    ")\n",
    "\n",
    "uk_open_climate_fix_combined_data.drop(columns={\"time\"}, inplace=True)\n",
    "\n",
    "uk_open_climate_fix_combined_data.to_csv(\"data/UKOpenClimateFix/combined_dataset_weather.csv\", index=False)"
   ],
   "metadata": {
    "collapsed": false,
    "ExecuteTime": {
     "end_time": "2025-01-20T17:58:36.565586Z",
     "start_time": "2025-01-20T17:58:30.625977Z"
    }
   },
   "id": "8c67b468f0bd76a5",
   "execution_count": 114
  },
  {
   "cell_type": "markdown",
   "source": [
    "# Fetch PVGIS Data"
   ],
   "metadata": {
    "collapsed": false
   },
   "id": "ad24a9f5caadad7b"
  },
  {
   "cell_type": "code",
   "outputs": [],
   "source": [
    "def fetch_pvgis_data(lat, lon, peakpower, loss, outputformat=\"json\", startyear=None, endyear=None,  pvcalculation=0):\n",
    "    \"\"\"\n",
    "    Fetch data from the PVGIS API using required and selected optional parameters.\n",
    "\n",
    "    Parameters:\n",
    "        lat (float): Latitude in decimal degrees.\n",
    "        lon (float): Longitude in decimal degrees.\n",
    "        peakpower (float): Nominal power of the PV system in kW.\n",
    "        loss (float): Sum of system losses in percent.\n",
    "        outputformat (str, optional): Output format, \"csv\" or \"json\". Defaults to \"json\".\n",
    "        startyear (int, optional): First year of the output. Defaults to None.\n",
    "        endyear (int, optional): Last year of the output. Defaults to None.\n",
    "        pvcalculation (int, optional): 1 for PV production estimation, 0 for solar radiation only. Defaults to 0.\n",
    "\n",
    "    Returns:\n",
    "        dict or str: Response data in JSON format if \"json\" is selected, otherwise CSV text.\n",
    "    \"\"\"\n",
    "    base_url = \"https://re.jrc.ec.europa.eu/api/seriescalc\"\n",
    "    params = {\n",
    "        \"lat\": lat,\n",
    "        \"lon\": lon,\n",
    "        \"peakpower\": peakpower,\n",
    "        \"loss\": loss,\n",
    "        \"outputformat\": outputformat,\n",
    "        \"startyear\": startyear,\n",
    "        \"endyear\": endyear,\n",
    "        \"pvcalculation\": pvcalculation,\n",
    "    }\n",
    "\n",
    "    # Remove None values to keep the request clean\n",
    "    params = {key: value for key, value in params.items() if value is not None}\n",
    "\n",
    "    try:\n",
    "        response = requests.get(base_url, params=params)\n",
    "        response.raise_for_status()  # Raise exception for HTTP errors\n",
    "        if outputformat == \"json\":\n",
    "            return response.json()\n",
    "        else:\n",
    "            return response.text\n",
    "    except requests.exceptions.RequestException as e:\n",
    "        print(f\"An error occurred: {e}\")\n",
    "        return None"
   ],
   "metadata": {
    "collapsed": false,
    "ExecuteTime": {
     "end_time": "2025-01-20T17:58:36.575043Z",
     "start_time": "2025-01-20T17:58:36.567959Z"
    }
   },
   "id": "5dc19e7154333580",
   "execution_count": 115
  },
  {
   "cell_type": "code",
   "outputs": [
    {
     "name": "stdout",
     "output_type": "stream",
     "text": [
      "Combined data saved to data/PortugalPhotovoltaicDataset/pvgis_data.csv\n"
     ]
    }
   ],
   "source": [
    "# Initialize an empty list to store data for all stations\n",
    "portugal_pvgis = []\n",
    "\n",
    "# Loop through each solar plant in the metadata\n",
    "for _, solar_plant in portugal_metadata.iterrows():\n",
    "    # Fetch data for the current solar plant\n",
    "    data = fetch_pvgis_data(\n",
    "        lat=solar_plant[\"Latitude\"],\n",
    "        lon=solar_plant[\"Longitude\"],\n",
    "        peakpower=solar_plant[\"Installed Power (kWp)\"],\n",
    "        loss=10,  # Assume 10% loss\n",
    "        outputformat=\"json\",  # Ensure we get structured data\n",
    "        startyear=2019,\n",
    "        endyear=2022,\n",
    "        pvcalculation=1\n",
    "    )\n",
    "    \n",
    "    # Process the fetched data\n",
    "    if data:\n",
    "        # Extract hourly data\n",
    "        hourly_data = pd.DataFrame(data.get(\"outputs\", {}).get(\"hourly\", []))\n",
    "        if not hourly_data.empty:\n",
    "            # Add metadata for the solar plant\n",
    "            hourly_data[\"serial\"] = solar_plant[\"PV Serial Number\"]\n",
    "            hourly_data[\"latitude\"] = solar_plant[\"Latitude\"]\n",
    "            hourly_data[\"longitude\"] = solar_plant[\"Longitude\"]\n",
    "            hourly_data[\"kwp\"] = solar_plant[\"Installed Power (kWp)\"]\n",
    "            \n",
    "            # Convert datetime format from \"20190101:0010\" to \"YYYY-MM-DD HH:MM\"\n",
    "            hourly_data[\"time\"] = pd.to_datetime(hourly_data[\"time\"], format=\"%Y%m%d:%H%M\")\n",
    "            hourly_data[\"time\"] = hourly_data[\"time\"].dt.round('h')  # Round to the nearest hour\n",
    "            \n",
    "            hourly_data['year'] = hourly_data['time'].dt.year\n",
    "            hourly_data['month'] = hourly_data['time'].dt.month\n",
    "            hourly_data['day'] = hourly_data['time'].dt.day\n",
    "            hourly_data['hour'] = hourly_data['time'].dt.hour\n",
    "            hourly_data['minute'] = hourly_data['time'].dt.minute\n",
    "            \n",
    "            hourly_data.drop(columns=[\"time\"], inplace=True)\n",
    "            \n",
    "            # Append to the list of all data\n",
    "            portugal_pvgis.append(hourly_data)\n",
    "        else:\n",
    "            print(f\"No hourly data found for station {solar_plant['PV Serial Number']}\")\n",
    "    else:\n",
    "        print(f\"Failed to fetch data for station {solar_plant['PV Serial Number']}\")\n",
    "\n",
    "# Combine all station data into a single DataFrame\n",
    "portugal_pvgis_data = pd.concat(portugal_pvgis, ignore_index=True)\n",
    "# convent to kwh\n",
    "portugal_pvgis_data[\"P\"] = round((portugal_pvgis_data[\"P\"] / 1000).astype(float), 2)\n",
    "\n",
    "# Save to a single CSV file\n",
    "pvgis_data_file_name = \"data/PortugalPhotovoltaicDataset/pvgis_data.csv\"\n",
    "portugal_pvgis_data.to_csv(pvgis_data_file_name, index=False)\n",
    "print(f\"Combined data saved to {pvgis_data_file_name}\")"
   ],
   "metadata": {
    "collapsed": false,
    "ExecuteTime": {
     "end_time": "2025-01-20T17:59:39.143975Z",
     "start_time": "2025-01-20T17:58:36.576101Z"
    }
   },
   "id": "5d7f754384e8ecb",
   "execution_count": 116
  },
  {
   "cell_type": "code",
   "outputs": [
    {
     "name": "stdout",
     "output_type": "stream",
     "text": [
      "Combined data saved to data/UKOpenClimateFix/pvgis_data.csv\n"
     ]
    }
   ],
   "source": [
    "# Initialize an empty list to store data for all stations\n",
    "uk_open_climate_pvgis = []\n",
    "\n",
    "uk_open_climate_fix_metadata['ss_id'] = uk_open_climate_fix_metadata['ss_id'].astype(str)\n",
    "uk_open_climate_fix_df['serial'] = uk_open_climate_fix_df['serial'].astype(str)\n",
    "\n",
    "uk_open_climate_fix_metadata_selected = uk_open_climate_fix_metadata[uk_open_climate_fix_metadata[\"ss_id\"].isin(uk_open_climate_fix_df[\"serial\"])]\n",
    "\n",
    "# Loop through each solar plant in the metadata\n",
    "for _, solar_plant in uk_open_climate_fix_metadata_selected.iterrows():\n",
    "    start_date, end_date = get_start_end_dates(solar_plant[\"ss_id\"])\n",
    "    # Fetch data for the current solar plant\n",
    "    data = fetch_pvgis_data(\n",
    "        lat=solar_plant[\"latitude_rounded\"],\n",
    "        lon=solar_plant[\"longitude_rounded\"],\n",
    "        peakpower=solar_plant[\"kwp\"],\n",
    "        loss=10,  # Assume 10% loss\n",
    "        outputformat=\"json\",  # Ensure we get structured data\n",
    "        startyear=start_date.year,\n",
    "        endyear=end_date.year,\n",
    "        pvcalculation=1\n",
    "    )\n",
    "    \n",
    "    # Process the fetched data\n",
    "    if data:\n",
    "        # Extract hourly data\n",
    "        hourly_data = pd.DataFrame(data.get(\"outputs\", {}).get(\"hourly\", []))\n",
    "        if not hourly_data.empty:\n",
    "            # Add metadata for the solar plant\n",
    "            hourly_data[\"serial\"] = solar_plant[\"ss_id\"]\n",
    "            hourly_data[\"latitude\"] = solar_plant[\"latitude_rounded\"]\n",
    "            hourly_data[\"longitude\"] = solar_plant[\"longitude_rounded\"]\n",
    "            hourly_data[\"kwp\"] = solar_plant[\"kwp\"]\n",
    "            \n",
    "            # Convert datetime format from \"20190101:0010\" to \"YYYY-MM-DD HH:MM\"\n",
    "            hourly_data[\"time\"] = pd.to_datetime(hourly_data[\"time\"], format=\"%Y%m%d:%H%M\")\n",
    "            hourly_data[\"time\"] = hourly_data[\"time\"].dt.round('h')  # Round to the nearest hour\n",
    "            \n",
    "            hourly_data['year'] = hourly_data['time'].dt.year\n",
    "            hourly_data['month'] = hourly_data['time'].dt.month\n",
    "            hourly_data['day'] = hourly_data['time'].dt.day\n",
    "            hourly_data['hour'] = hourly_data['time'].dt.hour\n",
    "            hourly_data['minute'] = hourly_data['time'].dt.minute\n",
    "            \n",
    "            hourly_data.drop(columns=[\"time\"], inplace=True)\n",
    "            \n",
    "            # Append to the list of all data\n",
    "            uk_open_climate_pvgis.append(hourly_data)\n",
    "        else:\n",
    "            print(f\"No hourly data found for station {solar_plant['PV Serial Number']}\")\n",
    "    else:\n",
    "        print(f\"Failed to fetch data for station {solar_plant['PV Serial Number']}\")\n",
    "\n",
    "# Combine all station data into a single DataFrame\n",
    "uk_open_climate_pvgis_data = pd.concat(uk_open_climate_pvgis, ignore_index=True)\n",
    "# convent to kwh\n",
    "uk_open_climate_pvgis_data[\"P\"] = round((uk_open_climate_pvgis_data[\"P\"] / 1000).astype(float), 2)\n",
    "\n",
    "# Save to a single CSV file\n",
    "pvgis_data_file_name = \"data/UKOpenClimateFix/pvgis_data.csv\"\n",
    "uk_open_climate_pvgis_data.to_csv(pvgis_data_file_name, index=False)\n",
    "print(f\"Combined data saved to {pvgis_data_file_name}\")"
   ],
   "metadata": {
    "collapsed": false,
    "ExecuteTime": {
     "end_time": "2025-01-20T18:02:04.701119Z",
     "start_time": "2025-01-20T17:59:39.145375Z"
    }
   },
   "id": "cd8b97afb950c679",
   "execution_count": 117
  },
  {
   "cell_type": "markdown",
   "source": [
    "# Merge PVGIS Data"
   ],
   "metadata": {
    "collapsed": false
   },
   "id": "f2ff97a8fd8a9a13"
  },
  {
   "cell_type": "code",
   "outputs": [],
   "source": [
    "portugal_pvgis_data = pd.read_csv(\"data/PortugalPhotovoltaicDataset/pvgis_data.csv\")\n",
    "uk_open_climate_pvgis_data = pd.read_csv(\"data/UKOpenClimateFix/pvgis_data.csv\")"
   ],
   "metadata": {
    "collapsed": false,
    "ExecuteTime": {
     "end_time": "2025-01-20T18:02:05.236786Z",
     "start_time": "2025-01-20T18:02:04.703718Z"
    }
   },
   "id": "774c4bb8835e448e",
   "execution_count": 118
  },
  {
   "cell_type": "code",
   "outputs": [
    {
     "name": "stdout",
     "output_type": "stream",
     "text": [
      "Number of matching rows: 315567\n"
     ]
    }
   ],
   "source": [
    "portugal_combined_data['serial'] = portugal_combined_data['serial'].astype(str)\n",
    "portugal_pvgis_data['serial'] = portugal_pvgis_data['serial'].astype(str)\n",
    "\n",
    "# Merge the real and predicted data for Portugal\n",
    "portugal_combined_with_pvgis = pd.merge(\n",
    "    portugal_combined_data,\n",
    "    portugal_pvgis_data[[\"year\", \"month\", \"day\", \"hour\", \"serial\", \"P\"]],\n",
    "    left_on=[\"serial\", \"year\", \"month\", \"day\", \"hour\"], # portugal_data_with_weather keys\n",
    "    right_on=[\"serial\", \"year\", \"month\", \"day\", \"hour\"], # portugal_pvgis_data keys\n",
    "    how=\"inner\"\n",
    ")\n",
    "\n",
    "# portugal_combined_with_pvgis.drop(columns={\"Serial\", \"time\", \"PV Serial Number\"}, inplace=True)\n",
    "portugal_combined_with_pvgis.rename(columns={\"P\": \"pvgis predicted energy\"}, inplace=True)\n",
    "\n",
    "print(f\"Number of matching rows: {len(portugal_combined_with_pvgis)}\")\n",
    "\n",
    "portugal_combined_with_pvgis.to_csv(\"data/PortugalPhotovoltaicDataset/combined_dataset_weather_pvgis.csv\", index=False)"
   ],
   "metadata": {
    "collapsed": false,
    "ExecuteTime": {
     "end_time": "2025-01-20T18:02:07.007081Z",
     "start_time": "2025-01-20T18:02:05.237495Z"
    }
   },
   "id": "23951cb912fa43d",
   "execution_count": 119
  },
  {
   "cell_type": "code",
   "outputs": [
    {
     "name": "stdout",
     "output_type": "stream",
     "text": [
      "Number of matching rows: 803134\n"
     ]
    }
   ],
   "source": [
    "uk_open_climate_fix_combined_data['serial'] = uk_open_climate_fix_combined_data['serial'].astype(str)\n",
    "uk_open_climate_pvgis_data['serial'] = uk_open_climate_pvgis_data['serial'].astype(str)\n",
    "\n",
    "uk_open_climate_fix_combined_data['serial'] = uk_open_climate_fix_combined_data['serial'].str.strip()\n",
    "uk_open_climate_pvgis_data['serial'] = uk_open_climate_pvgis_data['serial'].str.strip()\n",
    "\n",
    "# Merge the real and predicted data for Portugal\n",
    "uk_open_climate_combined_with_pvgis = pd.merge(\n",
    "    uk_open_climate_fix_combined_data,\n",
    "    uk_open_climate_pvgis_data[[\"year\", \"month\", \"day\", \"hour\", \"serial\", \"P\"]],\n",
    "    left_on=[\"serial\", \"year\", \"month\", \"day\", \"hour\"], # portugal_data_with_weather keys\n",
    "    right_on=[\"serial\", \"year\", \"month\", \"day\", \"hour\"], # portugal_pvgis_data keys\n",
    "    how=\"inner\"\n",
    ")\n",
    "\n",
    "uk_open_climate_combined_with_pvgis.rename(columns={\"P\": \"pvgis predicted energy\"}, inplace=True)\n",
    "\n",
    "print(f\"Number of matching rows: {len(uk_open_climate_combined_with_pvgis)}\")\n",
    "\n",
    "uk_open_climate_combined_with_pvgis.to_csv(\"data/UKOpenClimateFix/combined_dataset_weather_pvgis.csv\", index=False)"
   ],
   "metadata": {
    "collapsed": false,
    "ExecuteTime": {
     "end_time": "2025-01-20T18:02:12.095242Z",
     "start_time": "2025-01-20T18:02:07.008249Z"
    }
   },
   "id": "dcbbf106353bfeb",
   "execution_count": 120
  },
  {
   "cell_type": "markdown",
   "source": [
    "# Derived Features"
   ],
   "metadata": {
    "collapsed": false
   },
   "id": "4bd7f9b5c175d706"
  },
  {
   "cell_type": "code",
   "outputs": [],
   "source": [
    "def add_solar_position(df, metadata):\n",
    "    \"\"\"\n",
    "    Add solar position (zenith, azimuth, elevation) to the DataFrame.\n",
    "    \n",
    "    Args:\n",
    "        df (pd.DataFrame): Input DataFrame containing datetime and serial.\n",
    "        metadata (pd.DataFrame): Metadata DataFrame containing latitude and longitude for each solar plant.\n",
    "    \n",
    "    Returns:\n",
    "        pd.DataFrame: DataFrame with solar position added.\n",
    "    \"\"\"\n",
    "    df[\"serial\"] = df[\"serial\"].astype(str)\n",
    "    metadata[\"serial\"] = metadata[\"serial\"].astype(str)\n",
    "\n",
    "    # Ensure datetime is in the correct format and set as index\n",
    "    df[\"datetime\"] = pd.to_datetime(df[[\"year\", \"month\", \"day\", \"hour\", \"minute\"]])\n",
    "    df.set_index(\"datetime\", inplace=True)\n",
    "\n",
    "    all_results = []\n",
    "\n",
    "    for _, solar_plant in metadata.iterrows():\n",
    "        plant_df = df[df[\"serial\"] == solar_plant[\"serial\"]]\n",
    "\n",
    "        # Calculate solar position\n",
    "        solar_position = pvlib.solarposition.get_solarposition(\n",
    "            time=plant_df.index,\n",
    "            latitude=solar_plant[\"latitude\"],\n",
    "            longitude=solar_plant[\"longitude\"]\n",
    "        )\n",
    "\n",
    "\n",
    "        # Add solar position to plant data\n",
    "        plant_df[\"solar_zenith\"] = solar_position[\"apparent_zenith\"].round(2)\n",
    "        plant_df[\"solar_azimuth\"] = solar_position[\"azimuth\"].round(2)\n",
    "        plant_df[\"solar_elevation\"] = solar_position[\"elevation\"].round(2)\n",
    "        \n",
    "        all_results.append(plant_df)\n",
    "\n",
    "    combined_results = pd.concat(all_results)\n",
    "    combined_results.reset_index(inplace=True)  # Reset the datetime index if needed\n",
    "    return combined_results"
   ],
   "metadata": {
    "collapsed": false,
    "ExecuteTime": {
     "end_time": "2025-01-24T14:34:00.770345Z",
     "start_time": "2025-01-24T14:34:00.762834Z"
    }
   },
   "id": "1020677a47740945",
   "execution_count": 12
  },
  {
   "cell_type": "code",
   "outputs": [],
   "source": [
    "def add_poa_irradiance(df, metadata):\n",
    "    \"\"\"\n",
    "    Add Plane of Array (POA) irradiance to the DataFrame based on solar position and metadata.\n",
    "    \n",
    "    Args:\n",
    "        df (pd.DataFrame): DataFrame containing solar position (zenith, azimuth).\n",
    "        metadata (pd.DataFrame): Metadata DataFrame containing tilt and azimuth for each solar plant.\n",
    "    \n",
    "    Returns:\n",
    "        pd.DataFrame: DataFrame with POA irradiance added.\n",
    "    \"\"\"\n",
    "    all_results = []\n",
    "\n",
    "    for _, solar_plant in metadata.iterrows():\n",
    "        plant_df = df[df[\"serial\"] == solar_plant[\"serial\"]]\n",
    "        print(solar_plant)\n",
    "\n",
    "        # Calculate POA irradiance\n",
    "        poa_irradiance = pvlib.irradiance.get_total_irradiance(\n",
    "            surface_tilt=solar_plant[\"tilt\"],\n",
    "            surface_azimuth=solar_plant[\"azimuth\"],\n",
    "            dni=plant_df[\"direct_normal_irradiance\"],\n",
    "            ghi=plant_df[\"shortwave_radiation\"],\n",
    "            dhi=plant_df[\"diffuse_radiation\"],\n",
    "            solar_zenith=plant_df[\"solar_zenith\"],\n",
    "            solar_azimuth=plant_df[\"solar_azimuth\"]\n",
    "        )\n",
    "\n",
    "        # Add POA to plant data\n",
    "        plant_df[\"poa\"] = poa_irradiance[\"poa_global\"].round(2)\n",
    "\n",
    "        all_results.append(plant_df)\n",
    "\n",
    "    combined_results = pd.concat(all_results)\n",
    "    combined_results.reset_index(inplace=True, drop=True)\n",
    "    return combined_results"
   ],
   "metadata": {
    "collapsed": false,
    "ExecuteTime": {
     "end_time": "2025-01-24T14:34:01.279468Z",
     "start_time": "2025-01-24T14:34:01.276545Z"
    }
   },
   "id": "9fa75fea82fc4a92",
   "execution_count": 13
  },
  {
   "cell_type": "code",
   "outputs": [],
   "source": [
    "def add_lagged_features(data, feature='poa', hours_before=1, hours_after=1, calculate_average=False, serial_col='serial', datetime_col='datetime', decimals=2):\n",
    "    \"\"\"\n",
    "    Add lagged and averaged features to the dataset.\n",
    "    \n",
    "    Parameters:\n",
    "    - data (DataFrame): The input data containing 'serial' and 'datetime'.\n",
    "    - feature (str): The feature for which lagged values will be created.\n",
    "    - hours_before (int): Number of hours to shift backward.\n",
    "    - hours_after (int): Number of hours to shift forward.\n",
    "    \n",
    "    Returns:\n",
    "    - DataFrame: The data with lagged and average features added.\n",
    "    \"\"\"\n",
    "    \n",
    "    # Step 1: Sort data by serial and datetime to ensure correct shifts\n",
    "    data[datetime_col] = pd.to_datetime(data[datetime_col])\n",
    "    \n",
    "    data = data.sort_values(by=[serial_col, datetime_col]).reset_index(drop=True)\n",
    "\n",
    "    # Step 2: Add lagged features for specified hours before and after\n",
    "    for i in range(1, hours_before + 1):\n",
    "        data[f'{feature}_hour_minus_{i}'] = data.groupby(serial_col)[feature].shift(i)\n",
    "\n",
    "    for i in range(1, hours_after + 1):\n",
    "        data[f'{feature}_hour_plus_{i}'] = data.groupby(serial_col)[feature].shift(-i)\n",
    "\n",
    "    # Step 3: Calculate the average of neighboring values\n",
    "    lagged_cols = [f'{feature}_hour_minus_{i}' for i in range(1, hours_before + 1)] + \\\n",
    "                  [feature] + \\\n",
    "                  [f'{feature}_hour_plus_{i}' for i in range(1, hours_after + 1)]\n",
    "    \n",
    "    if calculate_average:\n",
    "        data[f'{feature}_avg_neighbor'] = data[lagged_cols].mean(axis=1).round(decimals)\n",
    "\n",
    "    # Step 4: Handle NaN values\n",
    "    data.dropna(subset=lagged_cols, inplace=True)\n",
    "\n",
    "    return data"
   ],
   "metadata": {
    "collapsed": false,
    "ExecuteTime": {
     "end_time": "2025-01-24T14:34:01.666753Z",
     "start_time": "2025-01-24T14:34:01.663576Z"
    }
   },
   "id": "5bda80643355870d",
   "execution_count": 14
  },
  {
   "cell_type": "code",
   "outputs": [],
   "source": [
    "def add_moving_average(data, column, datetime_col, window_size, metadata, serial_col='serial'):\n",
    "    \"\"\"\n",
    "    Add a moving average column to the dataframe.\n",
    "    \"\"\"\n",
    "    data[datetime_col] = pd.to_datetime(data[datetime_col])\n",
    "    new_data = []\n",
    "    \n",
    "    for _, row in metadata.iterrows():\n",
    "        serial = row[serial_col]\n",
    "        \n",
    "        selected_data = data[data[serial_col] == serial].copy()\n",
    "        \n",
    "        if selected_data is None:\n",
    "            continue\n",
    "        \n",
    "        column_name = f\"{column}_{window_size}_moving_average\"\n",
    "        selected_data[column_name] = selected_data.rolling(\n",
    "            f'{window_size}h', \n",
    "            on=datetime_col, \n",
    "            closed='right'\n",
    "        )[column].mean().round(2)\n",
    "        \n",
    "        # drop NaN values after calculating the moving average\n",
    "        selected_data.dropna(inplace=True)\n",
    "        \n",
    "        new_data.append(selected_data)\n",
    "    \n",
    "    return pd.concat(new_data)"
   ],
   "metadata": {
    "collapsed": false,
    "ExecuteTime": {
     "end_time": "2025-01-24T14:34:01.997758Z",
     "start_time": "2025-01-24T14:34:01.994236Z"
    }
   },
   "id": "1ee90b30fdc68c87",
   "execution_count": 15
  },
  {
   "cell_type": "code",
   "outputs": [],
   "source": [
    "def add_clear_sky_index(data, metadata):\n",
    "    updated_data = []\n",
    "    \n",
    "    for _, row in metadata.iterrows():\n",
    "        latitude = row['latitude']\n",
    "        longitude = row['longitude']\n",
    "        \n",
    "        selected_data = data[data[\"serial\"] == row[\"serial\"]].copy()\n",
    "        \n",
    "        if selected_data.empty:\n",
    "            continue\n",
    "        \n",
    "        location = pvlib.location.Location(latitude=latitude, longitude=longitude)\n",
    "        \n",
    "        times = pd.date_range(start=selected_data['datetime'].min(), end=selected_data['datetime'].max(), freq='1h')\n",
    "        \n",
    "        cs = location.get_clearsky(times, model='ineichen')\n",
    "        cs = cs.set_index(times)  # Set times as index to match selected_data\n",
    "        cs = cs.reindex(selected_data.set_index('datetime').index)  # Reindex to ensure alignment\n",
    "        \n",
    "        selected_data = selected_data.set_index('datetime')\n",
    "        selected_data['clearsky_index'] = pvlib.irradiance.clearsky_index(selected_data[\"shortwave_radiation\"], cs['ghi'])\n",
    "        \n",
    "        selected_data.reset_index(inplace=True)\n",
    "        \n",
    "        updated_data.append(selected_data)\n",
    "        \n",
    "    return pd.concat(updated_data)"
   ],
   "metadata": {
    "collapsed": false,
    "ExecuteTime": {
     "end_time": "2025-01-24T14:34:02.359125Z",
     "start_time": "2025-01-24T14:34:02.356081Z"
    }
   },
   "id": "91021576ee390723",
   "execution_count": 16
  },
  {
   "cell_type": "code",
   "outputs": [],
   "source": [
    "def calculate_cell_temperature(poa, temperature_2m, wind_speed, decimals=2):\n",
    "    # since we don't have the module parameters, we use the default parameters for now\n",
    "    temperature_model_params = pvlib.temperature.TEMPERATURE_MODEL_PARAMETERS['sapm']['open_rack_glass_polymer']  \n",
    "    cell_temperature = pvlib.temperature.sapm_cell(\n",
    "        poa_global=poa,\n",
    "        temp_air=temperature_2m,\n",
    "        wind_speed=wind_speed,\n",
    "        a=temperature_model_params['a'],\n",
    "        b=temperature_model_params['b'],\n",
    "        deltaT=temperature_model_params['deltaT']\n",
    "    )\n",
    "    \n",
    "    return cell_temperature.round(decimals)"
   ],
   "metadata": {
    "collapsed": false,
    "ExecuteTime": {
     "end_time": "2025-01-24T14:34:02.760114Z",
     "start_time": "2025-01-24T14:34:02.757916Z"
    }
   },
   "id": "d4a2c8b77861765e",
   "execution_count": 17
  },
  {
   "cell_type": "code",
   "outputs": [],
   "source": [
    "def add_cyclic_encoding(df, column, period, decimals=None):\n",
    "    \"\"\"\n",
    "    Adds cyclic encoding for a specified column with optional rounding.\n",
    "\n",
    "    Parameters:\n",
    "    df (pd.DataFrame): The input DataFrame.\n",
    "    column (str): The column to apply cyclic encoding to.\n",
    "    period (int): The period for cyclic encoding (e.g., 24 for hours, 365 for days of year).\n",
    "    decimals (int or None): The number of decimal places to round to. If None, no rounding.\n",
    "\n",
    "    Returns:\n",
    "    pd.DataFrame: The DataFrame with added sine and cosine columns.\n",
    "    \"\"\"\n",
    "    df[f'{column}_sin'] = np.sin(2 * np.pi * df[column] / period)\n",
    "    df[f'{column}_cos'] = np.cos(2 * np.pi * df[column] / period)\n",
    "    \n",
    "    if decimals is not None:\n",
    "        df[f'{column}_sin'] = df[f'{column}_sin'].round(decimals)\n",
    "        df[f'{column}_cos'] = df[f'{column}_cos'].round(decimals)\n",
    "    \n",
    "    return df"
   ],
   "metadata": {
    "collapsed": false,
    "ExecuteTime": {
     "end_time": "2025-01-24T14:34:03.163040Z",
     "start_time": "2025-01-24T14:34:03.160518Z"
    }
   },
   "id": "c3d02d7df51e7a1e",
   "execution_count": 18
  },
  {
   "cell_type": "code",
   "outputs": [],
   "source": [
    "def add_joules_hourly(data, irradiance_col):\n",
    "    \"\"\"\n",
    "    Calculates the energy in Joules for each hourly measurement in the dataset.\n",
    "\n",
    "    Parameters:\n",
    "    data (pd.DataFrame): The input dataset containing irradiance values.\n",
    "    irradiance_col (str): The column name containing the irradiance values in W/m².\n",
    "\n",
    "    Returns:\n",
    "    pd.DataFrame: The input DataFrame with an additional column 'joules' representing the calculated energy.\n",
    "    \"\"\"\n",
    "    # 1 hour = 3600 seconds\n",
    "    seconds_in_hour = 3600\n",
    "\n",
    "    # Calculate Joules for each row: W/m² * 3600 seconds\n",
    "    data['joules'] = data[irradiance_col] * seconds_in_hour\n",
    "    \n",
    "    return data"
   ],
   "metadata": {
    "collapsed": false,
    "ExecuteTime": {
     "end_time": "2025-01-24T14:34:03.662662Z",
     "start_time": "2025-01-24T14:34:03.660704Z"
    }
   },
   "id": "4be14dfb9671bf9a",
   "execution_count": 19
  },
  {
   "cell_type": "code",
   "outputs": [],
   "source": [
    "def categories_cloud_cover(data):\n",
    "    \"\"\"\n",
    "    Categorizes cloud cover into bins: 'low', 'medium', 'high', 'very high'.\n",
    "\n",
    "    Parameters:\n",
    "    - data (pd.DataFrame): The input DataFrame containing 'cloud_cover' column.\n",
    "\n",
    "    Returns:\n",
    "    - pd.DataFrame: The DataFrame with a new column 'cloud_cover_category'.\n",
    "    \"\"\"\n",
    "    data['cloud_cover_category'] = pd.cut(\n",
    "        data['cloud_cover'], \n",
    "        bins=[0, 25, 50, 75, 100], \n",
    "        labels=['low', 'medium', 'high', 'very high'], \n",
    "        include_lowest=True  # Ensures 0 is included in the 'low' bin\n",
    "    )\n",
    "    return data"
   ],
   "metadata": {
    "collapsed": false,
    "ExecuteTime": {
     "end_time": "2025-01-24T14:34:04.012584Z",
     "start_time": "2025-01-24T14:34:04.010295Z"
    }
   },
   "id": "88eb6190eb4da5b3",
   "execution_count": 20
  },
  {
   "cell_type": "code",
   "outputs": [],
   "source": [
    "def add_physical_model_prediction(data, poa_column, temperature_column, kwp_column, inverter_efficiency):\n",
    "    \"\"\"\n",
    "    Add a column with the predicted energy output using a physical model.\n",
    "\n",
    "    Parameters:\n",
    "    - data (pd.DataFrame): The input DataFrame.\n",
    "    - poa_column (str): The column name for the Plane of Array (POA) irradiance.\n",
    "    - temperature_column (str): The column name for the cell temperature.\n",
    "    - kwp_column (str): The column name for the installed power in kWp.\n",
    "    - inverter_efficiency (float): The efficiency of the inverter.\n",
    "\n",
    "    Returns:\n",
    "    - pd.DataFrame: The DataFrame with an additional column 'physical_model_prediction'.\n",
    "    \"\"\"\n",
    "    # Calculate the energy output using the physical model\n",
    "    data['physical_model_prediction'] = pvlib.pvsystem.pvwatts_dc(\n",
    "        g_poa_effective=data[poa_column],\n",
    "        temp_cell=data[temperature_column],\n",
    "        pdc0=data[kwp_column],\n",
    "        gamma_pdc=-0.004,\n",
    "    )\n",
    "    \n",
    "    # Apply the inverter efficiency\n",
    "    data['physical_model_prediction'] *= inverter_efficiency\n",
    "    data['physical_model_prediction'] = data['physical_model_prediction'].round(2)\n",
    "    \n",
    "    data['relative_physical_model_prediction'] = data['physical_model_prediction'] / data[kwp_column]\n",
    "    \n",
    "    return data\n"
   ],
   "metadata": {
    "collapsed": false,
    "ExecuteTime": {
     "end_time": "2025-01-24T14:34:04.590505Z",
     "start_time": "2025-01-24T14:34:04.588008Z"
    }
   },
   "id": "69443857be3227e6",
   "execution_count": 21
  },
  {
   "cell_type": "code",
   "outputs": [],
   "source": [
    "def add_region(data, region):\n",
    "    data[\"region\"] = region\n",
    "\n",
    "    return data"
   ],
   "metadata": {
    "collapsed": false,
    "ExecuteTime": {
     "end_time": "2025-01-24T14:34:05.356624Z",
     "start_time": "2025-01-24T14:34:05.354887Z"
    }
   },
   "id": "432c6ed83e5209d8",
   "execution_count": 22
  },
  {
   "cell_type": "code",
   "outputs": [],
   "source": [
    "def add_relative_output(data, production_col, kwp_col):\n",
    "    data['relative_output'] = data[production_col] / data[kwp_col]\n",
    "    \n",
    "    return data"
   ],
   "metadata": {
    "collapsed": false,
    "ExecuteTime": {
     "end_time": "2025-01-24T14:34:05.762502Z",
     "start_time": "2025-01-24T14:34:05.760244Z"
    }
   },
   "id": "a68ea88b1fe305b1",
   "execution_count": 23
  },
  {
   "cell_type": "markdown",
   "source": [
    "# Add derived features"
   ],
   "metadata": {
    "collapsed": false
   },
   "id": "437e98dfc989e116"
  },
  {
   "cell_type": "code",
   "outputs": [],
   "source": [
    "portugal_combined_with_pvgis = pd.read_csv(\"data/PortugalPhotovoltaicDataset/combined_dataset_weather_pvgis.csv\")"
   ],
   "metadata": {
    "collapsed": false,
    "ExecuteTime": {
     "end_time": "2025-01-24T14:33:02.827842Z",
     "start_time": "2025-01-24T14:33:02.515261Z"
    }
   },
   "id": "c16d0db6c42bbd91",
   "execution_count": 5
  },
  {
   "cell_type": "code",
   "outputs": [],
   "source": [
    "uk_open_climate_fix_with_pvgis = pd.read_csv(\"data/UKOpenClimateFix/combined_dataset_weather_pvgis.csv\")"
   ],
   "metadata": {
    "collapsed": false,
    "ExecuteTime": {
     "end_time": "2025-01-24T14:33:11.381945Z",
     "start_time": "2025-01-24T14:33:10.598711Z"
    }
   },
   "id": "a376f5501f87f4c4",
   "execution_count": 7
  },
  {
   "cell_type": "markdown",
   "source": [
    "## Portugal"
   ],
   "metadata": {
    "collapsed": false
   },
   "id": "f04121f268a71d0f"
  },
  {
   "cell_type": "code",
   "outputs": [
    {
     "name": "stdout",
     "output_type": "stream",
     "text": [
      "serial                      84071567\n",
      "Location                      Lisbon\n",
      "latitude                      38.728\n",
      "longitude                     -9.138\n",
      "operational_date          2019-01-01\n",
      "To date                   2022-12-31\n",
      "kwp                             46.0\n",
      "Connection Power (kWn)          40.0\n",
      "tilt                            35.0\n",
      "azimuth                        170.0\n",
      "Name: 0, dtype: object\n",
      "serial                      84071569\n",
      "Location                      Lisbon\n",
      "latitude                      38.833\n",
      "longitude                     -9.191\n",
      "operational_date          2019-01-01\n",
      "To date                   2022-12-31\n",
      "kwp                            16.32\n",
      "Connection Power (kWn)          15.0\n",
      "tilt                            35.0\n",
      "azimuth                        170.0\n",
      "Name: 1, dtype: object\n",
      "serial                      84071568\n",
      "Location                     Setubal\n",
      "latitude                      38.577\n",
      "longitude                     -8.872\n",
      "operational_date          2019-01-01\n",
      "To date                   2022-12-31\n",
      "kwp                            23.52\n",
      "Connection Power (kWn)          20.0\n",
      "tilt                            35.0\n",
      "azimuth                        170.0\n",
      "Name: 2, dtype: object\n",
      "serial                      84071570\n",
      "Location                      Lisbon\n",
      "latitude                      38.725\n",
      "longitude                      -9.12\n",
      "operational_date          2019-01-01\n",
      "To date                   2022-12-31\n",
      "kwp                             30.0\n",
      "Connection Power (kWn)          27.0\n",
      "tilt                            35.0\n",
      "azimuth                        170.0\n",
      "Name: 3, dtype: object\n",
      "serial                      84071566\n",
      "Location                        Faro\n",
      "latitude                      37.031\n",
      "longitude                     -7.893\n",
      "operational_date          2019-01-01\n",
      "To date                   2022-12-31\n",
      "kwp                              7.0\n",
      "Connection Power (kWn)           6.6\n",
      "tilt                            35.0\n",
      "azimuth                        170.0\n",
      "Name: 4, dtype: object\n",
      "serial                      62030198\n",
      "Location                       Braga\n",
      "latitude                      41.493\n",
      "longitude                     -8.496\n",
      "operational_date          2019-01-01\n",
      "To date                   2022-12-31\n",
      "kwp                            64.93\n",
      "Connection Power (kWn)          60.0\n",
      "tilt                            40.0\n",
      "azimuth                        170.0\n",
      "Name: 5, dtype: object\n",
      "serial                      62032213\n",
      "Location                      Lisbon\n",
      "latitude                      38.701\n",
      "longitude                     -9.236\n",
      "operational_date          2019-01-01\n",
      "To date                   2022-12-31\n",
      "kwp                            22.54\n",
      "Connection Power (kWn)          20.0\n",
      "tilt                            35.0\n",
      "azimuth                        170.0\n",
      "Name: 6, dtype: object\n",
      "serial                      73060645\n",
      "Location                      Tavira\n",
      "latitude                      37.131\n",
      "longitude                     -7.645\n",
      "operational_date          2019-01-01\n",
      "To date                   2022-12-31\n",
      "kwp                             46.0\n",
      "Connection Power (kWn)          40.0\n",
      "tilt                            35.0\n",
      "azimuth                        170.0\n",
      "Name: 7, dtype: object\n",
      "serial                      73061935\n",
      "Location                       Loule\n",
      "latitude                      37.131\n",
      "longitude                     -8.038\n",
      "operational_date          2019-01-01\n",
      "To date                   2022-12-31\n",
      "kwp                            46.25\n",
      "Connection Power (kWn)          40.0\n",
      "tilt                            35.0\n",
      "azimuth                        170.0\n",
      "Name: 8, dtype: object\n"
     ]
    },
    {
     "data": {
      "text/plain": "                  datetime    serial      name  produced energy    kwp  year  \\\n175311 2019-01-01 02:00:00  84071567  Lisbon_1              0.0  46.00  2019   \n175312 2019-01-01 03:00:00  84071567  Lisbon_1              0.0  46.00  2019   \n175313 2019-01-01 04:00:00  84071567  Lisbon_1              0.0  46.00  2019   \n175314 2019-01-01 05:00:00  84071567  Lisbon_1              0.0  46.00  2019   \n175315 2019-01-01 06:00:00  84071567  Lisbon_1              0.0  46.00  2019   \n...                    ...       ...       ...              ...    ...   ...   \n140243 2022-12-31 19:00:00  73061935     Loule              0.0  46.25  2022   \n140244 2022-12-31 20:00:00  73061935     Loule              0.0  46.25  2022   \n140245 2022-12-31 21:00:00  73061935     Loule              0.0  46.25  2022   \n140246 2022-12-31 22:00:00  73061935     Loule              0.0  46.25  2022   \n140247 2022-12-31 23:00:00  73061935     Loule              0.0  46.25  2022   \n\n        month  day  hour  minute  ...  hour_cos  day_of_year_sin  \\\n175311      1    1     2       0  ...     0.866            0.017   \n175312      1    1     3       0  ...     0.707            0.017   \n175313      1    1     4       0  ...     0.500            0.017   \n175314      1    1     5       0  ...     0.259            0.017   \n175315      1    1     6       0  ...     0.000            0.017   \n...       ...  ...   ...     ...  ...       ...              ...   \n140243     12   31    19       0  ...     0.259            0.000   \n140244     12   31    20       0  ...     0.500            0.000   \n140245     12   31    21       0  ...     0.707            0.000   \n140246     12   31    22       0  ...     0.866            0.000   \n140247     12   31    23       0  ...     0.966            0.000   \n\n        day_of_year_cos  month_sin  month_cos  cell_temp  \\\n175311              1.0        0.5      0.866        8.8   \n175312              1.0        0.5      0.866        8.5   \n175313              1.0        0.5      0.866        8.3   \n175314              1.0        0.5      0.866        8.0   \n175315              1.0        0.5      0.866        7.7   \n...                 ...        ...        ...        ...   \n140243              1.0       -0.0      1.000       14.8   \n140244              1.0       -0.0      1.000       14.7   \n140245              1.0       -0.0      1.000       14.9   \n140246              1.0       -0.0      1.000       14.9   \n140247              1.0       -0.0      1.000       14.9   \n\n        physical_model_prediction  relative_physical_model_prediction  \\\n175311                        0.0                                 0.0   \n175312                        0.0                                 0.0   \n175313                        0.0                                 0.0   \n175314                        0.0                                 0.0   \n175315                        0.0                                 0.0   \n...                           ...                                 ...   \n140243                        0.0                                 0.0   \n140244                        0.0                                 0.0   \n140245                        0.0                                 0.0   \n140246                        0.0                                 0.0   \n140247                        0.0                                 0.0   \n\n        relative_output    region  \n175311              0.0  Portugal  \n175312              0.0  Portugal  \n175313              0.0  Portugal  \n175314              0.0  Portugal  \n175315              0.0  Portugal  \n...                 ...       ...  \n140243              0.0  Portugal  \n140244              0.0  Portugal  \n140245              0.0  Portugal  \n140246              0.0  Portugal  \n140247              0.0  Portugal  \n\n[315549 rows x 50 columns]",
      "text/html": "<div>\n<style scoped>\n    .dataframe tbody tr th:only-of-type {\n        vertical-align: middle;\n    }\n\n    .dataframe tbody tr th {\n        vertical-align: top;\n    }\n\n    .dataframe thead th {\n        text-align: right;\n    }\n</style>\n<table border=\"1\" class=\"dataframe\">\n  <thead>\n    <tr style=\"text-align: right;\">\n      <th></th>\n      <th>datetime</th>\n      <th>serial</th>\n      <th>name</th>\n      <th>produced energy</th>\n      <th>kwp</th>\n      <th>year</th>\n      <th>month</th>\n      <th>day</th>\n      <th>hour</th>\n      <th>minute</th>\n      <th>...</th>\n      <th>hour_cos</th>\n      <th>day_of_year_sin</th>\n      <th>day_of_year_cos</th>\n      <th>month_sin</th>\n      <th>month_cos</th>\n      <th>cell_temp</th>\n      <th>physical_model_prediction</th>\n      <th>relative_physical_model_prediction</th>\n      <th>relative_output</th>\n      <th>region</th>\n    </tr>\n  </thead>\n  <tbody>\n    <tr>\n      <th>175311</th>\n      <td>2019-01-01 02:00:00</td>\n      <td>84071567</td>\n      <td>Lisbon_1</td>\n      <td>0.0</td>\n      <td>46.00</td>\n      <td>2019</td>\n      <td>1</td>\n      <td>1</td>\n      <td>2</td>\n      <td>0</td>\n      <td>...</td>\n      <td>0.866</td>\n      <td>0.017</td>\n      <td>1.0</td>\n      <td>0.5</td>\n      <td>0.866</td>\n      <td>8.8</td>\n      <td>0.0</td>\n      <td>0.0</td>\n      <td>0.0</td>\n      <td>Portugal</td>\n    </tr>\n    <tr>\n      <th>175312</th>\n      <td>2019-01-01 03:00:00</td>\n      <td>84071567</td>\n      <td>Lisbon_1</td>\n      <td>0.0</td>\n      <td>46.00</td>\n      <td>2019</td>\n      <td>1</td>\n      <td>1</td>\n      <td>3</td>\n      <td>0</td>\n      <td>...</td>\n      <td>0.707</td>\n      <td>0.017</td>\n      <td>1.0</td>\n      <td>0.5</td>\n      <td>0.866</td>\n      <td>8.5</td>\n      <td>0.0</td>\n      <td>0.0</td>\n      <td>0.0</td>\n      <td>Portugal</td>\n    </tr>\n    <tr>\n      <th>175313</th>\n      <td>2019-01-01 04:00:00</td>\n      <td>84071567</td>\n      <td>Lisbon_1</td>\n      <td>0.0</td>\n      <td>46.00</td>\n      <td>2019</td>\n      <td>1</td>\n      <td>1</td>\n      <td>4</td>\n      <td>0</td>\n      <td>...</td>\n      <td>0.500</td>\n      <td>0.017</td>\n      <td>1.0</td>\n      <td>0.5</td>\n      <td>0.866</td>\n      <td>8.3</td>\n      <td>0.0</td>\n      <td>0.0</td>\n      <td>0.0</td>\n      <td>Portugal</td>\n    </tr>\n    <tr>\n      <th>175314</th>\n      <td>2019-01-01 05:00:00</td>\n      <td>84071567</td>\n      <td>Lisbon_1</td>\n      <td>0.0</td>\n      <td>46.00</td>\n      <td>2019</td>\n      <td>1</td>\n      <td>1</td>\n      <td>5</td>\n      <td>0</td>\n      <td>...</td>\n      <td>0.259</td>\n      <td>0.017</td>\n      <td>1.0</td>\n      <td>0.5</td>\n      <td>0.866</td>\n      <td>8.0</td>\n      <td>0.0</td>\n      <td>0.0</td>\n      <td>0.0</td>\n      <td>Portugal</td>\n    </tr>\n    <tr>\n      <th>175315</th>\n      <td>2019-01-01 06:00:00</td>\n      <td>84071567</td>\n      <td>Lisbon_1</td>\n      <td>0.0</td>\n      <td>46.00</td>\n      <td>2019</td>\n      <td>1</td>\n      <td>1</td>\n      <td>6</td>\n      <td>0</td>\n      <td>...</td>\n      <td>0.000</td>\n      <td>0.017</td>\n      <td>1.0</td>\n      <td>0.5</td>\n      <td>0.866</td>\n      <td>7.7</td>\n      <td>0.0</td>\n      <td>0.0</td>\n      <td>0.0</td>\n      <td>Portugal</td>\n    </tr>\n    <tr>\n      <th>...</th>\n      <td>...</td>\n      <td>...</td>\n      <td>...</td>\n      <td>...</td>\n      <td>...</td>\n      <td>...</td>\n      <td>...</td>\n      <td>...</td>\n      <td>...</td>\n      <td>...</td>\n      <td>...</td>\n      <td>...</td>\n      <td>...</td>\n      <td>...</td>\n      <td>...</td>\n      <td>...</td>\n      <td>...</td>\n      <td>...</td>\n      <td>...</td>\n      <td>...</td>\n      <td>...</td>\n    </tr>\n    <tr>\n      <th>140243</th>\n      <td>2022-12-31 19:00:00</td>\n      <td>73061935</td>\n      <td>Loule</td>\n      <td>0.0</td>\n      <td>46.25</td>\n      <td>2022</td>\n      <td>12</td>\n      <td>31</td>\n      <td>19</td>\n      <td>0</td>\n      <td>...</td>\n      <td>0.259</td>\n      <td>0.000</td>\n      <td>1.0</td>\n      <td>-0.0</td>\n      <td>1.000</td>\n      <td>14.8</td>\n      <td>0.0</td>\n      <td>0.0</td>\n      <td>0.0</td>\n      <td>Portugal</td>\n    </tr>\n    <tr>\n      <th>140244</th>\n      <td>2022-12-31 20:00:00</td>\n      <td>73061935</td>\n      <td>Loule</td>\n      <td>0.0</td>\n      <td>46.25</td>\n      <td>2022</td>\n      <td>12</td>\n      <td>31</td>\n      <td>20</td>\n      <td>0</td>\n      <td>...</td>\n      <td>0.500</td>\n      <td>0.000</td>\n      <td>1.0</td>\n      <td>-0.0</td>\n      <td>1.000</td>\n      <td>14.7</td>\n      <td>0.0</td>\n      <td>0.0</td>\n      <td>0.0</td>\n      <td>Portugal</td>\n    </tr>\n    <tr>\n      <th>140245</th>\n      <td>2022-12-31 21:00:00</td>\n      <td>73061935</td>\n      <td>Loule</td>\n      <td>0.0</td>\n      <td>46.25</td>\n      <td>2022</td>\n      <td>12</td>\n      <td>31</td>\n      <td>21</td>\n      <td>0</td>\n      <td>...</td>\n      <td>0.707</td>\n      <td>0.000</td>\n      <td>1.0</td>\n      <td>-0.0</td>\n      <td>1.000</td>\n      <td>14.9</td>\n      <td>0.0</td>\n      <td>0.0</td>\n      <td>0.0</td>\n      <td>Portugal</td>\n    </tr>\n    <tr>\n      <th>140246</th>\n      <td>2022-12-31 22:00:00</td>\n      <td>73061935</td>\n      <td>Loule</td>\n      <td>0.0</td>\n      <td>46.25</td>\n      <td>2022</td>\n      <td>12</td>\n      <td>31</td>\n      <td>22</td>\n      <td>0</td>\n      <td>...</td>\n      <td>0.866</td>\n      <td>0.000</td>\n      <td>1.0</td>\n      <td>-0.0</td>\n      <td>1.000</td>\n      <td>14.9</td>\n      <td>0.0</td>\n      <td>0.0</td>\n      <td>0.0</td>\n      <td>Portugal</td>\n    </tr>\n    <tr>\n      <th>140247</th>\n      <td>2022-12-31 23:00:00</td>\n      <td>73061935</td>\n      <td>Loule</td>\n      <td>0.0</td>\n      <td>46.25</td>\n      <td>2022</td>\n      <td>12</td>\n      <td>31</td>\n      <td>23</td>\n      <td>0</td>\n      <td>...</td>\n      <td>0.966</td>\n      <td>0.000</td>\n      <td>1.0</td>\n      <td>-0.0</td>\n      <td>1.000</td>\n      <td>14.9</td>\n      <td>0.0</td>\n      <td>0.0</td>\n      <td>0.0</td>\n      <td>Portugal</td>\n    </tr>\n  </tbody>\n</table>\n<p>315549 rows × 50 columns</p>\n</div>"
     },
     "execution_count": 31,
     "metadata": {},
     "output_type": "execute_result"
    }
   ],
   "source": [
    "portugal_df_featured = portugal_combined_with_pvgis.copy()\n",
    "\n",
    "portugal_df_featured[\"datetime\"] = pd.to_datetime(portugal_df_featured[[\"year\", \"month\", \"day\", \"hour\", \"minute\"]])\n",
    "portugal_df_featured[\"serial\"] = portugal_df_featured[\"serial\"].astype(str)\n",
    "portugal_df_featured[\"day_of_year\"] = portugal_df_featured[\"datetime\"].dt.dayofyear\n",
    "\n",
    "portugal_df_featured = add_solar_position(portugal_df_featured, metadata_pt)\n",
    "\n",
    "portugal_df_featured = add_poa_irradiance(portugal_df_featured, metadata_pt)\n",
    "portugal_df_featured = add_lagged_features(portugal_df_featured, \"poa\", hours_before=1, hours_after=0, serial_col='serial', datetime_col='datetime')\n",
    "\n",
    "portugal_df_featured = add_clear_sky_index(portugal_df_featured, metadata_pt)\n",
    "portugal_df_featured = add_lagged_features(portugal_df_featured, \"cloud_cover\", hours_before=1, hours_after=0, serial_col='serial', datetime_col='datetime')\n",
    "portugal_df_featured = add_moving_average(portugal_df_featured, \"cloud_cover\", \"datetime\", 3, metadata_pt)\n",
    "\n",
    "portugal_df_featured = add_joules_hourly(portugal_df_featured, 'shortwave_radiation')\n",
    "\n",
    "portugal_df_featured = add_cyclic_encoding(portugal_df_featured, 'hour', 24, decimals=3)\n",
    "portugal_df_featured = add_cyclic_encoding(portugal_df_featured, 'day_of_year', 365, decimals=3)\n",
    "portugal_df_featured = add_cyclic_encoding(portugal_df_featured, 'month', 12, decimals=3)\n",
    "\n",
    "portugal_df_featured[\"cell_temp\"] = calculate_cell_temperature(portugal_df_featured['poa'], portugal_df_featured['temperature_2m'], portugal_df_featured['wind_speed_10m'], decimals=2)\n",
    "\n",
    "portugal_df_featured = add_physical_model_prediction(portugal_df_featured, 'poa', 'cell_temp', 'kwp', 0.96)\n",
    "\n",
    "portugal_df_featured = add_relative_output(portugal_df_featured, \"produced energy\", \"kwp\")\n",
    "\n",
    "portugal_df_featured = add_region(portugal_df_featured, \"Portugal\")\n",
    "\n",
    "\n",
    "portugal_df_featured"
   ],
   "metadata": {
    "collapsed": false,
    "ExecuteTime": {
     "end_time": "2025-01-24T15:18:31.137659Z",
     "start_time": "2025-01-24T15:18:25.607744Z"
    }
   },
   "id": "839d57136ee053a",
   "execution_count": 31
  },
  {
   "cell_type": "markdown",
   "source": [
    "## UK Open Climate Fix"
   ],
   "metadata": {
    "collapsed": false
   },
   "id": "b4fe0f9c180814b1"
  },
  {
   "cell_type": "code",
   "outputs": [
    {
     "name": "stdout",
     "output_type": "stream",
     "text": [
      "serial                    3062\n",
      "latitude                 53.87\n",
      "longitude                 -3.0\n",
      "llsoacd              E01025577\n",
      "azimuth                  175.0\n",
      "tilt                      40.0\n",
      "kwp                        4.0\n",
      "operational_date    2011-11-02\n",
      "Name: 0, dtype: object\n",
      "serial                    3800\n",
      "latitude                 52.32\n",
      "longitude                  0.5\n",
      "llsoacd              E01029945\n",
      "azimuth                  180.0\n",
      "tilt                      18.0\n",
      "kwp                      49.82\n",
      "operational_date    2012-01-18\n",
      "Name: 1, dtype: object\n",
      "serial                    7115\n",
      "latitude                 54.87\n",
      "longitude                -1.44\n",
      "llsoacd              E01008772\n",
      "azimuth                  180.0\n",
      "tilt                      30.0\n",
      "kwp                       3.92\n",
      "operational_date    2013-03-17\n",
      "Name: 2, dtype: object\n",
      "serial                    7497\n",
      "latitude                 50.19\n",
      "longitude                 -5.3\n",
      "llsoacd              E01018872\n",
      "azimuth                  245.0\n",
      "tilt                      10.0\n",
      "kwp                      49.35\n",
      "operational_date    2013-04-09\n",
      "Name: 3, dtype: object\n",
      "serial                    8712\n",
      "latitude                 52.83\n",
      "longitude                -0.04\n",
      "llsoacd              E01026283\n",
      "azimuth                  180.0\n",
      "tilt                      20.0\n",
      "kwp                      199.5\n",
      "operational_date    2013-12-04\n",
      "Name: 4, dtype: object\n",
      "serial                    9992\n",
      "latitude                 53.31\n",
      "longitude                -3.46\n",
      "llsoacd              W01000229\n",
      "azimuth                  207.0\n",
      "tilt                      25.0\n",
      "kwp                       3.92\n",
      "operational_date    2014-01-30\n",
      "Name: 5, dtype: object\n",
      "serial                   10618\n",
      "latitude                 52.02\n",
      "longitude                -0.79\n",
      "llsoacd              E01033505\n",
      "azimuth                  130.0\n",
      "tilt                      15.0\n",
      "kwp                       59.0\n",
      "operational_date    2014-06-24\n",
      "Name: 6, dtype: object\n",
      "serial                   17446\n",
      "latitude                 50.92\n",
      "longitude                -1.46\n",
      "llsoacd              E01017239\n",
      "azimuth                   45.0\n",
      "tilt                      10.0\n",
      "kwp                     55.125\n",
      "operational_date    2015-06-09\n",
      "Name: 7, dtype: object\n",
      "serial                   19064\n",
      "latitude                 51.74\n",
      "longitude                 0.53\n",
      "llsoacd              E01021568\n",
      "azimuth                  270.0\n",
      "tilt                       5.0\n",
      "kwp                      126.0\n",
      "operational_date    2015-09-10\n",
      "Name: 8, dtype: object\n",
      "serial                   23524\n",
      "latitude                 51.61\n",
      "longitude                 0.23\n",
      "llsoacd              E01002281\n",
      "azimuth                  180.0\n",
      "tilt                      25.0\n",
      "kwp                      155.0\n",
      "operational_date    2016-11-17\n",
      "Name: 9, dtype: object\n",
      "serial                   24696\n",
      "latitude                 53.62\n",
      "longitude                -0.21\n",
      "llsoacd              E01013176\n",
      "azimuth                  180.0\n",
      "tilt                      30.0\n",
      "kwp                      91.26\n",
      "operational_date    2016-11-17\n",
      "Name: 10, dtype: object\n",
      "serial                   24865\n",
      "latitude                 51.16\n",
      "longitude                 0.43\n",
      "llsoacd              E01024794\n",
      "azimuth                  180.0\n",
      "tilt                      20.0\n",
      "kwp                      215.0\n",
      "operational_date    2016-11-17\n",
      "Name: 11, dtype: object\n",
      "serial                   24962\n",
      "latitude                 51.21\n",
      "longitude                 1.27\n",
      "llsoacd              E01024205\n",
      "azimuth                  118.0\n",
      "tilt                      15.0\n",
      "kwp                      138.0\n",
      "operational_date    2016-11-17\n",
      "Name: 12, dtype: object\n",
      "serial                   24964\n",
      "latitude                 51.41\n",
      "longitude                 0.13\n",
      "llsoacd              E01000728\n",
      "azimuth                  157.0\n",
      "tilt                      20.0\n",
      "kwp                       77.0\n",
      "operational_date    2016-11-18\n",
      "Name: 13, dtype: object\n",
      "serial                   26754\n",
      "latitude                 55.96\n",
      "longitude                -3.47\n",
      "llsoacd              S00134485\n",
      "azimuth                  121.0\n",
      "tilt                      30.0\n",
      "kwp                        3.5\n",
      "operational_date    2016-11-17\n",
      "Name: 14, dtype: object\n"
     ]
    },
    {
     "data": {
      "text/plain": "                  datetime serial  produced energy  kwp  year  month  day  \\\n371296 2011-11-02 02:00:00   3062              0.0  4.0  2011     11    2   \n371297 2011-11-02 03:00:00   3062              0.0  4.0  2011     11    2   \n371298 2011-11-02 04:00:00   3062              0.0  4.0  2011     11    2   \n371299 2011-11-02 05:00:00   3062              0.0  4.0  2011     11    2   \n371300 2011-11-02 06:00:00   3062              0.0  4.0  2011     11    2   \n...                    ...    ...              ...  ...   ...    ...  ...   \n371290 2021-09-30 19:00:00  26754              0.0  3.5  2021      9   30   \n371291 2021-09-30 20:00:00  26754              0.0  3.5  2021      9   30   \n371292 2021-09-30 21:00:00  26754              0.0  3.5  2021      9   30   \n371293 2021-09-30 22:00:00  26754              0.0  3.5  2021      9   30   \n371294 2021-09-30 23:00:00  26754              0.0  3.5  2021      9   30   \n\n        hour  minute  temperature_2m  ...  day_of_year  day_of_year_sin  \\\n371296     2       0             9.2  ...          306            -0.85   \n371297     3       0             9.3  ...          306            -0.85   \n371298     4       0             9.4  ...          306            -0.85   \n371299     5       0             9.7  ...          306            -0.85   \n371300     6       0            10.1  ...          306            -0.85   \n...      ...     ...             ...  ...          ...              ...   \n371290    19       0            12.1  ...          273            -1.00   \n371291    20       0            11.7  ...          273            -1.00   \n371292    21       0            11.5  ...          273            -1.00   \n371293    22       0            11.6  ...          273            -1.00   \n371294    23       0            11.2  ...          273            -1.00   \n\n        day_of_year_cos  month_sin  month_cos  cell_temp  \\\n371296            0.527       -0.5      0.866        9.2   \n371297            0.527       -0.5      0.866        9.3   \n371298            0.527       -0.5      0.866        9.4   \n371299            0.527       -0.5      0.866        9.7   \n371300            0.527       -0.5      0.866       10.1   \n...                 ...        ...        ...        ...   \n371290           -0.013       -1.0     -0.000       12.1   \n371291           -0.013       -1.0     -0.000       11.7   \n371292           -0.013       -1.0     -0.000       11.5   \n371293           -0.013       -1.0     -0.000       11.6   \n371294           -0.013       -1.0     -0.000       11.2   \n\n        physical_model_prediction  relative_physical_model_prediction  \\\n371296                        0.0                                 0.0   \n371297                        0.0                                 0.0   \n371298                        0.0                                 0.0   \n371299                        0.0                                 0.0   \n371300                        0.0                                 0.0   \n...                           ...                                 ...   \n371290                        0.0                                 0.0   \n371291                        0.0                                 0.0   \n371292                        0.0                                 0.0   \n371293                        0.0                                 0.0   \n371294                        0.0                                 0.0   \n\n        relative_output  region  \n371296              0.0      UK  \n371297              0.0      UK  \n371298              0.0      UK  \n371299              0.0      UK  \n371300              0.0      UK  \n...                 ...     ...  \n371290              0.0      UK  \n371291              0.0      UK  \n371292              0.0      UK  \n371293              0.0      UK  \n371294              0.0      UK  \n\n[803104 rows x 49 columns]",
      "text/html": "<div>\n<style scoped>\n    .dataframe tbody tr th:only-of-type {\n        vertical-align: middle;\n    }\n\n    .dataframe tbody tr th {\n        vertical-align: top;\n    }\n\n    .dataframe thead th {\n        text-align: right;\n    }\n</style>\n<table border=\"1\" class=\"dataframe\">\n  <thead>\n    <tr style=\"text-align: right;\">\n      <th></th>\n      <th>datetime</th>\n      <th>serial</th>\n      <th>produced energy</th>\n      <th>kwp</th>\n      <th>year</th>\n      <th>month</th>\n      <th>day</th>\n      <th>hour</th>\n      <th>minute</th>\n      <th>temperature_2m</th>\n      <th>...</th>\n      <th>day_of_year</th>\n      <th>day_of_year_sin</th>\n      <th>day_of_year_cos</th>\n      <th>month_sin</th>\n      <th>month_cos</th>\n      <th>cell_temp</th>\n      <th>physical_model_prediction</th>\n      <th>relative_physical_model_prediction</th>\n      <th>relative_output</th>\n      <th>region</th>\n    </tr>\n  </thead>\n  <tbody>\n    <tr>\n      <th>371296</th>\n      <td>2011-11-02 02:00:00</td>\n      <td>3062</td>\n      <td>0.0</td>\n      <td>4.0</td>\n      <td>2011</td>\n      <td>11</td>\n      <td>2</td>\n      <td>2</td>\n      <td>0</td>\n      <td>9.2</td>\n      <td>...</td>\n      <td>306</td>\n      <td>-0.85</td>\n      <td>0.527</td>\n      <td>-0.5</td>\n      <td>0.866</td>\n      <td>9.2</td>\n      <td>0.0</td>\n      <td>0.0</td>\n      <td>0.0</td>\n      <td>UK</td>\n    </tr>\n    <tr>\n      <th>371297</th>\n      <td>2011-11-02 03:00:00</td>\n      <td>3062</td>\n      <td>0.0</td>\n      <td>4.0</td>\n      <td>2011</td>\n      <td>11</td>\n      <td>2</td>\n      <td>3</td>\n      <td>0</td>\n      <td>9.3</td>\n      <td>...</td>\n      <td>306</td>\n      <td>-0.85</td>\n      <td>0.527</td>\n      <td>-0.5</td>\n      <td>0.866</td>\n      <td>9.3</td>\n      <td>0.0</td>\n      <td>0.0</td>\n      <td>0.0</td>\n      <td>UK</td>\n    </tr>\n    <tr>\n      <th>371298</th>\n      <td>2011-11-02 04:00:00</td>\n      <td>3062</td>\n      <td>0.0</td>\n      <td>4.0</td>\n      <td>2011</td>\n      <td>11</td>\n      <td>2</td>\n      <td>4</td>\n      <td>0</td>\n      <td>9.4</td>\n      <td>...</td>\n      <td>306</td>\n      <td>-0.85</td>\n      <td>0.527</td>\n      <td>-0.5</td>\n      <td>0.866</td>\n      <td>9.4</td>\n      <td>0.0</td>\n      <td>0.0</td>\n      <td>0.0</td>\n      <td>UK</td>\n    </tr>\n    <tr>\n      <th>371299</th>\n      <td>2011-11-02 05:00:00</td>\n      <td>3062</td>\n      <td>0.0</td>\n      <td>4.0</td>\n      <td>2011</td>\n      <td>11</td>\n      <td>2</td>\n      <td>5</td>\n      <td>0</td>\n      <td>9.7</td>\n      <td>...</td>\n      <td>306</td>\n      <td>-0.85</td>\n      <td>0.527</td>\n      <td>-0.5</td>\n      <td>0.866</td>\n      <td>9.7</td>\n      <td>0.0</td>\n      <td>0.0</td>\n      <td>0.0</td>\n      <td>UK</td>\n    </tr>\n    <tr>\n      <th>371300</th>\n      <td>2011-11-02 06:00:00</td>\n      <td>3062</td>\n      <td>0.0</td>\n      <td>4.0</td>\n      <td>2011</td>\n      <td>11</td>\n      <td>2</td>\n      <td>6</td>\n      <td>0</td>\n      <td>10.1</td>\n      <td>...</td>\n      <td>306</td>\n      <td>-0.85</td>\n      <td>0.527</td>\n      <td>-0.5</td>\n      <td>0.866</td>\n      <td>10.1</td>\n      <td>0.0</td>\n      <td>0.0</td>\n      <td>0.0</td>\n      <td>UK</td>\n    </tr>\n    <tr>\n      <th>...</th>\n      <td>...</td>\n      <td>...</td>\n      <td>...</td>\n      <td>...</td>\n      <td>...</td>\n      <td>...</td>\n      <td>...</td>\n      <td>...</td>\n      <td>...</td>\n      <td>...</td>\n      <td>...</td>\n      <td>...</td>\n      <td>...</td>\n      <td>...</td>\n      <td>...</td>\n      <td>...</td>\n      <td>...</td>\n      <td>...</td>\n      <td>...</td>\n      <td>...</td>\n      <td>...</td>\n    </tr>\n    <tr>\n      <th>371290</th>\n      <td>2021-09-30 19:00:00</td>\n      <td>26754</td>\n      <td>0.0</td>\n      <td>3.5</td>\n      <td>2021</td>\n      <td>9</td>\n      <td>30</td>\n      <td>19</td>\n      <td>0</td>\n      <td>12.1</td>\n      <td>...</td>\n      <td>273</td>\n      <td>-1.00</td>\n      <td>-0.013</td>\n      <td>-1.0</td>\n      <td>-0.000</td>\n      <td>12.1</td>\n      <td>0.0</td>\n      <td>0.0</td>\n      <td>0.0</td>\n      <td>UK</td>\n    </tr>\n    <tr>\n      <th>371291</th>\n      <td>2021-09-30 20:00:00</td>\n      <td>26754</td>\n      <td>0.0</td>\n      <td>3.5</td>\n      <td>2021</td>\n      <td>9</td>\n      <td>30</td>\n      <td>20</td>\n      <td>0</td>\n      <td>11.7</td>\n      <td>...</td>\n      <td>273</td>\n      <td>-1.00</td>\n      <td>-0.013</td>\n      <td>-1.0</td>\n      <td>-0.000</td>\n      <td>11.7</td>\n      <td>0.0</td>\n      <td>0.0</td>\n      <td>0.0</td>\n      <td>UK</td>\n    </tr>\n    <tr>\n      <th>371292</th>\n      <td>2021-09-30 21:00:00</td>\n      <td>26754</td>\n      <td>0.0</td>\n      <td>3.5</td>\n      <td>2021</td>\n      <td>9</td>\n      <td>30</td>\n      <td>21</td>\n      <td>0</td>\n      <td>11.5</td>\n      <td>...</td>\n      <td>273</td>\n      <td>-1.00</td>\n      <td>-0.013</td>\n      <td>-1.0</td>\n      <td>-0.000</td>\n      <td>11.5</td>\n      <td>0.0</td>\n      <td>0.0</td>\n      <td>0.0</td>\n      <td>UK</td>\n    </tr>\n    <tr>\n      <th>371293</th>\n      <td>2021-09-30 22:00:00</td>\n      <td>26754</td>\n      <td>0.0</td>\n      <td>3.5</td>\n      <td>2021</td>\n      <td>9</td>\n      <td>30</td>\n      <td>22</td>\n      <td>0</td>\n      <td>11.6</td>\n      <td>...</td>\n      <td>273</td>\n      <td>-1.00</td>\n      <td>-0.013</td>\n      <td>-1.0</td>\n      <td>-0.000</td>\n      <td>11.6</td>\n      <td>0.0</td>\n      <td>0.0</td>\n      <td>0.0</td>\n      <td>UK</td>\n    </tr>\n    <tr>\n      <th>371294</th>\n      <td>2021-09-30 23:00:00</td>\n      <td>26754</td>\n      <td>0.0</td>\n      <td>3.5</td>\n      <td>2021</td>\n      <td>9</td>\n      <td>30</td>\n      <td>23</td>\n      <td>0</td>\n      <td>11.2</td>\n      <td>...</td>\n      <td>273</td>\n      <td>-1.00</td>\n      <td>-0.013</td>\n      <td>-1.0</td>\n      <td>-0.000</td>\n      <td>11.2</td>\n      <td>0.0</td>\n      <td>0.0</td>\n      <td>0.0</td>\n      <td>UK</td>\n    </tr>\n  </tbody>\n</table>\n<p>803104 rows × 49 columns</p>\n</div>"
     },
     "execution_count": 32,
     "metadata": {},
     "output_type": "execute_result"
    }
   ],
   "source": [
    "uk_df_featured = uk_open_climate_fix_with_pvgis.copy()\n",
    "\n",
    "uk_df_featured[\"datetime\"] = pd.to_datetime(uk_df_featured[[\"year\", \"month\", \"day\", \"hour\", \"minute\"]])\n",
    "uk_df_featured[\"serial\"] = uk_df_featured[\"serial\"].astype(str)\n",
    "\n",
    "uk_df_featured = add_solar_position(uk_df_featured, metadata_uk)\n",
    "uk_df_featured = add_poa_irradiance(uk_df_featured, metadata_uk)\n",
    "uk_df_featured = add_lagged_features(uk_df_featured, \"poa\", hours_before=1, hours_after=0, serial_col='serial', datetime_col='datetime')\n",
    "\n",
    "uk_df_featured = add_clear_sky_index(uk_df_featured, metadata_uk)\n",
    "uk_df_featured = add_lagged_features(uk_df_featured, \"cloud_cover\", hours_before=1, hours_after=0, serial_col='serial', datetime_col='datetime')\n",
    "uk_df_featured = add_moving_average(uk_df_featured, \"cloud_cover\", \"datetime\", 3, metadata_uk)\n",
    "\n",
    "uk_df_featured = add_joules_hourly(uk_df_featured, 'shortwave_radiation')\n",
    "\n",
    "uk_df_featured = add_cyclic_encoding(uk_df_featured, 'hour', 24, decimals=3)\n",
    "uk_df_featured[\"day_of_year\"] = uk_df_featured[\"datetime\"].dt.dayofyear\n",
    "uk_df_featured = add_cyclic_encoding(uk_df_featured, 'day_of_year', 365, decimals=3)\n",
    "uk_df_featured = add_cyclic_encoding(uk_df_featured, 'month', 12, decimals=3)\n",
    "\n",
    "uk_df_featured[\"cell_temp\"] = calculate_cell_temperature(uk_df_featured['poa'], uk_df_featured['temperature_2m'], uk_df_featured['wind_speed_10m'], decimals=2)\n",
    "\n",
    "uk_df_featured = add_physical_model_prediction(uk_df_featured, 'poa', 'cell_temp', 'kwp', 0.96)\n",
    "\n",
    "uk_df_featured = add_relative_output(uk_df_featured, \"produced energy\", \"kwp\")\n",
    "\n",
    "uk_df_featured = add_region(uk_df_featured, \"UK\")\n",
    "uk_df_featured"
   ],
   "metadata": {
    "collapsed": false,
    "ExecuteTime": {
     "end_time": "2025-01-24T15:18:43.059980Z",
     "start_time": "2025-01-24T15:18:31.139842Z"
    }
   },
   "id": "e2ac6537d0193049",
   "execution_count": 32
  },
  {
   "cell_type": "code",
   "outputs": [],
   "source": [
    "portugal_df_featured.to_csv(\"data/PortugalPhotovoltaicDataset/dataset_feature_engineering.csv\", index=False)"
   ],
   "metadata": {
    "collapsed": false,
    "ExecuteTime": {
     "end_time": "2025-01-24T15:18:48.696592Z",
     "start_time": "2025-01-24T15:18:43.110121Z"
    }
   },
   "id": "7d19bc619532b94d",
   "execution_count": 33
  },
  {
   "cell_type": "code",
   "outputs": [],
   "source": [
    "uk_df_featured.to_csv(\"data/UKOpenClimateFix/dataset_feature_engineering.csv\", index=False)"
   ],
   "metadata": {
    "collapsed": false,
    "ExecuteTime": {
     "end_time": "2025-01-24T15:19:02.559903Z",
     "start_time": "2025-01-24T15:18:48.700356Z"
    }
   },
   "id": "e41aaec39669c6a3",
   "execution_count": 34
  },
  {
   "cell_type": "code",
   "outputs": [],
   "source": [],
   "metadata": {
    "collapsed": false
   },
   "id": "4d465733f057ce04"
  }
 ],
 "metadata": {
  "kernelspec": {
   "display_name": "Python 3",
   "language": "python",
   "name": "python3"
  },
  "language_info": {
   "codemirror_mode": {
    "name": "ipython",
    "version": 2
   },
   "file_extension": ".py",
   "mimetype": "text/x-python",
   "name": "python",
   "nbconvert_exporter": "python",
   "pygments_lexer": "ipython2",
   "version": "2.7.6"
  }
 },
 "nbformat": 4,
 "nbformat_minor": 5
}
